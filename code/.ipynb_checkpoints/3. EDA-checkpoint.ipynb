{
 "cells": [
  {
   "cell_type": "markdown",
   "id": "eacb8648",
   "metadata": {},
   "source": [
    "## 3. Exploratory Data Analysis (EDA)\n",
    "\n",
    "In this notebook, I will be taking a closer look at the mangalists that were scrapped."
   ]
  },
  {
   "cell_type": "code",
   "execution_count": 25,
   "id": "7a8680a0",
   "metadata": {},
   "outputs": [],
   "source": [
    "import pandas as pd\n",
    "import matplotlib.pyplot as plt"
   ]
  },
  {
   "cell_type": "code",
   "execution_count": 26,
   "id": "91684546",
   "metadata": {},
   "outputs": [],
   "source": [
    "reading_df_1 = pd.read_csv('../data/reading_ratings_part1.csv')\n",
    "reading_df_2 = pd.read_csv('../data/reading_ratings_part2.csv')\n",
    "reading_df = pd.concat(objs = [reading_df_1,reading_df_2])"
   ]
  },
  {
   "cell_type": "code",
   "execution_count": 27,
   "id": "ff7ce8bf",
   "metadata": {},
   "outputs": [
    {
     "data": {
      "text/html": [
       "<div>\n",
       "<style scoped>\n",
       "    .dataframe tbody tr th:only-of-type {\n",
       "        vertical-align: middle;\n",
       "    }\n",
       "\n",
       "    .dataframe tbody tr th {\n",
       "        vertical-align: top;\n",
       "    }\n",
       "\n",
       "    .dataframe thead th {\n",
       "        text-align: right;\n",
       "    }\n",
       "</style>\n",
       "<table border=\"1\" class=\"dataframe\">\n",
       "  <thead>\n",
       "    <tr style=\"text-align: right;\">\n",
       "      <th></th>\n",
       "      <th>user</th>\n",
       "      <th>item</th>\n",
       "      <th>rating</th>\n",
       "    </tr>\n",
       "  </thead>\n",
       "  <tbody>\n",
       "    <tr>\n",
       "      <th>165869</th>\n",
       "      <td>___Yuki___</td>\n",
       "      <td>Houkago wa Kissaten de</td>\n",
       "      <td>0</td>\n",
       "    </tr>\n",
       "    <tr>\n",
       "      <th>165870</th>\n",
       "      <td>___Yuki___</td>\n",
       "      <td>Ore no Kanojo to Osananajimi ga Shuraba sugiru</td>\n",
       "      <td>0</td>\n",
       "    </tr>\n",
       "    <tr>\n",
       "      <th>165871</th>\n",
       "      <td>___Yuki___</td>\n",
       "      <td>Overlord</td>\n",
       "      <td>0</td>\n",
       "    </tr>\n",
       "    <tr>\n",
       "      <th>165872</th>\n",
       "      <td>___Yuki___</td>\n",
       "      <td>Tsurezure Children</td>\n",
       "      <td>0</td>\n",
       "    </tr>\n",
       "    <tr>\n",
       "      <th>165873</th>\n",
       "      <td>___Yuki___</td>\n",
       "      <td>Under Ninja</td>\n",
       "      <td>0</td>\n",
       "    </tr>\n",
       "  </tbody>\n",
       "</table>\n",
       "</div>"
      ],
      "text/plain": [
       "              user                                            item  rating\n",
       "165869  ___Yuki___                          Houkago wa Kissaten de       0\n",
       "165870  ___Yuki___  Ore no Kanojo to Osananajimi ga Shuraba sugiru       0\n",
       "165871  ___Yuki___                                        Overlord       0\n",
       "165872  ___Yuki___                              Tsurezure Children       0\n",
       "165873  ___Yuki___                                     Under Ninja       0"
      ]
     },
     "execution_count": 27,
     "metadata": {},
     "output_type": "execute_result"
    }
   ],
   "source": [
    "reading_df.tail()"
   ]
  },
  {
   "cell_type": "code",
   "execution_count": 28,
   "id": "68d34af0",
   "metadata": {},
   "outputs": [
    {
     "name": "stdout",
     "output_type": "stream",
     "text": [
      "<class 'pandas.core.frame.DataFrame'>\n",
      "Int64Index: 1165874 entries, 0 to 165873\n",
      "Data columns (total 3 columns):\n",
      " #   Column  Non-Null Count    Dtype \n",
      "---  ------  --------------    ----- \n",
      " 0   user    1165874 non-null  object\n",
      " 1   item    1165874 non-null  object\n",
      " 2   rating  1165874 non-null  int64 \n",
      "dtypes: int64(1), object(2)\n",
      "memory usage: 35.6+ MB\n"
     ]
    }
   ],
   "source": [
    "reading_df.info()"
   ]
  },
  {
   "cell_type": "code",
   "execution_count": 29,
   "id": "588b0f5c",
   "metadata": {},
   "outputs": [
    {
     "data": {
      "text/plain": [
       "user      16463\n",
       "item      32363\n",
       "rating       11\n",
       "dtype: int64"
      ]
     },
     "execution_count": 29,
     "metadata": {},
     "output_type": "execute_result"
    }
   ],
   "source": [
    "reading_df.nunique()"
   ]
  },
  {
   "cell_type": "code",
   "execution_count": 30,
   "id": "842e1566",
   "metadata": {},
   "outputs": [
    {
     "data": {
      "text/plain": [
       "(array([631704.,   2261.,   2602.,   4752.,  10904.,  29321.,  61399.,\n",
       "        123672., 134463., 164796.]),\n",
       " array([ 0.,  1.,  2.,  3.,  4.,  5.,  6.,  7.,  8.,  9., 10.]),\n",
       " <BarContainer object of 10 artists>)"
      ]
     },
     "execution_count": 30,
     "metadata": {},
     "output_type": "execute_result"
    },
    {
     "data": {
      "image/png": "[encoded data removed]",
      "text/plain": [
       "<Figure size 432x288 with 1 Axes>"
      ]
     },
     "metadata": {
      "needs_background": "light"
     },
     "output_type": "display_data"
    }
   ],
   "source": [
    "plt.hist(reading_df['rating'])"
   ]
  },
  {
   "cell_type": "markdown",
   "id": "2b66867a",
   "metadata": {},
   "source": [
    "**Observation:** There is an unsually high number of 0 ratings. More than 600K out of the around 1.2M ratings. These are not missing ratings but rather the users actually gave those manga titles a 0 score."
   ]
  },
  {
   "cell_type": "code",
   "execution_count": 31,
   "id": "89af11c5",
   "metadata": {},
   "outputs": [
    {
     "data": {
      "text/html": [
       "<div>\n",
       "<style scoped>\n",
       "    .dataframe tbody tr th:only-of-type {\n",
       "        vertical-align: middle;\n",
       "    }\n",
       "\n",
       "    .dataframe tbody tr th {\n",
       "        vertical-align: top;\n",
       "    }\n",
       "\n",
       "    .dataframe thead th {\n",
       "        text-align: right;\n",
       "    }\n",
       "</style>\n",
       "<table border=\"1\" class=\"dataframe\">\n",
       "  <thead>\n",
       "    <tr style=\"text-align: right;\">\n",
       "      <th></th>\n",
       "      <th>rating</th>\n",
       "    </tr>\n",
       "    <tr>\n",
       "      <th>item</th>\n",
       "      <th></th>\n",
       "    </tr>\n",
       "  </thead>\n",
       "  <tbody>\n",
       "    <tr>\n",
       "      <th>Shingeki no Kyojin</th>\n",
       "      <td>28356</td>\n",
       "    </tr>\n",
       "    <tr>\n",
       "      <th>Naruto</th>\n",
       "      <td>23162</td>\n",
       "    </tr>\n",
       "    <tr>\n",
       "      <th>Tokyo Ghoul</th>\n",
       "      <td>22948</td>\n",
       "    </tr>\n",
       "    <tr>\n",
       "      <th>One Piece</th>\n",
       "      <td>22654</td>\n",
       "    </tr>\n",
       "    <tr>\n",
       "      <th>Koe no Katachi</th>\n",
       "      <td>22475</td>\n",
       "    </tr>\n",
       "    <tr>\n",
       "      <th>Berserk</th>\n",
       "      <td>21323</td>\n",
       "    </tr>\n",
       "    <tr>\n",
       "      <th>Bleach</th>\n",
       "      <td>17986</td>\n",
       "    </tr>\n",
       "    <tr>\n",
       "      <th>One Punch-Man</th>\n",
       "      <td>17929</td>\n",
       "    </tr>\n",
       "    <tr>\n",
       "      <th>Death Note</th>\n",
       "      <td>17633</td>\n",
       "    </tr>\n",
       "    <tr>\n",
       "      <th>Chainsaw Man</th>\n",
       "      <td>17447</td>\n",
       "    </tr>\n",
       "    <tr>\n",
       "      <th>Solo Leveling</th>\n",
       "      <td>17115</td>\n",
       "    </tr>\n",
       "    <tr>\n",
       "      <th>Horimiya</th>\n",
       "      <td>15933</td>\n",
       "    </tr>\n",
       "    <tr>\n",
       "      <th>Fairy Tail</th>\n",
       "      <td>14943</td>\n",
       "    </tr>\n",
       "    <tr>\n",
       "      <th>Kimetsu no Yaiba</th>\n",
       "      <td>14506</td>\n",
       "    </tr>\n",
       "    <tr>\n",
       "      <th>Boku no Hero Academia</th>\n",
       "      <td>13692</td>\n",
       "    </tr>\n",
       "    <tr>\n",
       "      <th>Fullmetal Alchemist</th>\n",
       "      <td>13352</td>\n",
       "    </tr>\n",
       "    <tr>\n",
       "      <th>Nisekoi</th>\n",
       "      <td>12494</td>\n",
       "    </tr>\n",
       "    <tr>\n",
       "      <th>Oyasumi Punpun</th>\n",
       "      <td>12400</td>\n",
       "    </tr>\n",
       "    <tr>\n",
       "      <th>Tokyo Ghoul:re</th>\n",
       "      <td>11076</td>\n",
       "    </tr>\n",
       "    <tr>\n",
       "      <th>Shokugeki no Souma</th>\n",
       "      <td>10823</td>\n",
       "    </tr>\n",
       "  </tbody>\n",
       "</table>\n",
       "</div>"
      ],
      "text/plain": [
       "                       rating\n",
       "item                         \n",
       "Shingeki no Kyojin      28356\n",
       "Naruto                  23162\n",
       "Tokyo Ghoul             22948\n",
       "One Piece               22654\n",
       "Koe no Katachi          22475\n",
       "Berserk                 21323\n",
       "Bleach                  17986\n",
       "One Punch-Man           17929\n",
       "Death Note              17633\n",
       "Chainsaw Man            17447\n",
       "Solo Leveling           17115\n",
       "Horimiya                15933\n",
       "Fairy Tail              14943\n",
       "Kimetsu no Yaiba        14506\n",
       "Boku no Hero Academia   13692\n",
       "Fullmetal Alchemist     13352\n",
       "Nisekoi                 12494\n",
       "Oyasumi Punpun          12400\n",
       "Tokyo Ghoul:re          11076\n",
       "Shokugeki no Souma      10823"
      ]
     },
     "execution_count": 31,
     "metadata": {},
     "output_type": "execute_result"
    }
   ],
   "source": [
    "reading_df.groupby('item').sum().sort_values('rating',ascending=False).head(20)"
   ]
  },
  {
   "cell_type": "markdown",
   "id": "abf8c52f",
   "metadata": {},
   "source": [
    "**Data Shown:** The rating metric shown above is the sum of every rating in the data grouped by title. This number will be big if there are a large number of ratings and/or each rating is high. It helps to get a sense of which titles are popular and well regarded by the users.\n",
    "\n",
    "**Insight:** Using domain knowledge, I am able to confirm that all the titles in this list have seen mainstream success."
   ]
  },
  {
   "cell_type": "code",
   "execution_count": 32,
   "id": "a340ab6f",
   "metadata": {},
   "outputs": [
    {
     "data": {
      "text/html": [
       "<div>\n",
       "<style scoped>\n",
       "    .dataframe tbody tr th:only-of-type {\n",
       "        vertical-align: middle;\n",
       "    }\n",
       "\n",
       "    .dataframe tbody tr th {\n",
       "        vertical-align: top;\n",
       "    }\n",
       "\n",
       "    .dataframe thead th {\n",
       "        text-align: right;\n",
       "    }\n",
       "</style>\n",
       "<table border=\"1\" class=\"dataframe\">\n",
       "  <thead>\n",
       "    <tr style=\"text-align: right;\">\n",
       "      <th></th>\n",
       "      <th>user</th>\n",
       "      <th>rating</th>\n",
       "    </tr>\n",
       "    <tr>\n",
       "      <th>item</th>\n",
       "      <th></th>\n",
       "      <th></th>\n",
       "    </tr>\n",
       "  </thead>\n",
       "  <tbody>\n",
       "    <tr>\n",
       "      <th>Berserk</th>\n",
       "      <td>1503</td>\n",
       "      <td>1503</td>\n",
       "    </tr>\n",
       "    <tr>\n",
       "      <th>One Piece</th>\n",
       "      <td>1337</td>\n",
       "      <td>1337</td>\n",
       "    </tr>\n",
       "    <tr>\n",
       "      <th>Shingeki no Kyojin</th>\n",
       "      <td>970</td>\n",
       "      <td>970</td>\n",
       "    </tr>\n",
       "    <tr>\n",
       "      <th>Koe no Katachi</th>\n",
       "      <td>722</td>\n",
       "      <td>722</td>\n",
       "    </tr>\n",
       "    <tr>\n",
       "      <th>Oyasumi Punpun</th>\n",
       "      <td>714</td>\n",
       "      <td>714</td>\n",
       "    </tr>\n",
       "    <tr>\n",
       "      <th>Fullmetal Alchemist</th>\n",
       "      <td>700</td>\n",
       "      <td>700</td>\n",
       "    </tr>\n",
       "    <tr>\n",
       "      <th>Solo Leveling</th>\n",
       "      <td>663</td>\n",
       "      <td>663</td>\n",
       "    </tr>\n",
       "    <tr>\n",
       "      <th>Tokyo Ghoul</th>\n",
       "      <td>616</td>\n",
       "      <td>616</td>\n",
       "    </tr>\n",
       "    <tr>\n",
       "      <th>Death Note</th>\n",
       "      <td>608</td>\n",
       "      <td>608</td>\n",
       "    </tr>\n",
       "    <tr>\n",
       "      <th>Naruto</th>\n",
       "      <td>593</td>\n",
       "      <td>593</td>\n",
       "    </tr>\n",
       "    <tr>\n",
       "      <th>Vagabond</th>\n",
       "      <td>544</td>\n",
       "      <td>544</td>\n",
       "    </tr>\n",
       "    <tr>\n",
       "      <th>One Punch-Man</th>\n",
       "      <td>536</td>\n",
       "      <td>536</td>\n",
       "    </tr>\n",
       "    <tr>\n",
       "      <th>Chainsaw Man</th>\n",
       "      <td>440</td>\n",
       "      <td>440</td>\n",
       "    </tr>\n",
       "    <tr>\n",
       "      <th>Horimiya</th>\n",
       "      <td>422</td>\n",
       "      <td>422</td>\n",
       "    </tr>\n",
       "    <tr>\n",
       "      <th>Monster</th>\n",
       "      <td>400</td>\n",
       "      <td>400</td>\n",
       "    </tr>\n",
       "    <tr>\n",
       "      <th>Grand Blue</th>\n",
       "      <td>376</td>\n",
       "      <td>376</td>\n",
       "    </tr>\n",
       "    <tr>\n",
       "      <th>Fairy Tail</th>\n",
       "      <td>374</td>\n",
       "      <td>374</td>\n",
       "    </tr>\n",
       "    <tr>\n",
       "      <th>Vinland Saga</th>\n",
       "      <td>370</td>\n",
       "      <td>370</td>\n",
       "    </tr>\n",
       "    <tr>\n",
       "      <th>Bleach</th>\n",
       "      <td>354</td>\n",
       "      <td>354</td>\n",
       "    </tr>\n",
       "    <tr>\n",
       "      <th>JoJo no Kimyou na Bouken Part 7: Steel Ball Run</th>\n",
       "      <td>352</td>\n",
       "      <td>352</td>\n",
       "    </tr>\n",
       "  </tbody>\n",
       "</table>\n",
       "</div>"
      ],
      "text/plain": [
       "                                                 user  rating\n",
       "item                                                         \n",
       "Berserk                                          1503    1503\n",
       "One Piece                                        1337    1337\n",
       "Shingeki no Kyojin                                970     970\n",
       "Koe no Katachi                                    722     722\n",
       "Oyasumi Punpun                                    714     714\n",
       "Fullmetal Alchemist                               700     700\n",
       "Solo Leveling                                     663     663\n",
       "Tokyo Ghoul                                       616     616\n",
       "Death Note                                        608     608\n",
       "Naruto                                            593     593\n",
       "Vagabond                                          544     544\n",
       "One Punch-Man                                     536     536\n",
       "Chainsaw Man                                      440     440\n",
       "Horimiya                                          422     422\n",
       "Monster                                           400     400\n",
       "Grand Blue                                        376     376\n",
       "Fairy Tail                                        374     374\n",
       "Vinland Saga                                      370     370\n",
       "Bleach                                            354     354\n",
       "JoJo no Kimyou na Bouken Part 7: Steel Ball Run   352     352"
      ]
     },
     "execution_count": 32,
     "metadata": {},
     "output_type": "execute_result"
    }
   ],
   "source": [
    "reading_df[reading_df['rating'] == 10].groupby('item').count().sort_values('rating',ascending=False).head(20)"
   ]
  },
  {
   "cell_type": "code",
   "execution_count": 33,
   "id": "c02793b2",
   "metadata": {},
   "outputs": [
    {
     "data": {
      "text/html": [
       "<div>\n",
       "<style scoped>\n",
       "    .dataframe tbody tr th:only-of-type {\n",
       "        vertical-align: middle;\n",
       "    }\n",
       "\n",
       "    .dataframe tbody tr th {\n",
       "        vertical-align: top;\n",
       "    }\n",
       "\n",
       "    .dataframe thead th {\n",
       "        text-align: right;\n",
       "    }\n",
       "</style>\n",
       "<table border=\"1\" class=\"dataframe\">\n",
       "  <thead>\n",
       "    <tr style=\"text-align: right;\">\n",
       "      <th></th>\n",
       "      <th>user</th>\n",
       "      <th>rating</th>\n",
       "    </tr>\n",
       "    <tr>\n",
       "      <th>item</th>\n",
       "      <th></th>\n",
       "      <th></th>\n",
       "    </tr>\n",
       "  </thead>\n",
       "  <tbody>\n",
       "    <tr>\n",
       "      <th>Berserk</th>\n",
       "      <td>2747</td>\n",
       "      <td>2747</td>\n",
       "    </tr>\n",
       "    <tr>\n",
       "      <th>Oyasumi Punpun</th>\n",
       "      <td>2371</td>\n",
       "      <td>2371</td>\n",
       "    </tr>\n",
       "    <tr>\n",
       "      <th>Horimiya</th>\n",
       "      <td>2112</td>\n",
       "      <td>2112</td>\n",
       "    </tr>\n",
       "    <tr>\n",
       "      <th>One Punch-Man</th>\n",
       "      <td>1922</td>\n",
       "      <td>1922</td>\n",
       "    </tr>\n",
       "    <tr>\n",
       "      <th>Tokyo Ghoul</th>\n",
       "      <td>1887</td>\n",
       "      <td>1887</td>\n",
       "    </tr>\n",
       "    <tr>\n",
       "      <th>Shingeki no Kyojin</th>\n",
       "      <td>1881</td>\n",
       "      <td>1881</td>\n",
       "    </tr>\n",
       "    <tr>\n",
       "      <th>Vagabond</th>\n",
       "      <td>1872</td>\n",
       "      <td>1872</td>\n",
       "    </tr>\n",
       "    <tr>\n",
       "      <th>Boku no Hero Academia</th>\n",
       "      <td>1658</td>\n",
       "      <td>1658</td>\n",
       "    </tr>\n",
       "    <tr>\n",
       "      <th>Koe no Katachi</th>\n",
       "      <td>1621</td>\n",
       "      <td>1621</td>\n",
       "    </tr>\n",
       "    <tr>\n",
       "      <th>One Piece</th>\n",
       "      <td>1569</td>\n",
       "      <td>1569</td>\n",
       "    </tr>\n",
       "    <tr>\n",
       "      <th>20th Century Boys</th>\n",
       "      <td>1542</td>\n",
       "      <td>1542</td>\n",
       "    </tr>\n",
       "    <tr>\n",
       "      <th>Vinland Saga</th>\n",
       "      <td>1416</td>\n",
       "      <td>1416</td>\n",
       "    </tr>\n",
       "    <tr>\n",
       "      <th>Utsuro no Hako to Zero no Maria</th>\n",
       "      <td>1395</td>\n",
       "      <td>1395</td>\n",
       "    </tr>\n",
       "    <tr>\n",
       "      <th>Komi-san wa, Comyushou desu.</th>\n",
       "      <td>1372</td>\n",
       "      <td>1372</td>\n",
       "    </tr>\n",
       "    <tr>\n",
       "      <th>Solo Leveling</th>\n",
       "      <td>1344</td>\n",
       "      <td>1344</td>\n",
       "    </tr>\n",
       "    <tr>\n",
       "      <th>Kaguya-sama wa Kokurasetai: Tensai-tachi no Renai Zunousen</th>\n",
       "      <td>1313</td>\n",
       "      <td>1313</td>\n",
       "    </tr>\n",
       "    <tr>\n",
       "      <th>Grand Blue</th>\n",
       "      <td>1292</td>\n",
       "      <td>1292</td>\n",
       "    </tr>\n",
       "    <tr>\n",
       "      <th>Deadman Wonderland</th>\n",
       "      <td>1280</td>\n",
       "      <td>1280</td>\n",
       "    </tr>\n",
       "    <tr>\n",
       "      <th>Pandora Hearts</th>\n",
       "      <td>1253</td>\n",
       "      <td>1253</td>\n",
       "    </tr>\n",
       "    <tr>\n",
       "      <th>Monster</th>\n",
       "      <td>1213</td>\n",
       "      <td>1213</td>\n",
       "    </tr>\n",
       "  </tbody>\n",
       "</table>\n",
       "</div>"
      ],
      "text/plain": [
       "                                                    user  rating\n",
       "item                                                            \n",
       "Berserk                                             2747    2747\n",
       "Oyasumi Punpun                                      2371    2371\n",
       "Horimiya                                            2112    2112\n",
       "One Punch-Man                                       1922    1922\n",
       "Tokyo Ghoul                                         1887    1887\n",
       "Shingeki no Kyojin                                  1881    1881\n",
       "Vagabond                                            1872    1872\n",
       "Boku no Hero Academia                               1658    1658\n",
       "Koe no Katachi                                      1621    1621\n",
       "One Piece                                           1569    1569\n",
       "20th Century Boys                                   1542    1542\n",
       "Vinland Saga                                        1416    1416\n",
       "Utsuro no Hako to Zero no Maria                     1395    1395\n",
       "Komi-san wa, Comyushou desu.                        1372    1372\n",
       "Solo Leveling                                       1344    1344\n",
       "Kaguya-sama wa Kokurasetai: Tensai-tachi no Ren...  1313    1313\n",
       "Grand Blue                                          1292    1292\n",
       "Deadman Wonderland                                  1280    1280\n",
       "Pandora Hearts                                      1253    1253\n",
       "Monster                                             1213    1213"
      ]
     },
     "execution_count": 33,
     "metadata": {},
     "output_type": "execute_result"
    }
   ],
   "source": [
    "reading_df[reading_df['rating'] == 0].groupby('item').count().sort_values('rating',ascending=False).head(20)"
   ]
  },
  {
   "cell_type": "markdown",
   "id": "66279477",
   "metadata": {},
   "source": [
    "**Data Shown:** The 2 dataframes above each show the top 20 titles of a specific condition. The top dataframe shows top 20 titles with the highest number of user rating score 10. The bottom one shows the same for user rating score 0.\n",
    "\n",
    "**Insight:** There are more than 10 titles that appear in both lists. Using domain knowledge, almost all the titles seen in the 0 score list have seen mainstream success as well. This leads me to think that the 0 ratings were given by haters of popular series.  "
   ]
  },
  {
   "cell_type": "code",
   "execution_count": 34,
   "id": "40880f15",
   "metadata": {},
   "outputs": [],
   "source": [
    "reading_no_zero_df = reading_df[reading_df['rating'] != 0]"
   ]
  },
  {
   "cell_type": "code",
   "execution_count": 35,
   "id": "85462b87",
   "metadata": {
    "scrolled": true
   },
   "outputs": [
    {
     "data": {
      "text/plain": [
       "(array([  2261.,   2602.,   4752.,  10904.,  29321.,  61399., 123672.,\n",
       "        134463.,  96059.,  68737.]),\n",
       " array([ 1. ,  1.9,  2.8,  3.7,  4.6,  5.5,  6.4,  7.3,  8.2,  9.1, 10. ]),\n",
       " <BarContainer object of 10 artists>)"
      ]
     },
     "execution_count": 35,
     "metadata": {},
     "output_type": "execute_result"
    },
    {
     "data": {
      "image/png": "[encoded data removed]",
      "text/plain": [
       "<Figure size 432x288 with 1 Axes>"
      ]
     },
     "metadata": {
      "needs_background": "light"
     },
     "output_type": "display_data"
    }
   ],
   "source": [
    "plt.hist(reading_no_zero_df['rating'])"
   ]
  },
  {
   "cell_type": "code",
   "execution_count": 36,
   "id": "d310c14f",
   "metadata": {},
   "outputs": [
    {
     "data": {
      "text/plain": [
       "rating\n",
       "1       2261\n",
       "2       2602\n",
       "3       4752\n",
       "4      10904\n",
       "5      29321\n",
       "6      61399\n",
       "7     123672\n",
       "8     134463\n",
       "9      96059\n",
       "10     68737\n",
       "Name: rating, dtype: int64"
      ]
     },
     "execution_count": 36,
     "metadata": {},
     "output_type": "execute_result"
    }
   ],
   "source": [
    "reading_no_zero_df.groupby('rating')['rating'].count()"
   ]
  },
  {
   "cell_type": "code",
   "execution_count": 37,
   "id": "400c1282",
   "metadata": {},
   "outputs": [
    {
     "data": {
      "text/plain": [
       "rating    0.791754\n",
       "dtype: float64"
      ]
     },
     "execution_count": 37,
     "metadata": {},
     "output_type": "execute_result"
    }
   ],
   "source": [
    "reading_no_zero_df[reading_no_zero_df['rating'] >= 7]['rating'].count()/reading_no_zero_df[['rating']].count()"
   ]
  },
  {
   "cell_type": "code",
   "execution_count": 38,
   "id": "36e7c9a1",
   "metadata": {},
   "outputs": [
    {
     "data": {
      "text/plain": [
       "user      16463\n",
       "item      32363\n",
       "rating       11\n",
       "dtype: int64"
      ]
     },
     "execution_count": 38,
     "metadata": {},
     "output_type": "execute_result"
    }
   ],
   "source": [
    "reading_df.nunique()"
   ]
  },
  {
   "cell_type": "code",
   "execution_count": 39,
   "id": "de05eadd",
   "metadata": {},
   "outputs": [
    {
     "data": {
      "text/plain": [
       "user      14263\n",
       "item      25169\n",
       "rating       10\n",
       "dtype: int64"
      ]
     },
     "execution_count": 39,
     "metadata": {},
     "output_type": "execute_result"
    }
   ],
   "source": [
    "reading_no_zero_df.nunique()"
   ]
  },
  {
   "cell_type": "markdown",
   "id": "0ce3dd18",
   "metadata": {},
   "source": [
    "**Data Shown:** All 0 ratings were removed from the data frame. With them, more than 2K users and 7K manga titles were removed.\n",
    "\n",
    "**Insights:** There were over 2K users who had rating lists of only 0 ratings. These are users who made accounts just to give specific manga titles a 0 score. Using domain knowledge, there are haters who want their favorite series to stay on top of the ratings. Hence, they give competing manga titles a low score to stop them from overtaking their favorites. They could also just be hating on series that achieved mainstream success."
   ]
  },
  {
   "cell_type": "code",
   "execution_count": 40,
   "id": "4d3d3c0d",
   "metadata": {},
   "outputs": [
    {
     "data": {
      "text/plain": [
       "33.09"
      ]
     },
     "execution_count": 40,
     "metadata": {},
     "output_type": "execute_result"
    }
   ],
   "source": [
    "# 1% of the manga title with the highest number of ratings, use this as threshold and remove those titles below this threshold\n",
    "reading_no_zero_df.groupby(['item']).size().max()/100"
   ]
  },
  {
   "cell_type": "code",
   "execution_count": 41,
   "id": "373f4727",
   "metadata": {},
   "outputs": [
    {
     "data": {
      "text/html": [
       "<div>\n",
       "<style scoped>\n",
       "    .dataframe tbody tr th:only-of-type {\n",
       "        vertical-align: middle;\n",
       "    }\n",
       "\n",
       "    .dataframe tbody tr th {\n",
       "        vertical-align: top;\n",
       "    }\n",
       "\n",
       "    .dataframe thead th {\n",
       "        text-align: right;\n",
       "    }\n",
       "</style>\n",
       "<table border=\"1\" class=\"dataframe\">\n",
       "  <thead>\n",
       "    <tr style=\"text-align: right;\">\n",
       "      <th></th>\n",
       "      <th>item</th>\n",
       "      <th>Count</th>\n",
       "    </tr>\n",
       "  </thead>\n",
       "  <tbody>\n",
       "    <tr>\n",
       "      <th>0</th>\n",
       "      <td>!Gangan Yarouze!</td>\n",
       "      <td>3</td>\n",
       "    </tr>\n",
       "    <tr>\n",
       "      <th>1</th>\n",
       "      <td>\"Aishiteru\", Uso dakedo.</td>\n",
       "      <td>24</td>\n",
       "    </tr>\n",
       "    <tr>\n",
       "      <th>2</th>\n",
       "      <td>\"Aoi\" Hikaru ga Chikyuu ni Ita Koro......</td>\n",
       "      <td>72</td>\n",
       "    </tr>\n",
       "    <tr>\n",
       "      <th>3</th>\n",
       "      <td>\"Aruto\" no \"A\"</td>\n",
       "      <td>2</td>\n",
       "    </tr>\n",
       "    <tr>\n",
       "      <th>4</th>\n",
       "      <td>\"Boku wa Senpai ni Josou wo Shiirareteimasu.\"</td>\n",
       "      <td>22</td>\n",
       "    </tr>\n",
       "  </tbody>\n",
       "</table>\n",
       "</div>"
      ],
      "text/plain": [
       "                                            item  Count\n",
       "0                               !Gangan Yarouze!      3\n",
       "1                       \"Aishiteru\", Uso dakedo.     24\n",
       "2      \"Aoi\" Hikaru ga Chikyuu ni Ita Koro......     72\n",
       "3                                 \"Aruto\" no \"A\"      2\n",
       "4  \"Boku wa Senpai ni Josou wo Shiirareteimasu.\"     22"
      ]
     },
     "execution_count": 41,
     "metadata": {},
     "output_type": "execute_result"
    }
   ],
   "source": [
    "ratings_count = pd.DataFrame({'Count' : reading_no_zero_df.groupby(['item']).size()}).reset_index()\n",
    "ratings_count.head()"
   ]
  },
  {
   "cell_type": "code",
   "execution_count": 42,
   "id": "6d63d0dd",
   "metadata": {},
   "outputs": [],
   "source": [
    "ratings_count = ratings_count.loc[ratings_count['Count'] > 33.09]"
   ]
  },
  {
   "cell_type": "code",
   "execution_count": 43,
   "id": "867f86eb",
   "metadata": {},
   "outputs": [
    {
     "data": {
      "text/plain": [
       "user      14138\n",
       "item       2907\n",
       "rating       10\n",
       "dtype: int64"
      ]
     },
     "execution_count": 43,
     "metadata": {},
     "output_type": "execute_result"
    }
   ],
   "source": [
    "#remove titles that are below rating count threshold\n",
    "above_threshold = reading_no_zero_df['item'].isin(ratings_count.item)\n",
    "reading_no_zero_df = reading_no_zero_df[above_threshold]\n",
    "reading_no_zero_df.nunique()"
   ]
  },
  {
   "cell_type": "code",
   "execution_count": 44,
   "id": "96a1fc7d",
   "metadata": {},
   "outputs": [
    {
     "data": {
      "text/plain": [
       "34"
      ]
     },
     "execution_count": 44,
     "metadata": {},
     "output_type": "execute_result"
    }
   ],
   "source": [
    "#each title has a minimum of 34 ratings now\n",
    "reading_no_zero_df.groupby(['item']).size().min()"
   ]
  },
  {
   "cell_type": "markdown",
   "id": "ae8940c6",
   "metadata": {},
   "source": [
    "**Data Shown:** To improve the performance of a machine learning model for recommender systems, items with a low number of ratings may be removed. In this case, I looked at the manga title with the highest number of ratings and set 1% of that (33.09) as the threshold. Any manga title with less than 34 ratings were removed from the data frame."
   ]
  },
  {
   "cell_type": "code",
   "execution_count": 46,
   "id": "9f2b68e3",
   "metadata": {},
   "outputs": [
    {
     "data": {
      "text/plain": [
       "(array([  1241.,   1463.,   2864.,   6474.,  16496.,  36749.,  83353.,\n",
       "        105923.,  82619.,  60121.]),\n",
       " array([ 1. ,  1.9,  2.8,  3.7,  4.6,  5.5,  6.4,  7.3,  8.2,  9.1, 10. ]),\n",
       " <BarContainer object of 10 artists>)"
      ]
     },
     "execution_count": 46,
     "metadata": {},
     "output_type": "execute_result"
    },
    {
     "data": {
      "image/png": "[encoded data removed]",
      "text/plain": [
       "<Figure size 432x288 with 1 Axes>"
      ]
     },
     "metadata": {
      "needs_background": "light"
     },
     "output_type": "display_data"
    }
   ],
   "source": [
    "plt.hist(reading_no_zero_df['rating'])"
   ]
  },
  {
   "cell_type": "code",
   "execution_count": 52,
   "id": "3b29f905",
   "metadata": {},
   "outputs": [
    {
     "data": {
      "text/plain": [
       "8     0.266605\n",
       "7     0.209797\n",
       "9     0.207950\n",
       "10    0.151323\n",
       "6     0.092496\n",
       "5     0.041520\n",
       "4     0.016295\n",
       "3     0.007209\n",
       "2     0.003682\n",
       "1     0.003124\n",
       "Name: rating, dtype: float64"
      ]
     },
     "execution_count": 52,
     "metadata": {},
     "output_type": "execute_result"
    }
   ],
   "source": [
    "#percentage of each rating\n",
    "reading_no_zero_df['rating'].value_counts(normalize=True)"
   ]
  },
  {
   "cell_type": "code",
   "execution_count": 45,
   "id": "04b72d34",
   "metadata": {},
   "outputs": [
    {
     "data": {
      "text/plain": [
       "rating    0.835675\n",
       "dtype: float64"
      ]
     },
     "execution_count": 45,
     "metadata": {},
     "output_type": "execute_result"
    }
   ],
   "source": [
    "#percentage of >=7/10 ratings have increased from 79% to 84% after removing titles below 1% threshold\n",
    "reading_no_zero_df[reading_no_zero_df['rating'] >= 7]['rating'].count()/reading_no_zero_df[['rating']].count()"
   ]
  },
  {
   "cell_type": "code",
   "execution_count": 65,
   "id": "9422c5de",
   "metadata": {},
   "outputs": [
    {
     "data": {
      "text/plain": [
       "item      28.101782\n",
       "rating    28.101782\n",
       "dtype: float64"
      ]
     },
     "execution_count": 65,
     "metadata": {},
     "output_type": "execute_result"
    }
   ],
   "source": [
    "#each user has an average of 28.1 manga titles rated\n",
    "reading_no_zero_df.groupby('user').count().mean()"
   ]
  },
  {
   "cell_type": "code",
   "execution_count": 47,
   "id": "9dc7bcaa",
   "metadata": {},
   "outputs": [],
   "source": [
    "reading_no_zero_df.to_csv('../data/reading_no_zero.csv', index = False)"
   ]
  },
  {
   "cell_type": "code",
   "execution_count": 67,
   "id": "525023cb",
   "metadata": {},
   "outputs": [],
   "source": [
    "def more_than_seven(number):\n",
    "    if number >= 7:\n",
    "        return 1\n",
    "    else:\n",
    "        return 0"
   ]
  },
  {
   "cell_type": "code",
   "execution_count": 68,
   "id": "249887ed",
   "metadata": {},
   "outputs": [],
   "source": [
    "reading_no_zero_df['more_than_seven'] = reading_no_zero_df['rating'].apply(more_than_seven)"
   ]
  },
  {
   "cell_type": "code",
   "execution_count": 69,
   "id": "8a77224b",
   "metadata": {},
   "outputs": [
    {
     "data": {
      "text/html": [
       "<div>\n",
       "<style scoped>\n",
       "    .dataframe tbody tr th:only-of-type {\n",
       "        vertical-align: middle;\n",
       "    }\n",
       "\n",
       "    .dataframe tbody tr th {\n",
       "        vertical-align: top;\n",
       "    }\n",
       "\n",
       "    .dataframe thead th {\n",
       "        text-align: right;\n",
       "    }\n",
       "</style>\n",
       "<table border=\"1\" class=\"dataframe\">\n",
       "  <thead>\n",
       "    <tr style=\"text-align: right;\">\n",
       "      <th></th>\n",
       "      <th>user</th>\n",
       "      <th>item</th>\n",
       "      <th>rating</th>\n",
       "      <th>more_than_seven</th>\n",
       "    </tr>\n",
       "  </thead>\n",
       "  <tbody>\n",
       "    <tr>\n",
       "      <th>0</th>\n",
       "      <td>---Adina---</td>\n",
       "      <td>20th Century Boys</td>\n",
       "      <td>8</td>\n",
       "      <td>1</td>\n",
       "    </tr>\n",
       "    <tr>\n",
       "      <th>1</th>\n",
       "      <td>---Adina---</td>\n",
       "      <td>Akumetsu</td>\n",
       "      <td>10</td>\n",
       "      <td>1</td>\n",
       "    </tr>\n",
       "    <tr>\n",
       "      <th>2</th>\n",
       "      <td>---Adina---</td>\n",
       "      <td>Ayashimon</td>\n",
       "      <td>6</td>\n",
       "      <td>0</td>\n",
       "    </tr>\n",
       "    <tr>\n",
       "      <th>3</th>\n",
       "      <td>---Adina---</td>\n",
       "      <td>Dandadan</td>\n",
       "      <td>9</td>\n",
       "      <td>1</td>\n",
       "    </tr>\n",
       "    <tr>\n",
       "      <th>5</th>\n",
       "      <td>---Adina---</td>\n",
       "      <td>Jigokuraku</td>\n",
       "      <td>7</td>\n",
       "      <td>1</td>\n",
       "    </tr>\n",
       "  </tbody>\n",
       "</table>\n",
       "</div>"
      ],
      "text/plain": [
       "          user               item  rating  more_than_seven\n",
       "0  ---Adina---  20th Century Boys       8                1\n",
       "1  ---Adina---           Akumetsu      10                1\n",
       "2  ---Adina---          Ayashimon       6                0\n",
       "3  ---Adina---           Dandadan       9                1\n",
       "5  ---Adina---         Jigokuraku       7                1"
      ]
     },
     "execution_count": 69,
     "metadata": {},
     "output_type": "execute_result"
    }
   ],
   "source": [
    "reading_no_zero_df.head()"
   ]
  },
  {
   "cell_type": "code",
   "execution_count": 72,
   "id": "71c4169a",
   "metadata": {},
   "outputs": [
    {
     "data": {
      "text/plain": [
       "item               0.835675\n",
       "rating             0.835675\n",
       "more_than_seven    0.835675\n",
       "dtype: float64"
      ]
     },
     "execution_count": 72,
     "metadata": {},
     "output_type": "execute_result"
    }
   ],
   "source": [
    "reading_no_zero_df.groupby('user')['more_than_seven'].sum().mean()/reading_no_zero_df.groupby('user').count().mean()"
   ]
  },
  {
   "cell_type": "code",
   "execution_count": 77,
   "id": "813e897c",
   "metadata": {},
   "outputs": [
    {
     "data": {
      "text/plain": [
       "(array([4103., 2412., 1443.,  999.,  722.,  592.,  431.,  354.,  330.,\n",
       "         288.]),\n",
       " array([ 0.,  5., 10., 15., 20., 25., 30., 35., 40., 45., 50.]),\n",
       " <BarContainer object of 10 artists>)"
      ]
     },
     "execution_count": 77,
     "metadata": {},
     "output_type": "execute_result"
    },
    {
     "data": {
      "image/png": "[encoded data removed]",
      "text/plain": [
       "<Figure size 432x288 with 1 Axes>"
      ]
     },
     "metadata": {
      "needs_background": "light"
     },
     "output_type": "display_data"
    }
   ],
   "source": [
    "plt.hist(reading_no_zero_df.groupby('user')['rating'].count(), range = [0,50])"
   ]
  },
  {
   "cell_type": "code",
   "execution_count": null,
   "id": "a5ae3758",
   "metadata": {},
   "outputs": [],
   "source": []
  }
 ],
 "metadata": {
  "kernelspec": {
   "display_name": "Python 3",
   "language": "python",
   "name": "python3"
  },
  "language_info": {
   "codemirror_mode": {
    "name": "ipython",
    "version": 3
   },
   "file_extension": ".py",
   "mimetype": "text/x-python",
   "name": "python",
   "nbconvert_exporter": "python",
   "pygments_lexer": "ipython3",
   "version": "3.8.8"
  }
 },
 "nbformat": 4,
 "nbformat_minor": 5
}
