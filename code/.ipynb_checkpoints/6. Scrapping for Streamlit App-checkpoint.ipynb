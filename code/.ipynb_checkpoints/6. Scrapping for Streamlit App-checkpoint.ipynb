{
 "cells": [
  {
   "cell_type": "code",
   "execution_count": 1,
   "id": "cc5d6563",
   "metadata": {},
   "outputs": [],
   "source": [
    "import requests\n",
    "import pandas as pd\n",
    "from tqdm import tqdm\n",
    "from jikanpy import Jikan\n",
    "import time"
   ]
  },
  {
   "cell_type": "code",
   "execution_count": 2,
   "id": "ceac166c",
   "metadata": {},
   "outputs": [],
   "source": [
    "jikan = Jikan()"
   ]
  },
  {
   "cell_type": "code",
   "execution_count": 3,
   "id": "d7b3c120",
   "metadata": {},
   "outputs": [],
   "source": [
    "reading_no_zero_df = pd.read_csv('../data/reading_no_zero.csv')"
   ]
  },
  {
   "cell_type": "code",
   "execution_count": 5,
   "id": "a3a12d8f",
   "metadata": {},
   "outputs": [
    {
     "data": {
      "text/plain": [
       "{'mal_id': 141583,\n",
       " 'url': 'https://myanimelist.net/manga/141583/Ayashimon',\n",
       " 'image_url': 'https://cdn.myanimelist.net/images/manga/1/256654.jpg?s=fe0adc91d9a7830fd781a9de4c0ae18d',\n",
       " 'title': 'Ayashimon',\n",
       " 'publishing': True,\n",
       " 'synopsis': 'Years ago, the death of the infamous Enma Syndicate\\'s chairman, who united all those below him, led to numerous individual yakuza groups being created. These groups are filled with \"ayashimon\"—superna...',\n",
       " 'type': 'Manga',\n",
       " 'chapters': 0,\n",
       " 'volumes': 0,\n",
       " 'score': 7.35,\n",
       " 'start_date': '2021-11-15T00:00:00+00:00',\n",
       " 'end_date': None,\n",
       " 'members': 15657}"
      ]
     },
     "execution_count": 5,
     "metadata": {},
     "output_type": "execute_result"
    }
   ],
   "source": [
    "jikan.search('manga','Ayashimon')['results'][0]"
   ]
  },
  {
   "cell_type": "code",
   "execution_count": 11,
   "id": "9d2847fe",
   "metadata": {},
   "outputs": [],
   "source": [
    "dict = {}\n",
    "dict = jikan.search('manga','Ayashimon')"
   ]
  },
  {
   "cell_type": "code",
   "execution_count": 12,
   "id": "4ad1f71c",
   "metadata": {},
   "outputs": [
    {
     "data": {
      "text/plain": [
       "'Years ago, the death of the infamous Enma Syndicate\\'s chairman, who united all those below him, led to numerous individual yakuza groups being created. These groups are filled with \"ayashimon\"—superna...'"
      ]
     },
     "execution_count": 12,
     "metadata": {},
     "output_type": "execute_result"
    }
   ],
   "source": [
    "dict['results'][0]['synopsis']"
   ]
  },
  {
   "cell_type": "code",
   "execution_count": 8,
   "id": "f480f4de",
   "metadata": {},
   "outputs": [
    {
     "data": {
      "text/plain": [
       "'20th Century Boys'"
      ]
     },
     "execution_count": 8,
     "metadata": {},
     "output_type": "execute_result"
    }
   ],
   "source": [
    "title_list = reading_no_zero_df['item'].unique().tolist()\n",
    "title_list[0]"
   ]
  },
  {
   "cell_type": "code",
   "execution_count": 12,
   "id": "fd4b0d6c",
   "metadata": {},
   "outputs": [
    {
     "name": "stderr",
     "output_type": "stream",
     "text": [
      "100%|███████████████████████████████████████████████████████████████████████████| 2907/2907 [18:16:42<00:00, 22.64s/it]\n"
     ]
    },
    {
     "data": {
      "text/plain": [
       "['Akaneiro ni Somaru Saka',\n",
       " 'Akaneiro ni Somaru Saka',\n",
       " 8897,\n",
       " 'https://myanimelist.net/manga/8897/Akaneiro_ni_Somaru_Saka',\n",
       " 'https://cdn.myanimelist.net/images/manga/1/111947.jpg?s=280debd0a4af45420cba296285f30288',\n",
       " \"Jun'ichi Nagase attends a prestigious high school. He has the nickname Geno Killer since he was rebellious in middle school. This is used, inadvertently, to help a girl named Yuuhi Katagiri from troub...\"]"
      ]
     },
     "execution_count": 12,
     "metadata": {},
     "output_type": "execute_result"
    }
   ],
   "source": [
    "title_list = reading_no_zero_df['item'].unique().tolist()\n",
    "#title_list = ['Ayashimon','Berserk']\n",
    "all_info = []\n",
    "for title in tqdm(title_list):\n",
    "    try:\n",
    "        title_info = []\n",
    "        dict = {}\n",
    "        dict = jikan.search('manga', title)\n",
    "        #search title\n",
    "        title_info.append(title)\n",
    "        #result title\n",
    "        title_info.append(dict['results'][0]['title'])\n",
    "        title_info.append(dict['results'][0]['mal_id'])\n",
    "        time.sleep(1)\n",
    "        title_info.append(dict['results'][0]['url'])\n",
    "        title_info.append(dict['results'][0]['image_url'])\n",
    "        title_info.append(dict['results'][0]['synopsis'])\n",
    "        all_info.append(title_info)\n",
    "        time.sleep(1)\n",
    "        all_info_df = pd.DataFrame(all_info)\n",
    "        all_info_df.to_csv('all_info.csv', index = False)\n",
    "    except:\n",
    "        continue\n",
    "\n",
    "title_info"
   ]
  },
  {
   "cell_type": "code",
   "execution_count": 33,
   "id": "e9c2e2d7",
   "metadata": {},
   "outputs": [
    {
     "data": {
      "text/html": [
       "<div>\n",
       "<style scoped>\n",
       "    .dataframe tbody tr th:only-of-type {\n",
       "        vertical-align: middle;\n",
       "    }\n",
       "\n",
       "    .dataframe tbody tr th {\n",
       "        vertical-align: top;\n",
       "    }\n",
       "\n",
       "    .dataframe thead th {\n",
       "        text-align: right;\n",
       "    }\n",
       "</style>\n",
       "<table border=\"1\" class=\"dataframe\">\n",
       "  <thead>\n",
       "    <tr style=\"text-align: right;\">\n",
       "      <th></th>\n",
       "      <th>0</th>\n",
       "      <th>1</th>\n",
       "      <th>2</th>\n",
       "      <th>3</th>\n",
       "      <th>4</th>\n",
       "      <th>5</th>\n",
       "    </tr>\n",
       "  </thead>\n",
       "  <tbody>\n",
       "    <tr>\n",
       "      <th>0</th>\n",
       "      <td>20th Century Boys</td>\n",
       "      <td>20th Century Boys</td>\n",
       "      <td>3</td>\n",
       "      <td>https://myanimelist.net/manga/3/20th_Century_Boys</td>\n",
       "      <td>https://cdn.myanimelist.net/images/manga/1/544...</td>\n",
       "      <td>As the 20th century approaches its end, people...</td>\n",
       "    </tr>\n",
       "    <tr>\n",
       "      <th>1</th>\n",
       "      <td>Akumetsu</td>\n",
       "      <td>Akumetsu</td>\n",
       "      <td>1101</td>\n",
       "      <td>https://myanimelist.net/manga/1101/Akumetsu</td>\n",
       "      <td>https://cdn.myanimelist.net/images/manga/2/183...</td>\n",
       "      <td>Due to an economic downturn plaguing Japan, Sh...</td>\n",
       "    </tr>\n",
       "    <tr>\n",
       "      <th>2</th>\n",
       "      <td>Ayashimon</td>\n",
       "      <td>Ayashimon</td>\n",
       "      <td>141583</td>\n",
       "      <td>https://myanimelist.net/manga/141583/Ayashimon</td>\n",
       "      <td>https://cdn.myanimelist.net/images/manga/1/256...</td>\n",
       "      <td>Years ago, the death of the infamous Enma Synd...</td>\n",
       "    </tr>\n",
       "    <tr>\n",
       "      <th>3</th>\n",
       "      <td>Dandadan</td>\n",
       "      <td>Dandadan</td>\n",
       "      <td>135496</td>\n",
       "      <td>https://myanimelist.net/manga/135496/Dandadan</td>\n",
       "      <td>https://cdn.myanimelist.net/images/manga/2/248...</td>\n",
       "      <td>After being aggressively rejected, Momo Ayase ...</td>\n",
       "    </tr>\n",
       "    <tr>\n",
       "      <th>4</th>\n",
       "      <td>Jigokuraku</td>\n",
       "      <td>Jigokuraku</td>\n",
       "      <td>112318</td>\n",
       "      <td>https://myanimelist.net/manga/112318/Jigokuraku</td>\n",
       "      <td>https://cdn.myanimelist.net/images/manga/2/208...</td>\n",
       "      <td>Gabimaru the Hollow, a ninja of Iwagakure Vill...</td>\n",
       "    </tr>\n",
       "  </tbody>\n",
       "</table>\n",
       "</div>"
      ],
      "text/plain": [
       "                   0                  1       2  \\\n",
       "0  20th Century Boys  20th Century Boys       3   \n",
       "1           Akumetsu           Akumetsu    1101   \n",
       "2          Ayashimon          Ayashimon  141583   \n",
       "3           Dandadan           Dandadan  135496   \n",
       "4         Jigokuraku         Jigokuraku  112318   \n",
       "\n",
       "                                                   3  \\\n",
       "0  https://myanimelist.net/manga/3/20th_Century_Boys   \n",
       "1        https://myanimelist.net/manga/1101/Akumetsu   \n",
       "2     https://myanimelist.net/manga/141583/Ayashimon   \n",
       "3      https://myanimelist.net/manga/135496/Dandadan   \n",
       "4    https://myanimelist.net/manga/112318/Jigokuraku   \n",
       "\n",
       "                                                   4  \\\n",
       "0  https://cdn.myanimelist.net/images/manga/1/544...   \n",
       "1  https://cdn.myanimelist.net/images/manga/2/183...   \n",
       "2  https://cdn.myanimelist.net/images/manga/1/256...   \n",
       "3  https://cdn.myanimelist.net/images/manga/2/248...   \n",
       "4  https://cdn.myanimelist.net/images/manga/2/208...   \n",
       "\n",
       "                                                   5  \n",
       "0  As the 20th century approaches its end, people...  \n",
       "1  Due to an economic downturn plaguing Japan, Sh...  \n",
       "2  Years ago, the death of the infamous Enma Synd...  \n",
       "3  After being aggressively rejected, Momo Ayase ...  \n",
       "4  Gabimaru the Hollow, a ninja of Iwagakure Vill...  "
      ]
     },
     "execution_count": 33,
     "metadata": {},
     "output_type": "execute_result"
    }
   ],
   "source": [
    "all_info_1_df = pd.read_csv('all_info.csv')\n",
    "all_info_1_df.head()"
   ]
  },
  {
   "cell_type": "code",
   "execution_count": 34,
   "id": "450699a9",
   "metadata": {},
   "outputs": [
    {
     "data": {
      "text/html": [
       "<div>\n",
       "<style scoped>\n",
       "    .dataframe tbody tr th:only-of-type {\n",
       "        vertical-align: middle;\n",
       "    }\n",
       "\n",
       "    .dataframe tbody tr th {\n",
       "        vertical-align: top;\n",
       "    }\n",
       "\n",
       "    .dataframe thead th {\n",
       "        text-align: right;\n",
       "    }\n",
       "</style>\n",
       "<table border=\"1\" class=\"dataframe\">\n",
       "  <thead>\n",
       "    <tr style=\"text-align: right;\">\n",
       "      <th></th>\n",
       "      <th>search title</th>\n",
       "      <th>result title</th>\n",
       "      <th>mal_id</th>\n",
       "      <th>url</th>\n",
       "      <th>image</th>\n",
       "      <th>synopsis</th>\n",
       "    </tr>\n",
       "  </thead>\n",
       "  <tbody>\n",
       "    <tr>\n",
       "      <th>0</th>\n",
       "      <td>20th Century Boys</td>\n",
       "      <td>20th Century Boys</td>\n",
       "      <td>3</td>\n",
       "      <td>https://myanimelist.net/manga/3/20th_Century_Boys</td>\n",
       "      <td>https://cdn.myanimelist.net/images/manga/1/544...</td>\n",
       "      <td>As the 20th century approaches its end, people...</td>\n",
       "    </tr>\n",
       "    <tr>\n",
       "      <th>1</th>\n",
       "      <td>Akumetsu</td>\n",
       "      <td>Akumetsu</td>\n",
       "      <td>1101</td>\n",
       "      <td>https://myanimelist.net/manga/1101/Akumetsu</td>\n",
       "      <td>https://cdn.myanimelist.net/images/manga/2/183...</td>\n",
       "      <td>Due to an economic downturn plaguing Japan, Sh...</td>\n",
       "    </tr>\n",
       "    <tr>\n",
       "      <th>2</th>\n",
       "      <td>Ayashimon</td>\n",
       "      <td>Ayashimon</td>\n",
       "      <td>141583</td>\n",
       "      <td>https://myanimelist.net/manga/141583/Ayashimon</td>\n",
       "      <td>https://cdn.myanimelist.net/images/manga/1/256...</td>\n",
       "      <td>Years ago, the death of the infamous Enma Synd...</td>\n",
       "    </tr>\n",
       "    <tr>\n",
       "      <th>3</th>\n",
       "      <td>Dandadan</td>\n",
       "      <td>Dandadan</td>\n",
       "      <td>135496</td>\n",
       "      <td>https://myanimelist.net/manga/135496/Dandadan</td>\n",
       "      <td>https://cdn.myanimelist.net/images/manga/2/248...</td>\n",
       "      <td>After being aggressively rejected, Momo Ayase ...</td>\n",
       "    </tr>\n",
       "    <tr>\n",
       "      <th>4</th>\n",
       "      <td>Jigokuraku</td>\n",
       "      <td>Jigokuraku</td>\n",
       "      <td>112318</td>\n",
       "      <td>https://myanimelist.net/manga/112318/Jigokuraku</td>\n",
       "      <td>https://cdn.myanimelist.net/images/manga/2/208...</td>\n",
       "      <td>Gabimaru the Hollow, a ninja of Iwagakure Vill...</td>\n",
       "    </tr>\n",
       "  </tbody>\n",
       "</table>\n",
       "</div>"
      ],
      "text/plain": [
       "        search title       result title  mal_id  \\\n",
       "0  20th Century Boys  20th Century Boys       3   \n",
       "1           Akumetsu           Akumetsu    1101   \n",
       "2          Ayashimon          Ayashimon  141583   \n",
       "3           Dandadan           Dandadan  135496   \n",
       "4         Jigokuraku         Jigokuraku  112318   \n",
       "\n",
       "                                                 url  \\\n",
       "0  https://myanimelist.net/manga/3/20th_Century_Boys   \n",
       "1        https://myanimelist.net/manga/1101/Akumetsu   \n",
       "2     https://myanimelist.net/manga/141583/Ayashimon   \n",
       "3      https://myanimelist.net/manga/135496/Dandadan   \n",
       "4    https://myanimelist.net/manga/112318/Jigokuraku   \n",
       "\n",
       "                                               image  \\\n",
       "0  https://cdn.myanimelist.net/images/manga/1/544...   \n",
       "1  https://cdn.myanimelist.net/images/manga/2/183...   \n",
       "2  https://cdn.myanimelist.net/images/manga/1/256...   \n",
       "3  https://cdn.myanimelist.net/images/manga/2/248...   \n",
       "4  https://cdn.myanimelist.net/images/manga/2/208...   \n",
       "\n",
       "                                            synopsis  \n",
       "0  As the 20th century approaches its end, people...  \n",
       "1  Due to an economic downturn plaguing Japan, Sh...  \n",
       "2  Years ago, the death of the infamous Enma Synd...  \n",
       "3  After being aggressively rejected, Momo Ayase ...  \n",
       "4  Gabimaru the Hollow, a ninja of Iwagakure Vill...  "
      ]
     },
     "execution_count": 34,
     "metadata": {},
     "output_type": "execute_result"
    }
   ],
   "source": [
    "all_info_1_df.rename(columns = {'0':'search title','1':'result title','2':'mal_id','3':'url','4':'image','5':'synopsis'}, inplace = True)\n",
    "all_info_1_df.head()"
   ]
  },
  {
   "cell_type": "code",
   "execution_count": 35,
   "id": "01ab46b8",
   "metadata": {},
   "outputs": [
    {
     "data": {
      "text/html": [
       "<div>\n",
       "<style scoped>\n",
       "    .dataframe tbody tr th:only-of-type {\n",
       "        vertical-align: middle;\n",
       "    }\n",
       "\n",
       "    .dataframe tbody tr th {\n",
       "        vertical-align: top;\n",
       "    }\n",
       "\n",
       "    .dataframe thead th {\n",
       "        text-align: right;\n",
       "    }\n",
       "</style>\n",
       "<table border=\"1\" class=\"dataframe\">\n",
       "  <thead>\n",
       "    <tr style=\"text-align: right;\">\n",
       "      <th></th>\n",
       "      <th>search title</th>\n",
       "      <th>result title</th>\n",
       "      <th>mal_id</th>\n",
       "      <th>url</th>\n",
       "      <th>image</th>\n",
       "      <th>synopsis</th>\n",
       "    </tr>\n",
       "  </thead>\n",
       "  <tbody>\n",
       "    <tr>\n",
       "      <th>152</th>\n",
       "      <td>No Game No Life</td>\n",
       "      <td>No Game No Life: Practical War Game</td>\n",
       "      <td>103268</td>\n",
       "      <td>https://myanimelist.net/manga/103268/No_Game_N...</td>\n",
       "      <td>https://cdn.myanimelist.net/images/manga/1/187...</td>\n",
       "      <td>The novel covers six short stories including d...</td>\n",
       "    </tr>\n",
       "    <tr>\n",
       "      <th>157</th>\n",
       "      <td>Tokyo Ghoul</td>\n",
       "      <td>Tokyo Ghoul:re</td>\n",
       "      <td>81117</td>\n",
       "      <td>https://myanimelist.net/manga/81117/Tokyo_Ghou...</td>\n",
       "      <td>https://cdn.myanimelist.net/images/manga/3/145...</td>\n",
       "      <td>Two years have passed since the CCG's raid on ...</td>\n",
       "    </tr>\n",
       "    <tr>\n",
       "      <th>163</th>\n",
       "      <td>Gekkan Shoujo Nozaki-kun</td>\n",
       "      <td>Gekkan Shoujo Nozaki-kun Anthology</td>\n",
       "      <td>80151</td>\n",
       "      <td>https://myanimelist.net/manga/80151/Gekkan_Sho...</td>\n",
       "      <td>https://cdn.myanimelist.net/images/manga/3/138...</td>\n",
       "      <td>An anthology of Gekkan Shoujo Nozaki-kun by va...</td>\n",
       "    </tr>\n",
       "    <tr>\n",
       "      <th>244</th>\n",
       "      <td>Himouto! Umaru-chan</td>\n",
       "      <td>Himouto! Umaru-chan'S</td>\n",
       "      <td>89408</td>\n",
       "      <td>https://myanimelist.net/manga/89408/Himouto_Um...</td>\n",
       "      <td>https://cdn.myanimelist.net/images/manga/1/162...</td>\n",
       "      <td>NaN</td>\n",
       "    </tr>\n",
       "    <tr>\n",
       "      <th>262</th>\n",
       "      <td>Kono Subarashii Sekai ni Shukufuku wo!</td>\n",
       "      <td>Kono Subarashii Sekai ni Bakuen wo!</td>\n",
       "      <td>97722</td>\n",
       "      <td>https://myanimelist.net/manga/97722/Kono_Subar...</td>\n",
       "      <td>https://cdn.myanimelist.net/images/manga/3/187...</td>\n",
       "      <td>Crimson Magic Clan members Megumin and Yunyun ...</td>\n",
       "    </tr>\n",
       "    <tr>\n",
       "      <th>...</th>\n",
       "      <td>...</td>\n",
       "      <td>...</td>\n",
       "      <td>...</td>\n",
       "      <td>...</td>\n",
       "      <td>...</td>\n",
       "      <td>...</td>\n",
       "    </tr>\n",
       "    <tr>\n",
       "      <th>1908</th>\n",
       "      <td>Touch</td>\n",
       "      <td>Don't Touch Me!</td>\n",
       "      <td>5990</td>\n",
       "      <td>https://myanimelist.net/manga/5990/Dont_Touch_Me</td>\n",
       "      <td>https://cdn.myanimelist.net/images/manga/2/768...</td>\n",
       "      <td>A girl comes back to her birthplace and she ki...</td>\n",
       "    </tr>\n",
       "    <tr>\n",
       "      <th>1924</th>\n",
       "      <td>Tough</td>\n",
       "      <td>Koukou Tekkenden Tough</td>\n",
       "      <td>3286</td>\n",
       "      <td>https://myanimelist.net/manga/3286/Koukou_Tekk...</td>\n",
       "      <td>https://cdn.myanimelist.net/images/manga/1/753...</td>\n",
       "      <td>Nobody enjoys a good fight more than \"Kiibo\" M...</td>\n",
       "    </tr>\n",
       "    <tr>\n",
       "      <th>1933</th>\n",
       "      <td>Alice</td>\n",
       "      <td>Are You Alice?</td>\n",
       "      <td>14770</td>\n",
       "      <td>https://myanimelist.net/manga/14770/Are_You_Alice</td>\n",
       "      <td>https://cdn.myanimelist.net/images/manga/3/157...</td>\n",
       "      <td>A disillusioned young man in search of \"someth...</td>\n",
       "    </tr>\n",
       "    <tr>\n",
       "      <th>1977</th>\n",
       "      <td>Beauty!!</td>\n",
       "      <td>Beauty Pop</td>\n",
       "      <td>633</td>\n",
       "      <td>https://myanimelist.net/manga/633/Beauty_Pop</td>\n",
       "      <td>https://cdn.myanimelist.net/images/manga/2/922...</td>\n",
       "      <td>First-year high school student Kiri Koshiba is...</td>\n",
       "    </tr>\n",
       "    <tr>\n",
       "      <th>2003</th>\n",
       "      <td>Children</td>\n",
       "      <td>Kujira no Kora wa Sajou ni Utau</td>\n",
       "      <td>69007</td>\n",
       "      <td>https://myanimelist.net/manga/69007/Kujira_no_...</td>\n",
       "      <td>https://cdn.myanimelist.net/images/manga/3/122...</td>\n",
       "      <td>Chakuro is the 14-year-old archivist of the Mu...</td>\n",
       "    </tr>\n",
       "  </tbody>\n",
       "</table>\n",
       "<p>71 rows × 6 columns</p>\n",
       "</div>"
      ],
      "text/plain": [
       "                                search title  \\\n",
       "152                          No Game No Life   \n",
       "157                              Tokyo Ghoul   \n",
       "163                 Gekkan Shoujo Nozaki-kun   \n",
       "244                      Himouto! Umaru-chan   \n",
       "262   Kono Subarashii Sekai ni Shukufuku wo!   \n",
       "...                                      ...   \n",
       "1908                                   Touch   \n",
       "1924                                   Tough   \n",
       "1933                                   Alice   \n",
       "1977                                Beauty!!   \n",
       "2003                                Children   \n",
       "\n",
       "                             result title  mal_id  \\\n",
       "152   No Game No Life: Practical War Game  103268   \n",
       "157                        Tokyo Ghoul:re   81117   \n",
       "163    Gekkan Shoujo Nozaki-kun Anthology   80151   \n",
       "244                 Himouto! Umaru-chan'S   89408   \n",
       "262   Kono Subarashii Sekai ni Bakuen wo!   97722   \n",
       "...                                   ...     ...   \n",
       "1908                      Don't Touch Me!    5990   \n",
       "1924               Koukou Tekkenden Tough    3286   \n",
       "1933                       Are You Alice?   14770   \n",
       "1977                           Beauty Pop     633   \n",
       "2003      Kujira no Kora wa Sajou ni Utau   69007   \n",
       "\n",
       "                                                    url  \\\n",
       "152   https://myanimelist.net/manga/103268/No_Game_N...   \n",
       "157   https://myanimelist.net/manga/81117/Tokyo_Ghou...   \n",
       "163   https://myanimelist.net/manga/80151/Gekkan_Sho...   \n",
       "244   https://myanimelist.net/manga/89408/Himouto_Um...   \n",
       "262   https://myanimelist.net/manga/97722/Kono_Subar...   \n",
       "...                                                 ...   \n",
       "1908   https://myanimelist.net/manga/5990/Dont_Touch_Me   \n",
       "1924  https://myanimelist.net/manga/3286/Koukou_Tekk...   \n",
       "1933  https://myanimelist.net/manga/14770/Are_You_Alice   \n",
       "1977       https://myanimelist.net/manga/633/Beauty_Pop   \n",
       "2003  https://myanimelist.net/manga/69007/Kujira_no_...   \n",
       "\n",
       "                                                  image  \\\n",
       "152   https://cdn.myanimelist.net/images/manga/1/187...   \n",
       "157   https://cdn.myanimelist.net/images/manga/3/145...   \n",
       "163   https://cdn.myanimelist.net/images/manga/3/138...   \n",
       "244   https://cdn.myanimelist.net/images/manga/1/162...   \n",
       "262   https://cdn.myanimelist.net/images/manga/3/187...   \n",
       "...                                                 ...   \n",
       "1908  https://cdn.myanimelist.net/images/manga/2/768...   \n",
       "1924  https://cdn.myanimelist.net/images/manga/1/753...   \n",
       "1933  https://cdn.myanimelist.net/images/manga/3/157...   \n",
       "1977  https://cdn.myanimelist.net/images/manga/2/922...   \n",
       "2003  https://cdn.myanimelist.net/images/manga/3/122...   \n",
       "\n",
       "                                               synopsis  \n",
       "152   The novel covers six short stories including d...  \n",
       "157   Two years have passed since the CCG's raid on ...  \n",
       "163   An anthology of Gekkan Shoujo Nozaki-kun by va...  \n",
       "244                                                 NaN  \n",
       "262   Crimson Magic Clan members Megumin and Yunyun ...  \n",
       "...                                                 ...  \n",
       "1908  A girl comes back to her birthplace and she ki...  \n",
       "1924  Nobody enjoys a good fight more than \"Kiibo\" M...  \n",
       "1933  A disillusioned young man in search of \"someth...  \n",
       "1977  First-year high school student Kiri Koshiba is...  \n",
       "2003  Chakuro is the 14-year-old archivist of the Mu...  \n",
       "\n",
       "[71 rows x 6 columns]"
      ]
     },
     "execution_count": 35,
     "metadata": {},
     "output_type": "execute_result"
    }
   ],
   "source": [
    "all_info_1_df[all_info_1_df['search title'] != all_info_1_df['result title']]"
   ]
  },
  {
   "cell_type": "code",
   "execution_count": 36,
   "id": "eb3ab788",
   "metadata": {},
   "outputs": [
    {
     "data": {
      "text/plain": [
       "71"
      ]
     },
     "execution_count": 36,
     "metadata": {},
     "output_type": "execute_result"
    }
   ],
   "source": [
    "wrong_list = all_info_1_df[all_info_1_df['search title'] != all_info_1_df['result title']]['search title'].tolist()\n",
    "len(wrong_list)"
   ]
  },
  {
   "cell_type": "code",
   "execution_count": 21,
   "id": "391bcad1",
   "metadata": {},
   "outputs": [
    {
     "name": "stderr",
     "output_type": "stream",
     "text": [
      "100%|██████████████████████████████████████████████████████████████████████████████████| 71/71 [02:38<00:00,  2.23s/it]\n"
     ]
    },
    {
     "data": {
      "text/plain": [
       "['Children',\n",
       " 'Children',\n",
       " 110660,\n",
       " 'https://myanimelist.net/manga/110660/Children',\n",
       " 'https://cdn.myanimelist.net/images/manga/3/211019.jpg?s=408016ed82287adeddbb6c292e92eb11',\n",
       " '']"
      ]
     },
     "execution_count": 21,
     "metadata": {},
     "output_type": "execute_result"
    }
   ],
   "source": [
    "all_info = []\n",
    "for title in tqdm(wrong_list):\n",
    "    try:\n",
    "        title_info = []\n",
    "        dict = {}\n",
    "        dict = jikan.search('manga', title)\n",
    "        #search title\n",
    "        title_info.append(title)\n",
    "        #skip 0 because title number 0 is wrong\n",
    "        for i in range(5):\n",
    "            try:\n",
    "                if dict['results'][i]['title'] == title:\n",
    "                    #result title\n",
    "                    title_info.append(dict['results'][i]['title'])\n",
    "                    title_info.append(dict['results'][i]['mal_id'])\n",
    "                    time.sleep(1)\n",
    "                    title_info.append(dict['results'][i]['url'])\n",
    "                    title_info.append(dict['results'][i]['image_url'])\n",
    "                    title_info.append(dict['results'][i]['synopsis'])\n",
    "                    all_info.append(title_info)\n",
    "                    time.sleep(1)\n",
    "                    all_info_df = pd.DataFrame(all_info)\n",
    "                    all_info_df.to_csv('all_info_1.csv', index = False)\n",
    "            except:\n",
    "                continue\n",
    "    except:\n",
    "        continue\n",
    "\n",
    "title_info"
   ]
  },
  {
   "cell_type": "code",
   "execution_count": 37,
   "id": "81345253",
   "metadata": {},
   "outputs": [
    {
     "data": {
      "text/plain": [
       "0"
      ]
     },
     "execution_count": 37,
     "metadata": {},
     "output_type": "execute_result"
    }
   ],
   "source": [
    "all_info_2_df = pd.read_csv('all_info_1.csv')\n",
    "all_info_2_df.rename(columns = {'0':'search title','1':'result title','2':'mal_id','3':'url','4':'image','5':'synopsis'}, inplace = True)\n",
    "wrong_list_2 = all_info_2_df[all_info_2_df['search title'] != all_info_2_df['result title']]['search title'].tolist()\n",
    "len(wrong_list_2)"
   ]
  },
  {
   "cell_type": "code",
   "execution_count": 38,
   "id": "3484639c",
   "metadata": {},
   "outputs": [
    {
     "data": {
      "text/plain": [
       "900"
      ]
     },
     "execution_count": 38,
     "metadata": {},
     "output_type": "execute_result"
    }
   ],
   "source": [
    "title_list = reading_no_zero_df['item'].unique().tolist()\n",
    "remaining_list = []\n",
    "for title in title_list:\n",
    "    if title not in all_info_1_df['search title'].tolist():\n",
    "        remaining_list.append(title)\n",
    "len(remaining_list)"
   ]
  },
  {
   "cell_type": "code",
   "execution_count": 10,
   "id": "ee1d2261",
   "metadata": {},
   "outputs": [
    {
     "name": "stderr",
     "output_type": "stream",
     "text": [
      "100%|██████████████████████████████████████████████████████████████████████████████| 900/900 [3:59:01<00:00, 15.93s/it]\n"
     ]
    }
   ],
   "source": [
    "all_info = []\n",
    "for title in tqdm(remaining_list):\n",
    "    try:\n",
    "        title_info = []\n",
    "        dict = {}\n",
    "        dict = jikan.search('manga', title)\n",
    "        #search title\n",
    "        title_info.append(title)\n",
    "        for i in range(0,5):\n",
    "            try:\n",
    "                if dict['results'][i]['title'] == title:\n",
    "                    #result title\n",
    "                    title_info.append(dict['results'][i]['title'])\n",
    "                    title_info.append(dict['results'][i]['mal_id'])\n",
    "                    time.sleep(1)\n",
    "                    title_info.append(dict['results'][i]['url'])\n",
    "                    title_info.append(dict['results'][i]['image_url'])\n",
    "                    title_info.append(dict['results'][i]['synopsis'])\n",
    "                    all_info.append(title_info)\n",
    "                    time.sleep(1)\n",
    "                    all_info_df = pd.DataFrame(all_info)\n",
    "                    all_info_df.to_csv('all_info_2.csv', index = False)\n",
    "            except:\n",
    "                continue\n",
    "    except:\n",
    "        continue"
   ]
  },
  {
   "cell_type": "code",
   "execution_count": 39,
   "id": "73b77c67",
   "metadata": {},
   "outputs": [
    {
     "data": {
      "text/html": [
       "<div>\n",
       "<style scoped>\n",
       "    .dataframe tbody tr th:only-of-type {\n",
       "        vertical-align: middle;\n",
       "    }\n",
       "\n",
       "    .dataframe tbody tr th {\n",
       "        vertical-align: top;\n",
       "    }\n",
       "\n",
       "    .dataframe thead th {\n",
       "        text-align: right;\n",
       "    }\n",
       "</style>\n",
       "<table border=\"1\" class=\"dataframe\">\n",
       "  <thead>\n",
       "    <tr style=\"text-align: right;\">\n",
       "      <th></th>\n",
       "      <th>search title</th>\n",
       "      <th>result title</th>\n",
       "      <th>mal_id</th>\n",
       "      <th>url</th>\n",
       "      <th>image</th>\n",
       "      <th>synopsis</th>\n",
       "      <th>6</th>\n",
       "      <th>7</th>\n",
       "      <th>8</th>\n",
       "      <th>9</th>\n",
       "      <th>10</th>\n",
       "      <th>11</th>\n",
       "      <th>12</th>\n",
       "      <th>13</th>\n",
       "      <th>14</th>\n",
       "      <th>15</th>\n",
       "    </tr>\n",
       "  </thead>\n",
       "  <tbody>\n",
       "  </tbody>\n",
       "</table>\n",
       "</div>"
      ],
      "text/plain": [
       "Empty DataFrame\n",
       "Columns: [search title, result title, mal_id, url, image, synopsis, 6, 7, 8, 9, 10, 11, 12, 13, 14, 15]\n",
       "Index: []"
      ]
     },
     "execution_count": 39,
     "metadata": {},
     "output_type": "execute_result"
    }
   ],
   "source": [
    "all_info_3_df = pd.read_csv('all_info_2.csv')\n",
    "all_info_3_df.rename(columns = {'0':'search title','1':'result title','2':'mal_id','3':'url','4':'image','5':'synopsis'}, inplace = True)\n",
    "all_info_3_df[all_info_3_df['search title'] != all_info_3_df['result title']]"
   ]
  },
  {
   "cell_type": "code",
   "execution_count": 40,
   "id": "f66330f5",
   "metadata": {},
   "outputs": [
    {
     "data": {
      "text/plain": [
       "(1936, 6)"
      ]
     },
     "execution_count": 40,
     "metadata": {},
     "output_type": "execute_result"
    }
   ],
   "source": [
    "all_info_1_df = all_info_1_df[all_info_1_df['search title'] == all_info_1_df['result title']]\n",
    "all_info_1_df.shape"
   ]
  },
  {
   "cell_type": "code",
   "execution_count": 41,
   "id": "7bf1ee38",
   "metadata": {},
   "outputs": [
    {
     "data": {
      "text/plain": [
       "(72, 11)"
      ]
     },
     "execution_count": 41,
     "metadata": {},
     "output_type": "execute_result"
    }
   ],
   "source": [
    "all_info_2_df.shape"
   ]
  },
  {
   "cell_type": "code",
   "execution_count": 42,
   "id": "6a665116",
   "metadata": {},
   "outputs": [],
   "source": [
    "all_info_2_df = all_info_2_df[['search title','result title','mal_id','url','image','synopsis']]"
   ]
  },
  {
   "cell_type": "code",
   "execution_count": 43,
   "id": "d554ea4b",
   "metadata": {},
   "outputs": [
    {
     "data": {
      "text/plain": [
       "Index(['search title', 'result title', 'mal_id', 'url', 'image', 'synopsis'], dtype='object')"
      ]
     },
     "execution_count": 43,
     "metadata": {},
     "output_type": "execute_result"
    }
   ],
   "source": [
    "all_info_2_df.columns.unique()"
   ]
  },
  {
   "cell_type": "code",
   "execution_count": 44,
   "id": "2a5435b9",
   "metadata": {},
   "outputs": [
    {
     "data": {
      "text/plain": [
       "(72, 6)"
      ]
     },
     "execution_count": 44,
     "metadata": {},
     "output_type": "execute_result"
    }
   ],
   "source": [
    "all_info_2_df.shape"
   ]
  },
  {
   "cell_type": "code",
   "execution_count": 45,
   "id": "b2d6fbdf",
   "metadata": {},
   "outputs": [
    {
     "data": {
      "text/plain": [
       "(2008, 6)"
      ]
     },
     "execution_count": 45,
     "metadata": {},
     "output_type": "execute_result"
    }
   ],
   "source": [
    "all_info_final_df = pd.concat(objs = [all_info_1_df,all_info_2_df])\n",
    "all_info_final_df.shape"
   ]
  },
  {
   "cell_type": "code",
   "execution_count": 46,
   "id": "d038dcdc",
   "metadata": {},
   "outputs": [
    {
     "data": {
      "text/plain": [
       "(814, 16)"
      ]
     },
     "execution_count": 46,
     "metadata": {},
     "output_type": "execute_result"
    }
   ],
   "source": [
    "all_info_3_df.shape"
   ]
  },
  {
   "cell_type": "code",
   "execution_count": 48,
   "id": "805fa978",
   "metadata": {},
   "outputs": [
    {
     "data": {
      "text/plain": [
       "Index(['search title', 'result title', 'mal_id', 'url', 'image', 'synopsis',\n",
       "       '6', '7', '8', '9', '10', '11', '12', '13', '14', '15'],\n",
       "      dtype='object')"
      ]
     },
     "execution_count": 48,
     "metadata": {},
     "output_type": "execute_result"
    }
   ],
   "source": [
    "all_info_3_df.columns.unique()"
   ]
  },
  {
   "cell_type": "code",
   "execution_count": 49,
   "id": "90e18727",
   "metadata": {},
   "outputs": [],
   "source": [
    "all_info_3_df = all_info_3_df[['search title','result title','mal_id','url','image','synopsis']]"
   ]
  },
  {
   "cell_type": "code",
   "execution_count": 50,
   "id": "c2f9e7b6",
   "metadata": {},
   "outputs": [
    {
     "data": {
      "text/plain": [
       "(814, 6)"
      ]
     },
     "execution_count": 50,
     "metadata": {},
     "output_type": "execute_result"
    }
   ],
   "source": [
    "all_info_3_df.shape"
   ]
  },
  {
   "cell_type": "code",
   "execution_count": 51,
   "id": "b8ac08c7",
   "metadata": {},
   "outputs": [
    {
     "data": {
      "text/plain": [
       "(2822, 6)"
      ]
     },
     "execution_count": 51,
     "metadata": {},
     "output_type": "execute_result"
    }
   ],
   "source": [
    "all_info_final_df = pd.concat(objs = [all_info_final_df,all_info_3_df])\n",
    "all_info_final_df.shape"
   ]
  },
  {
   "cell_type": "code",
   "execution_count": 53,
   "id": "a3b6af4b",
   "metadata": {},
   "outputs": [],
   "source": [
    "all_info_final_df.to_csv('all_info_final.csv', index = False)"
   ]
  },
  {
   "cell_type": "code",
   "execution_count": 52,
   "id": "d6b0a83a",
   "metadata": {},
   "outputs": [
    {
     "data": {
      "text/plain": [
       "208"
      ]
     },
     "execution_count": 52,
     "metadata": {},
     "output_type": "execute_result"
    }
   ],
   "source": [
    "title_list = reading_no_zero_df['item'].unique().tolist()\n",
    "remaining_list = []\n",
    "for title in title_list:\n",
    "    if title not in all_info_final_df['result title'].tolist():\n",
    "        remaining_list.append(title)\n",
    "len(remaining_list)"
   ]
  },
  {
   "cell_type": "code",
   "execution_count": 54,
   "id": "587f431b",
   "metadata": {},
   "outputs": [
    {
     "name": "stderr",
     "output_type": "stream",
     "text": [
      "100%|██████████████████████████████████████████████████████████████████████████████| 208/208 [1:20:51<00:00, 23.32s/it]\n"
     ]
    }
   ],
   "source": [
    "all_info = []\n",
    "for title in tqdm(remaining_list):\n",
    "    try:\n",
    "        title_info = []\n",
    "        dict = {}\n",
    "        dict = jikan.search('manga', title)\n",
    "        #search title\n",
    "        title_info.append(title)\n",
    "        for i in range(0,5):\n",
    "            try:\n",
    "                if dict['results'][i]['title'] == title:\n",
    "                    #result title\n",
    "                    title_info.append(dict['results'][i]['title'])\n",
    "                    title_info.append(dict['results'][i]['mal_id'])\n",
    "                    time.sleep(1)\n",
    "                    title_info.append(dict['results'][i]['url'])\n",
    "                    title_info.append(dict['results'][i]['image_url'])\n",
    "                    title_info.append(dict['results'][i]['synopsis'])\n",
    "                    all_info.append(title_info)\n",
    "                    time.sleep(1)\n",
    "                    all_info_df = pd.DataFrame(all_info)\n",
    "                    all_info_df.to_csv('all_info_3.csv', index = False)\n",
    "            except:\n",
    "                continue\n",
    "    except:\n",
    "        continue"
   ]
  },
  {
   "cell_type": "code",
   "execution_count": 55,
   "id": "40dd9378",
   "metadata": {},
   "outputs": [
    {
     "data": {
      "text/html": [
       "<div>\n",
       "<style scoped>\n",
       "    .dataframe tbody tr th:only-of-type {\n",
       "        vertical-align: middle;\n",
       "    }\n",
       "\n",
       "    .dataframe tbody tr th {\n",
       "        vertical-align: top;\n",
       "    }\n",
       "\n",
       "    .dataframe thead th {\n",
       "        text-align: right;\n",
       "    }\n",
       "</style>\n",
       "<table border=\"1\" class=\"dataframe\">\n",
       "  <thead>\n",
       "    <tr style=\"text-align: right;\">\n",
       "      <th></th>\n",
       "      <th>search title</th>\n",
       "      <th>result title</th>\n",
       "      <th>mal_id</th>\n",
       "      <th>url</th>\n",
       "      <th>image</th>\n",
       "      <th>synopsis</th>\n",
       "      <th>6</th>\n",
       "      <th>7</th>\n",
       "      <th>8</th>\n",
       "      <th>9</th>\n",
       "      <th>...</th>\n",
       "      <th>11</th>\n",
       "      <th>12</th>\n",
       "      <th>13</th>\n",
       "      <th>14</th>\n",
       "      <th>15</th>\n",
       "      <th>16</th>\n",
       "      <th>17</th>\n",
       "      <th>18</th>\n",
       "      <th>19</th>\n",
       "      <th>20</th>\n",
       "    </tr>\n",
       "  </thead>\n",
       "  <tbody>\n",
       "  </tbody>\n",
       "</table>\n",
       "<p>0 rows × 21 columns</p>\n",
       "</div>"
      ],
      "text/plain": [
       "Empty DataFrame\n",
       "Columns: [search title, result title, mal_id, url, image, synopsis, 6, 7, 8, 9, 10, 11, 12, 13, 14, 15, 16, 17, 18, 19, 20]\n",
       "Index: []\n",
       "\n",
       "[0 rows x 21 columns]"
      ]
     },
     "execution_count": 55,
     "metadata": {},
     "output_type": "execute_result"
    }
   ],
   "source": [
    "all_info_4_df = pd.read_csv('all_info_3.csv')\n",
    "all_info_4_df.rename(columns = {'0':'search title','1':'result title','2':'mal_id','3':'url','4':'image','5':'synopsis'}, inplace = True)\n",
    "all_info_4_df[all_info_4_df['search title'] != all_info_4_df['result title']]"
   ]
  },
  {
   "cell_type": "code",
   "execution_count": 56,
   "id": "52d94dcb",
   "metadata": {},
   "outputs": [
    {
     "data": {
      "text/plain": [
       "(137, 21)"
      ]
     },
     "execution_count": 56,
     "metadata": {},
     "output_type": "execute_result"
    }
   ],
   "source": [
    "all_info_4_df.shape"
   ]
  },
  {
   "cell_type": "code",
   "execution_count": 57,
   "id": "5eb7fb55",
   "metadata": {},
   "outputs": [],
   "source": [
    "all_info_4_df = all_info_4_df[['search title','result title','mal_id','url','image','synopsis']]"
   ]
  },
  {
   "cell_type": "code",
   "execution_count": 58,
   "id": "b83c0071",
   "metadata": {},
   "outputs": [
    {
     "data": {
      "text/plain": [
       "(137, 6)"
      ]
     },
     "execution_count": 58,
     "metadata": {},
     "output_type": "execute_result"
    }
   ],
   "source": [
    "all_info_4_df.shape"
   ]
  },
  {
   "cell_type": "code",
   "execution_count": 59,
   "id": "089406a9",
   "metadata": {},
   "outputs": [
    {
     "data": {
      "text/plain": [
       "(2959, 6)"
      ]
     },
     "execution_count": 59,
     "metadata": {},
     "output_type": "execute_result"
    }
   ],
   "source": [
    "all_info_final_df = pd.concat(objs = [all_info_final_df,all_info_4_df])\n",
    "all_info_final_df.shape"
   ]
  },
  {
   "cell_type": "code",
   "execution_count": 64,
   "id": "7aa43440",
   "metadata": {},
   "outputs": [],
   "source": [
    "all_info_final_df.to_csv('all_info_final.csv', index = False)"
   ]
  },
  {
   "cell_type": "code",
   "execution_count": 60,
   "id": "faabd945",
   "metadata": {},
   "outputs": [
    {
     "data": {
      "text/plain": [
       "91"
      ]
     },
     "execution_count": 60,
     "metadata": {},
     "output_type": "execute_result"
    }
   ],
   "source": [
    "title_list = reading_no_zero_df['item'].unique().tolist()\n",
    "remaining_list = []\n",
    "for title in title_list:\n",
    "    if title not in all_info_final_df['result title'].tolist():\n",
    "        remaining_list.append(title)\n",
    "len(remaining_list)"
   ]
  },
  {
   "cell_type": "code",
   "execution_count": 65,
   "id": "ae7f519d",
   "metadata": {},
   "outputs": [
    {
     "name": "stderr",
     "output_type": "stream",
     "text": [
      "100%|██████████████████████████████████████████████████████████████████████████████████| 91/91 [12:56<00:00,  8.53s/it]\n"
     ]
    }
   ],
   "source": [
    "all_info = []\n",
    "for title in tqdm(remaining_list):\n",
    "    try:\n",
    "        title_info = []\n",
    "        dict = {}\n",
    "        dict = jikan.search('manga', title)\n",
    "        #search title\n",
    "        title_info.append(title)\n",
    "        for i in range(0,5):\n",
    "            try:\n",
    "                if dict['results'][i]['title'] == title:\n",
    "                    #result title\n",
    "                    title_info.append(dict['results'][i]['title'])\n",
    "                    title_info.append(dict['results'][i]['mal_id'])\n",
    "                    time.sleep(1)\n",
    "                    title_info.append(dict['results'][i]['url'])\n",
    "                    title_info.append(dict['results'][i]['image_url'])\n",
    "                    title_info.append(dict['results'][i]['synopsis'])\n",
    "                    all_info.append(title_info)\n",
    "                    time.sleep(1)\n",
    "                    all_info_df = pd.DataFrame(all_info)\n",
    "                    all_info_df.to_csv('all_info_4.csv', index = False)\n",
    "            except:\n",
    "                continue\n",
    "    except:\n",
    "        continue"
   ]
  },
  {
   "cell_type": "code",
   "execution_count": 66,
   "id": "6f9be663",
   "metadata": {},
   "outputs": [
    {
     "data": {
      "text/html": [
       "<div>\n",
       "<style scoped>\n",
       "    .dataframe tbody tr th:only-of-type {\n",
       "        vertical-align: middle;\n",
       "    }\n",
       "\n",
       "    .dataframe tbody tr th {\n",
       "        vertical-align: top;\n",
       "    }\n",
       "\n",
       "    .dataframe thead th {\n",
       "        text-align: right;\n",
       "    }\n",
       "</style>\n",
       "<table border=\"1\" class=\"dataframe\">\n",
       "  <thead>\n",
       "    <tr style=\"text-align: right;\">\n",
       "      <th></th>\n",
       "      <th>search title</th>\n",
       "      <th>result title</th>\n",
       "      <th>mal_id</th>\n",
       "      <th>url</th>\n",
       "      <th>image</th>\n",
       "      <th>synopsis</th>\n",
       "      <th>6</th>\n",
       "      <th>7</th>\n",
       "      <th>8</th>\n",
       "      <th>9</th>\n",
       "      <th>10</th>\n",
       "    </tr>\n",
       "  </thead>\n",
       "  <tbody>\n",
       "  </tbody>\n",
       "</table>\n",
       "</div>"
      ],
      "text/plain": [
       "Empty DataFrame\n",
       "Columns: [search title, result title, mal_id, url, image, synopsis, 6, 7, 8, 9, 10]\n",
       "Index: []"
      ]
     },
     "execution_count": 66,
     "metadata": {},
     "output_type": "execute_result"
    }
   ],
   "source": [
    "all_info_5_df = pd.read_csv('all_info_4.csv')\n",
    "all_info_5_df.rename(columns = {'0':'search title','1':'result title','2':'mal_id','3':'url','4':'image','5':'synopsis'}, inplace = True)\n",
    "all_info_5_df[all_info_5_df['search title'] != all_info_5_df['result title']]"
   ]
  },
  {
   "cell_type": "code",
   "execution_count": 67,
   "id": "36c4c791",
   "metadata": {},
   "outputs": [
    {
     "data": {
      "text/plain": [
       "(66, 11)"
      ]
     },
     "execution_count": 67,
     "metadata": {},
     "output_type": "execute_result"
    }
   ],
   "source": [
    "all_info_5_df.shape"
   ]
  },
  {
   "cell_type": "code",
   "execution_count": 68,
   "id": "e663d36d",
   "metadata": {},
   "outputs": [
    {
     "data": {
      "text/plain": [
       "(66, 6)"
      ]
     },
     "execution_count": 68,
     "metadata": {},
     "output_type": "execute_result"
    }
   ],
   "source": [
    "all_info_5_df = all_info_5_df[['search title','result title','mal_id','url','image','synopsis']]\n",
    "all_info_5_df.shape"
   ]
  },
  {
   "cell_type": "code",
   "execution_count": 69,
   "id": "dba96bb8",
   "metadata": {},
   "outputs": [
    {
     "data": {
      "text/plain": [
       "(3025, 6)"
      ]
     },
     "execution_count": 69,
     "metadata": {},
     "output_type": "execute_result"
    }
   ],
   "source": [
    "all_info_final_df = pd.concat(objs = [all_info_final_df,all_info_5_df])\n",
    "all_info_final_df.shape"
   ]
  },
  {
   "cell_type": "code",
   "execution_count": 70,
   "id": "806fba4b",
   "metadata": {},
   "outputs": [
    {
     "data": {
      "text/plain": [
       "33"
      ]
     },
     "execution_count": 70,
     "metadata": {},
     "output_type": "execute_result"
    }
   ],
   "source": [
    "title_list = reading_no_zero_df['item'].unique().tolist()\n",
    "remaining_list = []\n",
    "for title in title_list:\n",
    "    if title not in all_info_final_df['result title'].tolist():\n",
    "        remaining_list.append(title)\n",
    "len(remaining_list)"
   ]
  },
  {
   "cell_type": "code",
   "execution_count": 71,
   "id": "ed0f894c",
   "metadata": {},
   "outputs": [
    {
     "name": "stderr",
     "output_type": "stream",
     "text": [
      "100%|██████████████████████████████████████████████████████████████████████████████████| 33/33 [06:20<00:00, 11.52s/it]\n"
     ]
    }
   ],
   "source": [
    "all_info = []\n",
    "for title in tqdm(remaining_list):\n",
    "    try:\n",
    "        title_info = []\n",
    "        dict = {}\n",
    "        dict = jikan.search('manga', title)\n",
    "        #search title\n",
    "        title_info.append(title)\n",
    "        for i in range(0,5):\n",
    "            try:\n",
    "                if dict['results'][i]['title'] == title:\n",
    "                    #result title\n",
    "                    title_info.append(dict['results'][i]['title'])\n",
    "                    title_info.append(dict['results'][i]['mal_id'])\n",
    "                    time.sleep(1)\n",
    "                    title_info.append(dict['results'][i]['url'])\n",
    "                    title_info.append(dict['results'][i]['image_url'])\n",
    "                    title_info.append(dict['results'][i]['synopsis'])\n",
    "                    all_info.append(title_info)\n",
    "                    time.sleep(1)\n",
    "                    all_info_df = pd.DataFrame(all_info)\n",
    "                    all_info_df.to_csv('all_info_4.csv', index = False)\n",
    "            except:\n",
    "                continue\n",
    "    except:\n",
    "        continue"
   ]
  },
  {
   "cell_type": "code",
   "execution_count": 72,
   "id": "15225614",
   "metadata": {},
   "outputs": [
    {
     "data": {
      "text/html": [
       "<div>\n",
       "<style scoped>\n",
       "    .dataframe tbody tr th:only-of-type {\n",
       "        vertical-align: middle;\n",
       "    }\n",
       "\n",
       "    .dataframe tbody tr th {\n",
       "        vertical-align: top;\n",
       "    }\n",
       "\n",
       "    .dataframe thead th {\n",
       "        text-align: right;\n",
       "    }\n",
       "</style>\n",
       "<table border=\"1\" class=\"dataframe\">\n",
       "  <thead>\n",
       "    <tr style=\"text-align: right;\">\n",
       "      <th></th>\n",
       "      <th>search title</th>\n",
       "      <th>result title</th>\n",
       "      <th>mal_id</th>\n",
       "      <th>url</th>\n",
       "      <th>image</th>\n",
       "      <th>synopsis</th>\n",
       "    </tr>\n",
       "  </thead>\n",
       "  <tbody>\n",
       "  </tbody>\n",
       "</table>\n",
       "</div>"
      ],
      "text/plain": [
       "Empty DataFrame\n",
       "Columns: [search title, result title, mal_id, url, image, synopsis]\n",
       "Index: []"
      ]
     },
     "execution_count": 72,
     "metadata": {},
     "output_type": "execute_result"
    }
   ],
   "source": [
    "all_info_6_df = pd.read_csv('all_info_5.csv')\n",
    "all_info_6_df.rename(columns = {'0':'search title','1':'result title','2':'mal_id','3':'url','4':'image','5':'synopsis'}, inplace = True)\n",
    "all_info_6_df[all_info_6_df['search title'] != all_info_6_df['result title']]"
   ]
  },
  {
   "cell_type": "code",
   "execution_count": 73,
   "id": "48402120",
   "metadata": {},
   "outputs": [
    {
     "data": {
      "text/plain": [
       "(4, 6)"
      ]
     },
     "execution_count": 73,
     "metadata": {},
     "output_type": "execute_result"
    }
   ],
   "source": [
    "all_info_6_df.shape"
   ]
  },
  {
   "cell_type": "code",
   "execution_count": 74,
   "id": "311e3769",
   "metadata": {},
   "outputs": [
    {
     "data": {
      "text/plain": [
       "(4, 6)"
      ]
     },
     "execution_count": 74,
     "metadata": {},
     "output_type": "execute_result"
    }
   ],
   "source": [
    "all_info_6_df = all_info_6_df[['search title','result title','mal_id','url','image','synopsis']]\n",
    "all_info_6_df.shape"
   ]
  },
  {
   "cell_type": "code",
   "execution_count": 75,
   "id": "38bdbfb5",
   "metadata": {},
   "outputs": [
    {
     "data": {
      "text/plain": [
       "(3029, 6)"
      ]
     },
     "execution_count": 75,
     "metadata": {},
     "output_type": "execute_result"
    }
   ],
   "source": [
    "all_info_final_df = pd.concat(objs = [all_info_final_df,all_info_6_df])\n",
    "all_info_final_df.shape"
   ]
  },
  {
   "cell_type": "code",
   "execution_count": 88,
   "id": "093aa5e4",
   "metadata": {},
   "outputs": [
    {
     "data": {
      "text/plain": [
       "29"
      ]
     },
     "execution_count": 88,
     "metadata": {},
     "output_type": "execute_result"
    }
   ],
   "source": [
    "title_list = reading_no_zero_df['item'].unique().tolist()\n",
    "remaining_list = []\n",
    "for title in title_list:\n",
    "    if title not in all_info_final_df['result title'].tolist():\n",
    "        remaining_list.append(title)\n",
    "len(remaining_list)"
   ]
  },
  {
   "cell_type": "code",
   "execution_count": 87,
   "id": "18de1201",
   "metadata": {},
   "outputs": [
    {
     "data": {
      "text/plain": [
       "['1',\n",
       " 'By Hero',\n",
       " 'My Girl',\n",
       " 'The One',\n",
       " '≠',\n",
       " 'Kimi ga Suki',\n",
       " 'Bastard!!: Ankoku no Hakaishin',\n",
       " 'Honzuki no Gekokujou: Shisho ni Naru Tame ni wa Shudan wo Erandeiraremasen Dai 1-bu - Hon ga Nai nara Tsukureba Ii!',\n",
       " 'X',\n",
       " 'H2',\n",
       " 'IO',\n",
       " 'Coffee & Vanilla',\n",
       " 'Maou Gakuin no Futekigousha: Shijou Saikyou no Maou no Shiso, Tensei shite Shison-tachi no Gakkou e Kayou',\n",
       " 'My Hero!',\n",
       " '86',\n",
       " 'SE',\n",
       " 'Blood+',\n",
       " 'K-On!',\n",
       " 'Ochanigosu.',\n",
       " 'Biyaku Cafe',\n",
       " 'Boku wa Imouto ni Koi wo Suru',\n",
       " 'Kurokami',\n",
       " 'Id',\n",
       " 'Love & Sex',\n",
       " 'Boukensha License wo Hakudatsu sareta Ossan dakedo, Manamusume ga Dekita node Nonbiri Jinsei wo Ouka suru',\n",
       " 'Shin no Nakama ja Nai to Yuusha no Party wo Oidasareta node, Henkyou de Slow Life suru Koto ni Shimashita',\n",
       " 'Girls & Panzer',\n",
       " 'ST&RS',\n",
       " 'Psycome']"
      ]
     },
     "execution_count": 87,
     "metadata": {},
     "output_type": "execute_result"
    }
   ],
   "source": [
    "remaining_list"
   ]
  },
  {
   "cell_type": "code",
   "execution_count": 86,
   "id": "85de3fd6",
   "metadata": {},
   "outputs": [
    {
     "data": {
      "text/plain": [
       "{'request_hash': 'request:search:43cc2102b7cd8390c84097160a4a9661b3ee66cf',\n",
       " 'request_cached': True,\n",
       " 'request_cache_expiry': 265334,\n",
       " 'API_DEPRECATION': True,\n",
       " 'API_DEPRECATION_DATE': '2022-02-10T16:02:50+00:00',\n",
       " 'API_DEPRECATION_INFO': 'https://bit.ly/jikan-v3-deprecation',\n",
       " 'results': [{'mal_id': 75989,\n",
       "   'url': 'https://myanimelist.net/manga/75989/Boku_no_Hero_Academia',\n",
       "   'image_url': 'https://cdn.myanimelist.net/images/manga/1/209370.jpg?s=2ecbe2700c0d80f4ee08692d7efeac4c',\n",
       "   'title': 'Boku no Hero Academia',\n",
       "   'publishing': True,\n",
       "   'synopsis': 'One day, a four-year-old boy came to a sudden realization: the world is not fair. Eighty percent of the world\\'s population wield special abilities, known as \"quirks,\" which have given many the power t...',\n",
       "   'type': 'Manga',\n",
       "   'chapters': 0,\n",
       "   'volumes': 0,\n",
       "   'score': 8.22,\n",
       "   'start_date': '2014-07-07T00:00:00+00:00',\n",
       "   'end_date': None,\n",
       "   'members': 374880},\n",
       "  {'mal_id': 14440,\n",
       "   'url': 'https://myanimelist.net/manga/14440/I_Am_a_Hero',\n",
       "   'image_url': 'https://cdn.myanimelist.net/images/manga/1/121183.jpg?s=20fe5c10fbe598dcc0687bc6706d4b60',\n",
       "   'title': 'I Am a Hero',\n",
       "   'publishing': False,\n",
       "   'synopsis': \"Insecure 35-year-old Hideo Suzuki is forced to work as a mangaka's assistant when his own series fails due to low sales. As he struggles through a mundane life plagued by hallucinations, he comes to r...\",\n",
       "   'type': 'Manga',\n",
       "   'chapters': 264,\n",
       "   'volumes': 22,\n",
       "   'score': 7.7,\n",
       "   'start_date': '2009-04-20T00:00:00+00:00',\n",
       "   'end_date': '2017-02-27T00:00:00+00:00',\n",
       "   'members': 81037},\n",
       "  {'mal_id': 115688,\n",
       "   'url': 'https://myanimelist.net/manga/115688/RaW_Hero',\n",
       "   'image_url': 'https://cdn.myanimelist.net/images/manga/3/215834.jpg?s=d1b53ede8de4f2cb59b5841d9fffc385',\n",
       "   'title': 'RaW Hero',\n",
       "   'publishing': False,\n",
       "   'synopsis': 'In a world where some of humanity possesses special abilities, those who use their powers for truth and justice are called \"heros,\" and those who use them for evil are called \"fiends.\" In the midst of...',\n",
       "   'type': 'Manga',\n",
       "   'chapters': 41,\n",
       "   'volumes': 6,\n",
       "   'score': 6.32,\n",
       "   'start_date': '2018-09-25T00:00:00+00:00',\n",
       "   'end_date': '2020-08-11T00:00:00+00:00',\n",
       "   'members': 9391},\n",
       "  {'mal_id': 16197,\n",
       "   'url': 'https://myanimelist.net/manga/16197/Hero',\n",
       "   'image_url': 'https://cdn.myanimelist.net/images/manga/2/156261.jpg?s=047c2de83c3f25a36d50e0760f692f4f',\n",
       "   'title': 'Hero',\n",
       "   'publishing': False,\n",
       "   'synopsis': \"Set in 2002, three years after the events of Ten: Tenhou-doori no Kaidanji, the story chronicles Hiroyuki's quest to follow Akagi's advice and live life freely even if it means complete failure. (Sour...\",\n",
       "   'type': 'Manga',\n",
       "   'chapters': 142,\n",
       "   'volumes': 18,\n",
       "   'score': 7.04,\n",
       "   'start_date': '2009-10-01T00:00:00+00:00',\n",
       "   'end_date': '2021-07-01T00:00:00+00:00',\n",
       "   'members': 921},\n",
       "  {'mal_id': 634,\n",
       "   'url': 'https://myanimelist.net/manga/634/Beniiro_Hero',\n",
       "   'image_url': 'https://cdn.myanimelist.net/images/manga/2/165847.jpg?s=93886ff3846b70c9113bc0962538d61c',\n",
       "   'title': 'Beniiro Hero',\n",
       "   'publishing': False,\n",
       "   'synopsis': \"All that matters to 15-year-old Nobara Sumiyoshi is volleyball—she's an awesome player with big-time ambitions. But sometimes it seems like a girl just can't get a break in the competitive world of hi...\",\n",
       "   'type': 'Manga',\n",
       "   'chapters': 87,\n",
       "   'volumes': 20,\n",
       "   'score': 7.86,\n",
       "   'start_date': '2002-12-13T00:00:00+00:00',\n",
       "   'end_date': '2011-01-13T00:00:00+00:00',\n",
       "   'members': 8147},\n",
       "  {'mal_id': 4994,\n",
       "   'url': 'https://myanimelist.net/manga/4994/By_Hero',\n",
       "   'image_url': 'https://cdn.myanimelist.net/images/manga/3/82078.jpg?s=ba47fde538a5810c5ec812d2bb866e02',\n",
       "   'title': 'By Hero',\n",
       "   'publishing': False,\n",
       "   'synopsis': \"Sendrick is a little bird that has always hated humans the most in the world. All his life, he's been running from them out of fear, but soon, he accidentally encounters a human tomboy-ish girl named...\",\n",
       "   'type': 'One-shot',\n",
       "   'chapters': 1,\n",
       "   'volumes': 0,\n",
       "   'score': 7.51,\n",
       "   'start_date': '2007-04-18T00:00:00+00:00',\n",
       "   'end_date': '2007-04-18T00:00:00+00:00',\n",
       "   'members': 5767},\n",
       "  {'mal_id': 15253,\n",
       "   'url': 'https://myanimelist.net/manga/15253/Heroman',\n",
       "   'image_url': 'https://cdn.myanimelist.net/images/manga/1/29478.jpg?s=a1436be7b1ebfd34cbdc19dd01453683',\n",
       "   'title': 'Heroman',\n",
       "   'publishing': False,\n",
       "   'synopsis': \"Joey wants to be a hero, but he's just an orphan who works day and night to take care of himself and his grandmother. After seeing a commercial for a toy robot, he desperately wants one, thinking the...\",\n",
       "   'type': 'Manga',\n",
       "   'chapters': 27,\n",
       "   'volumes': 5,\n",
       "   'score': 6.58,\n",
       "   'start_date': '2009-08-12T00:00:00+00:00',\n",
       "   'end_date': '2011-10-12T00:00:00+00:00',\n",
       "   'members': 999},\n",
       "  {'mal_id': 72257,\n",
       "   'url': 'https://myanimelist.net/manga/72257/Heroinic_Hero',\n",
       "   'image_url': 'https://cdn.myanimelist.net/images/manga/1/124857.jpg?s=399c9c7902a166f56025873b516bf24c',\n",
       "   'title': 'Heroinic Hero',\n",
       "   'publishing': False,\n",
       "   'synopsis': \"Kawaii Makoto is a 16-year-old boy. He adores everything with heroes and dreams to become one. This is the story of how he'll become one. (Source: Batoto)\",\n",
       "   'type': 'One-shot',\n",
       "   'chapters': 1,\n",
       "   'volumes': 0,\n",
       "   'score': 6.5,\n",
       "   'start_date': '2014-03-26T00:00:00+00:00',\n",
       "   'end_date': '2014-03-26T00:00:00+00:00',\n",
       "   'members': 309},\n",
       "  {'mal_id': 99177,\n",
       "   'url': 'https://myanimelist.net/manga/99177/4_Cut_Hero',\n",
       "   'image_url': 'https://cdn.myanimelist.net/images/manga/3/204866.jpg?s=2885b5324bee2dbd1abbcd22bc7d2103',\n",
       "   'title': '4 Cut Hero',\n",
       "   'publishing': True,\n",
       "   'synopsis': 'The Hero has defeated the Demon King, but the Princess he meant to save turned out to be a Prince. NEETdom, here he comes, but a life of relaxation surrounded by anime is a pretty sweet deal. Unfortun...',\n",
       "   'type': 'Manhwa',\n",
       "   'chapters': 0,\n",
       "   'volumes': 0,\n",
       "   'score': 8.05,\n",
       "   'start_date': '2014-08-18T00:00:00+00:00',\n",
       "   'end_date': None,\n",
       "   'members': 8497},\n",
       "  {'mal_id': 70273,\n",
       "   'url': 'https://myanimelist.net/manga/70273/Sayonara_Heron',\n",
       "   'image_url': 'https://cdn.myanimelist.net/images/manga/3/123897.jpg?s=fb92ea1c6456cf00dc6b446563989a53',\n",
       "   'title': 'Sayonara, Heron',\n",
       "   'publishing': False,\n",
       "   'synopsis': \"Souji's life has been a series of dull events, with his parents endlessly quarreling, until he comes across Mika, a carefree student who lives each day as it comes. They start a relationship which ban...\",\n",
       "   'type': 'Manga',\n",
       "   'chapters': 6,\n",
       "   'volumes': 1,\n",
       "   'score': 7.22,\n",
       "   'start_date': '2014-04-25T00:00:00+00:00',\n",
       "   'end_date': '2014-04-25T00:00:00+00:00',\n",
       "   'members': 3291},\n",
       "  {'mal_id': 108032,\n",
       "   'url': 'https://myanimelist.net/manga/108032/My_Home_Hero',\n",
       "   'image_url': 'https://cdn.myanimelist.net/images/manga/1/200302.jpg?s=9ccf207aa331ad987d354e23ace656a8',\n",
       "   'title': 'My Home Hero',\n",
       "   'publishing': True,\n",
       "   'synopsis': \"Tetsuo Tosu, an ordinary salaryman, discovers his daughter, Reika, has been physically abused by her boyfriend, Matori Nobuto. Trying to learn more about him, Tetsuo uncovers Matori's scheme to extort...\",\n",
       "   'type': 'Manga',\n",
       "   'chapters': 0,\n",
       "   'volumes': 0,\n",
       "   'score': 7.94,\n",
       "   'start_date': '2017-05-29T00:00:00+00:00',\n",
       "   'end_date': None,\n",
       "   'members': 16873},\n",
       "  {'mal_id': 18537,\n",
       "   'url': 'https://myanimelist.net/manga/18537/My_Hero',\n",
       "   'image_url': 'https://cdn.myanimelist.net/images/manga/1/77901.jpg?s=0783e44d02fd85955273daaf6648f987',\n",
       "   'title': 'My Hero!',\n",
       "   'publishing': False,\n",
       "   'synopsis': \"It's been a month since she entered high school, and Jun has started noticing a particular guy hanging around her classroom. When he suddenly confesses, she's not sure where she even knows him from--o...\",\n",
       "   'type': 'Manga',\n",
       "   'chapters': 8,\n",
       "   'volumes': 2,\n",
       "   'score': 7.42,\n",
       "   'start_date': '2009-06-13T00:00:00+00:00',\n",
       "   'end_date': '2010-03-13T00:00:00+00:00',\n",
       "   'members': 4290},\n",
       "  {'mal_id': 108329,\n",
       "   'url': 'https://myanimelist.net/manga/108329/Oh_My_Hero',\n",
       "   'image_url': 'https://cdn.myanimelist.net/images/manga/3/206901.jpg?s=4b45f7de04cacdfdc406b5ef5dd968e5',\n",
       "   'title': 'Oh My Hero!',\n",
       "   'publishing': False,\n",
       "   'synopsis': 'Inui works part-time as a tokusatsu hero in shows for children when he meets the Mugita family, a father and his son who have a lot of love for one particular ranger. As the Mugita family is always wa...',\n",
       "   'type': 'Manga',\n",
       "   'chapters': 6,\n",
       "   'volumes': 1,\n",
       "   'score': 7.27,\n",
       "   'start_date': '2016-05-06T00:00:00+00:00',\n",
       "   'end_date': '2017-04-28T00:00:00+00:00',\n",
       "   'members': 1273},\n",
       "  {'mal_id': 8402,\n",
       "   'url': 'https://myanimelist.net/manga/8402/Mezase_Hero',\n",
       "   'image_url': 'https://cdn.myanimelist.net/images/manga/2/208875.jpg?s=25e9863f8af8d8916fc34c0646a04847',\n",
       "   'title': 'Mezase Hero!',\n",
       "   'publishing': False,\n",
       "   'synopsis': 'Cheerful young Kashima \"Tora\" Toranosuke wanted to become a hero and ended up as a police detective. When he joins the police force, he gains not only his dream job, but also a group of new friend. In...',\n",
       "   'type': 'Manga',\n",
       "   'chapters': 9,\n",
       "   'volumes': 2,\n",
       "   'score': 7.32,\n",
       "   'start_date': '2001-07-14T00:00:00+00:00',\n",
       "   'end_date': '2004-01-08T00:00:00+00:00',\n",
       "   'members': 889},\n",
       "  {'mal_id': 99296,\n",
       "   'url': 'https://myanimelist.net/manga/99296/Hero_Killer',\n",
       "   'image_url': 'https://cdn.myanimelist.net/images/manga/1/181487.jpg?s=a884cd75e5078007ee4a91abacc941dc',\n",
       "   'title': 'Hero Killer',\n",
       "   'publishing': False,\n",
       "   'synopsis': \"The story of a young man's revenge on the heroes that failed him. (Source: MU)\",\n",
       "   'type': 'One-shot',\n",
       "   'chapters': 1,\n",
       "   'volumes': 0,\n",
       "   'score': 6.68,\n",
       "   'start_date': '2016-04-15T00:00:00+00:00',\n",
       "   'end_date': '2016-04-15T00:00:00+00:00',\n",
       "   'members': 2060},\n",
       "  {'mal_id': 255,\n",
       "   'url': 'https://myanimelist.net/manga/255/Hero_Heel__Eiyuu_to_Akkan',\n",
       "   'image_url': 'https://cdn.myanimelist.net/images/manga/1/193140.jpg?s=ebaa3f825fea31bcc02e84574bbe3d23',\n",
       "   'title': 'Hero Heel: Eiyuu to Akkan',\n",
       "   'publishing': False,\n",
       "   'synopsis': \"Minami is a young actor who has been cast as the main character of a superhero TV program. Although he takes the job half-heartedly, thinking of it as a mere children's show, he's soon taken by the ta...\",\n",
       "   'type': 'Manga',\n",
       "   'chapters': 14,\n",
       "   'volumes': 3,\n",
       "   'score': 7.51,\n",
       "   'start_date': '2005-01-01T00:00:00+00:00',\n",
       "   'end_date': '2007-01-01T00:00:00+00:00',\n",
       "   'members': 2314},\n",
       "  {'mal_id': 128231,\n",
       "   'url': 'https://myanimelist.net/manga/128231/Weak_Hero',\n",
       "   'image_url': 'https://cdn.myanimelist.net/images/manga/3/232795.jpg?s=ca636e1d6b83d7383a60f8518c20089e',\n",
       "   'title': 'Weak Hero',\n",
       "   'publishing': True,\n",
       "   'synopsis': \"Once the bullies target you, it's game over. The school is run by tyrants whose favorite hobby is tormenting the weakest kids in class. But then Gray arrived. This mysterious new student threatens to...\",\n",
       "   'type': 'Manhwa',\n",
       "   'chapters': 0,\n",
       "   'volumes': 0,\n",
       "   'score': 8.09,\n",
       "   'start_date': '2018-05-05T00:00:00+00:00',\n",
       "   'end_date': None,\n",
       "   'members': 14022},\n",
       "  {'mal_id': 33963,\n",
       "   'url': 'https://myanimelist.net/manga/33963/Hero_Co_Ltd',\n",
       "   'image_url': 'https://cdn.myanimelist.net/images/manga/3/61893.jpg?s=ca9fe20d0a25542828749b95999a2efb',\n",
       "   'title': 'Hero Co., Ltd.',\n",
       "   'publishing': False,\n",
       "   'synopsis': '\"Long ago, when danger approached the Earth there existed people exhibiting superhuman powers in order to save it; helping the weak and defeating evil for justice, not hesitating to sacrifice such bei...',\n",
       "   'type': 'Manhwa',\n",
       "   'chapters': 26,\n",
       "   'volumes': 4,\n",
       "   'score': 6.45,\n",
       "   'start_date': '2009-04-15T00:00:00+00:00',\n",
       "   'end_date': '2010-04-30T00:00:00+00:00',\n",
       "   'members': 794},\n",
       "  {'mal_id': 70537,\n",
       "   'url': 'https://myanimelist.net/manga/70537/My_Hero',\n",
       "   'image_url': 'https://cdn.myanimelist.net/images/manga/1/121207.jpg?s=76b5888eed03584d1b87704dc6d99270',\n",
       "   'title': 'My Hero',\n",
       "   'publishing': False,\n",
       "   'synopsis': 'Kae, who can’t seem to be as honest as she’d like to be, and Hiroto, self-conscious about his (lack of) height and childish appearance, are known for bickering all the time. Kae has kept her crush sec...',\n",
       "   'type': 'One-shot',\n",
       "   'chapters': 1,\n",
       "   'volumes': 0,\n",
       "   'score': 7.13,\n",
       "   'start_date': '2013-10-12T00:00:00+00:00',\n",
       "   'end_date': '2013-10-12T00:00:00+00:00',\n",
       "   'members': 1297},\n",
       "  {'mal_id': 86514,\n",
       "   'url': 'https://myanimelist.net/manga/86514/Henai_Heroism',\n",
       "   'image_url': 'https://cdn.myanimelist.net/images/manga/3/150228.jpg?s=b59840240cf78da6c6c54f72344a0b8c',\n",
       "   'title': 'Henai Heroism',\n",
       "   'publishing': False,\n",
       "   'synopsis': \"1. Chiguhagu Useful 2. Kimi wo Matsu Kimochi 3. Aniki, Ie wo Deteiku tte yo! 4. Atashi wa Sunao ni Naremasun. 5. Hoshizora Rocket 6. Honjitsu wa Seiten nari 7. Atashi wa Suki tte Iemasun. (I Just Can'...\",\n",
       "   'type': 'Manga',\n",
       "   'chapters': 10,\n",
       "   'volumes': 1,\n",
       "   'score': 7.06,\n",
       "   'start_date': '2012-11-22T00:00:00+00:00',\n",
       "   'end_date': '2014-12-22T00:00:00+00:00',\n",
       "   'members': 717},\n",
       "  {'mal_id': 79667,\n",
       "   'url': 'https://myanimelist.net/manga/79667/Baymax',\n",
       "   'image_url': 'https://cdn.myanimelist.net/images/manga/1/149519.jpg?s=a9e28a9521acdf58c94fd98d83ad86ba',\n",
       "   'title': 'Baymax',\n",
       "   'publishing': False,\n",
       "   'synopsis': 'A story about two brothers and a robot, Baymax. Set in a fictional metropolis called San Fransokyo (a portmanteau of San Francisco and Tokyo), a young robotics prodigy named Hiro Hamada and his robot...',\n",
       "   'type': 'Manga',\n",
       "   'chapters': 9,\n",
       "   'volumes': 2,\n",
       "   'score': 7.27,\n",
       "   'start_date': '2014-08-06T00:00:00+00:00',\n",
       "   'end_date': '2015-03-20T00:00:00+00:00',\n",
       "   'members': 1648},\n",
       "  {'mal_id': 112336,\n",
       "   'url': 'https://myanimelist.net/manga/112336/Trap_Heroine',\n",
       "   'image_url': 'https://cdn.myanimelist.net/images/manga/2/210473.jpg?s=e32b9d0b595c3abf08da552097f65e9f',\n",
       "   'title': 'Trap Heroine',\n",
       "   'publishing': False,\n",
       "   'synopsis': 'Traps have existed since time immemorial; a fact that Chiroda Taishi laments, as he seems to have both an affinity and an aversion to being trapped. (Source: MU)',\n",
       "   'type': 'Manga',\n",
       "   'chapters': 30,\n",
       "   'volumes': 4,\n",
       "   'score': 6.58,\n",
       "   'start_date': '2017-12-31T00:00:00+00:00',\n",
       "   'end_date': '2021-05-30T00:00:00+00:00',\n",
       "   'members': 3012},\n",
       "  {'mal_id': 51233,\n",
       "   'url': 'https://myanimelist.net/manga/51233/Arslan_Senki',\n",
       "   'image_url': 'https://cdn.myanimelist.net/images/manga/2/149815.jpg?s=e786510bc52cbc51c37f1ea01e1374b6',\n",
       "   'title': 'Arslan Senki',\n",
       "   'publishing': True,\n",
       "   'synopsis': \"Under the guidance of ruthless warrior King Andragoras III, the kingdom of Pars prospers, while the naive and gentle prince Arslan trains to continue his father's legacy. Arslan believes Pars to be a...\",\n",
       "   'type': 'Manga',\n",
       "   'chapters': 0,\n",
       "   'volumes': 0,\n",
       "   'score': 7.69,\n",
       "   'start_date': '2013-07-09T00:00:00+00:00',\n",
       "   'end_date': None,\n",
       "   'members': 18424},\n",
       "  {'mal_id': 109360,\n",
       "   'url': 'https://myanimelist.net/manga/109360/1000-en_Hero',\n",
       "   'image_url': 'https://cdn.myanimelist.net/images/manga/2/204637.jpg?s=da76fa6eea763fd060c9c46eea0882c8',\n",
       "   'title': '1000-en Hero',\n",
       "   'publishing': False,\n",
       "   'synopsis': 'Monsters are on the loose! But luckily for the people of Japan, heroes are there to protect them, with powers that run on a rate of yen per second. For Hiasa Sen, however, there are many more importan...',\n",
       "   'type': 'Manga',\n",
       "   'chapters': 145,\n",
       "   'volumes': 13,\n",
       "   'score': 6.71,\n",
       "   'start_date': '2017-08-11T00:00:00+00:00',\n",
       "   'end_date': '2020-10-09T00:00:00+00:00',\n",
       "   'members': 1369},\n",
       "  {'mal_id': 58149,\n",
       "   'url': 'https://myanimelist.net/manga/58149/Hero_Mask',\n",
       "   'image_url': 'https://cdn.myanimelist.net/images/manga/2/175237.jpg?s=aae91821cfaa6541c326cb5a6277894e',\n",
       "   'title': 'Hero Mask',\n",
       "   'publishing': False,\n",
       "   'synopsis': \"Shibuya Mirai is stuck in a world where heroes seem to no longer exist. Already on his first day at a new school, he's targeted by a group of delinquents. Right as his situation seems hopeless, a real...\",\n",
       "   'type': 'Manga',\n",
       "   'chapters': 29,\n",
       "   'volumes': 5,\n",
       "   'score': 6.71,\n",
       "   'start_date': '2012-05-01T00:00:00+00:00',\n",
       "   'end_date': '2014-10-01T00:00:00+00:00',\n",
       "   'members': 1089},\n",
       "  {'mal_id': 41705,\n",
       "   'url': 'https://myanimelist.net/manga/41705/No_Hero',\n",
       "   'image_url': 'https://cdn.myanimelist.net/images/manga/2/72975.jpg?s=5d395bb3f2f974cf38c47e07b4495e28',\n",
       "   'title': 'No Hero',\n",
       "   'publishing': False,\n",
       "   'synopsis': 'Daren Avery and Charles have the fated arrangement of master and servant. In the depths of darkness, Dari scooped up the butler, Charles—a vampire. Possessing a fervid passion for service, Charles sin...',\n",
       "   'type': 'Light Novel',\n",
       "   'chapters': 0,\n",
       "   'volumes': 9,\n",
       "   'score': 0,\n",
       "   'start_date': '2008-07-01T00:00:00+00:00',\n",
       "   'end_date': '2015-07-21T00:00:00+00:00',\n",
       "   'members': 194},\n",
       "  {'mal_id': 23358,\n",
       "   'url': 'https://myanimelist.net/manga/23358/Heroine_Shikkaku',\n",
       "   'image_url': 'https://cdn.myanimelist.net/images/manga/1/37848.jpg?s=c46b9fc7a8a76efdf457cf3deeae9d9e',\n",
       "   'title': 'Heroine Shikkaku',\n",
       "   'publishing': False,\n",
       "   'synopsis': \"Constantly gauging the roles of others, Hatori Matsuzaki has always been the main character, so it's only fitting that she be the heroine for her crush and childhood friend, Rita Terasaka. Even though...\",\n",
       "   'type': 'Manga',\n",
       "   'chapters': 42,\n",
       "   'volumes': 10,\n",
       "   'score': 7.08,\n",
       "   'start_date': '2010-03-13T00:00:00+00:00',\n",
       "   'end_date': '2013-03-13T00:00:00+00:00',\n",
       "   'members': 20242},\n",
       "  {'mal_id': 86677,\n",
       "   'url': 'https://myanimelist.net/manga/86677/Hero',\n",
       "   'image_url': 'https://cdn.myanimelist.net/images/manga/3/150538.jpg?s=9c78431ab5d730424729f4912489e212',\n",
       "   'title': 'Hero',\n",
       "   'publishing': False,\n",
       "   'synopsis': 'Martial arts manhwa with transfer students, gangs and lot of GAR.',\n",
       "   'type': 'Manhwa',\n",
       "   'chapters': 0,\n",
       "   'volumes': 4,\n",
       "   'score': 0,\n",
       "   'start_date': '2004-12-01T00:00:00+00:00',\n",
       "   'end_date': '2005-11-17T00:00:00+00:00',\n",
       "   'members': 101},\n",
       "  {'mal_id': 124797,\n",
       "   'url': 'https://myanimelist.net/manga/124797/Jikan_Teishi_Yuusha',\n",
       "   'image_url': 'https://cdn.myanimelist.net/images/manga/2/227533.jpg?s=faea8da3be4373d31c420492e6e6b5b4',\n",
       "   'title': 'Jikan Teishi Yuusha',\n",
       "   'publishing': True,\n",
       "   'synopsis': 'After being cancelled on social media, Sekai Kuzuno falls into despair and wishes so hard to leave his life behind that he suddenly finds himself in a fantasy RPG world. He has nothing but the clothes...',\n",
       "   'type': 'Manga',\n",
       "   'chapters': 0,\n",
       "   'volumes': 0,\n",
       "   'score': 6.76,\n",
       "   'start_date': '2019-09-26T00:00:00+00:00',\n",
       "   'end_date': None,\n",
       "   'members': 4768},\n",
       "  {'mal_id': 90919,\n",
       "   'url': 'https://myanimelist.net/manga/90919/I_Am_a_Hero_in_Osaka',\n",
       "   'image_url': 'https://cdn.myanimelist.net/images/manga/1/172730.jpg?s=871fd33ee2e3f77f60d3529d431d3035',\n",
       "   'title': 'I Am a Hero in Osaka',\n",
       "   'publishing': False,\n",
       "   'synopsis': 'Spin-off of I Am a Hero.',\n",
       "   'type': 'Manga',\n",
       "   'chapters': 7,\n",
       "   'volumes': 1,\n",
       "   'score': 6.46,\n",
       "   'start_date': '2015-06-26T00:00:00+00:00',\n",
       "   'end_date': '2015-12-23T00:00:00+00:00',\n",
       "   'members': 2689},\n",
       "  {'mal_id': 67615,\n",
       "   'url': 'https://myanimelist.net/manga/67615/Tate_no_Yuusha_no_Nariagari',\n",
       "   'image_url': 'https://cdn.myanimelist.net/images/manga/2/130759.jpg?s=ff53886e0e70db1d3e48c45c3f259954',\n",
       "   'title': 'Tate no Yuusha no Nariagari',\n",
       "   'publishing': True,\n",
       "   'synopsis': 'Twenty-year-old otaku Naofumi Iwatani is mysteriously transported to the otherworldly kingdom of Melromarc. Appearing before the King, Naofumi and three other summoned individuals learn that they are...',\n",
       "   'type': 'Manga',\n",
       "   'chapters': 0,\n",
       "   'volumes': 0,\n",
       "   'score': 7.89,\n",
       "   'start_date': '2014-02-05T00:00:00+00:00',\n",
       "   'end_date': None,\n",
       "   'members': 101542},\n",
       "  {'mal_id': 4146,\n",
       "   'url': 'https://myanimelist.net/manga/4146/Hero',\n",
       "   'image_url': 'https://cdn.myanimelist.net/images/manga/3/4813.jpg?s=346095741fb009a83e22bcf12b45f6af',\n",
       "   'title': 'Hero',\n",
       "   'publishing': False,\n",
       "   'synopsis': '',\n",
       "   'type': 'Manhua',\n",
       "   'chapters': 0,\n",
       "   'volumes': 16,\n",
       "   'score': 0,\n",
       "   'start_date': None,\n",
       "   'end_date': None,\n",
       "   'members': 188},\n",
       "  {'mal_id': 23222,\n",
       "   'url': 'https://myanimelist.net/manga/23222/Heroic_Age',\n",
       "   'image_url': 'https://cdn.myanimelist.net/images/manga/1/58753.jpg?s=afa41b6a6891de7a16baea48dbc55768',\n",
       "   'title': 'Heroic Age',\n",
       "   'publishing': False,\n",
       "   'synopsis': 'After an advanced race, the Golden Tribe, left to explore other reaches of space, the human race became threatened with extinction. Since the Golden Tribe left, the Silver Tribe has long since been th...',\n",
       "   'type': 'Manga',\n",
       "   'chapters': 15,\n",
       "   'volumes': 4,\n",
       "   'score': 0,\n",
       "   'start_date': '2007-03-26T00:00:00+00:00',\n",
       "   'end_date': '2008-06-26T00:00:00+00:00',\n",
       "   'members': 523},\n",
       "  {'mal_id': 117473,\n",
       "   'url': 'https://myanimelist.net/manga/117473/Heroine_Hajimemashita',\n",
       "   'image_url': 'https://cdn.myanimelist.net/images/manga/1/217708.jpg?s=9f433d346302093d3e899234b83793a2',\n",
       "   'title': 'Heroine Hajimemashita.',\n",
       "   'publishing': False,\n",
       "   'synopsis': 'Shuko Kodakamine is strong—too strong, by the standards of some. She hopes to make a good high school debut, but that plan goes up in smoke almost immediately when she injures the attractive, charisma...',\n",
       "   'type': 'Manga',\n",
       "   'chapters': 17,\n",
       "   'volumes': 4,\n",
       "   'score': 7.32,\n",
       "   'start_date': '2018-11-24T00:00:00+00:00',\n",
       "   'end_date': '2020-05-23T00:00:00+00:00',\n",
       "   'members': 3091},\n",
       "  {'mal_id': 36409,\n",
       "   'url': 'https://myanimelist.net/manga/36409/Ouji_to_Hero',\n",
       "   'image_url': 'https://cdn.myanimelist.net/images/manga/2/195997.jpg?s=71fac0a28c0b0f4975c1025ec1ea51be',\n",
       "   'title': 'Ouji to Hero',\n",
       "   'publishing': False,\n",
       "   'synopsis': \"Hana, a country girl, has to move to Tokyo because of her father's work, and what's this? Her school is like a castle, her classmates have their own chauffeurs, and everyone is all sparkly and beautif...\",\n",
       "   'type': 'Manga',\n",
       "   'chapters': 16,\n",
       "   'volumes': 4,\n",
       "   'score': 6.92,\n",
       "   'start_date': '2012-11-02T00:00:00+00:00',\n",
       "   'end_date': '2012-12-28T00:00:00+00:00',\n",
       "   'members': 4503},\n",
       "  {'mal_id': 116463,\n",
       "   'url': 'https://myanimelist.net/manga/116463/Fairy_Tail__City_Hero',\n",
       "   'image_url': 'https://cdn.myanimelist.net/images/manga/1/219511.jpg?s=dcd3e69d947b7dfc085069bf8e635bc9',\n",
       "   'title': 'Fairy Tail: City Hero',\n",
       "   'publishing': False,\n",
       "   'synopsis': 'The new police officer Lucy was assigned to the Magnolia Police Fairy Tail team. Natsu, Happy and company are keeping the peace of the city with lively ambitions. (Source: MU)',\n",
       "   'type': 'Manga',\n",
       "   'chapters': 46,\n",
       "   'volumes': 4,\n",
       "   'score': 7,\n",
       "   'start_date': '2018-10-26T00:00:00+00:00',\n",
       "   'end_date': '2019-11-22T00:00:00+00:00',\n",
       "   'members': 1799},\n",
       "  {'mal_id': 122473,\n",
       "   'url': 'https://myanimelist.net/manga/122473/Mashima_Heros',\n",
       "   'image_url': 'https://cdn.myanimelist.net/images/manga/3/229267.jpg?s=8a17753e99e58ccbcacb8aa41572a4ef',\n",
       "   'title': \"Mashima Hero's\",\n",
       "   'publishing': False,\n",
       "   'synopsis': 'A crossover of Rave, Fairy Tail, and Edens Zero to celebrate the 60th anniversary of Shounen Magazine.',\n",
       "   'type': 'Manga',\n",
       "   'chapters': 10,\n",
       "   'volumes': 1,\n",
       "   'score': 7.25,\n",
       "   'start_date': '2019-10-16T00:00:00+00:00',\n",
       "   'end_date': '2019-12-25T00:00:00+00:00',\n",
       "   'members': 3200},\n",
       "  {'mal_id': 133057,\n",
       "   'url': 'https://myanimelist.net/manga/133057/Boku_no_Hero_Academia_the_Movie__Heroes_Rising',\n",
       "   'image_url': 'https://cdn.myanimelist.net/images/manga/3/244777.jpg?s=3a2eef433bd2f3578a2ea9ae6ad6b7dd',\n",
       "   'title': 'Boku no Hero Academia the Movie: Heroes:Rising',\n",
       "   'publishing': False,\n",
       "   'synopsis': '',\n",
       "   'type': 'Light Novel',\n",
       "   'chapters': 7,\n",
       "   'volumes': 1,\n",
       "   'score': 7.83,\n",
       "   'start_date': '2019-12-20T00:00:00+00:00',\n",
       "   'end_date': '2019-12-20T00:00:00+00:00',\n",
       "   'members': 1496},\n",
       "  {'mal_id': 2033,\n",
       "   'url': 'https://myanimelist.net/manga/2033/Juushin_Enbu',\n",
       "   'image_url': 'https://cdn.myanimelist.net/images/manga/1/193993.jpg?s=8969446c3803a8cf423a6c7133aa050b',\n",
       "   'title': 'Juushin Enbu',\n",
       "   'publishing': False,\n",
       "   'synopsis': 'Taitou Shirei is a young fighter who makes a habit of attacking members of the corrupt Imperial Army and stealing their supplies for his village. The time has come for him to have his coming-of-age ce...',\n",
       "   'type': 'Manga',\n",
       "   'chapters': 21,\n",
       "   'volumes': 5,\n",
       "   'score': 6.9,\n",
       "   'start_date': '2006-10-21T00:00:00+00:00',\n",
       "   'end_date': '2010-08-12T00:00:00+00:00',\n",
       "   'members': 4887},\n",
       "  {'mal_id': 133991,\n",
       "   'url': 'https://myanimelist.net/manga/133991/Shujinkou_ja_Nai',\n",
       "   'image_url': 'https://cdn.myanimelist.net/images/manga/3/244988.jpg?s=b0ad59fdfb8c1f70e25b826b545eb8ae',\n",
       "   'title': 'Shujinkou ja Nai!',\n",
       "   'publishing': True,\n",
       "   'synopsis': '',\n",
       "   'type': 'Manga',\n",
       "   'chapters': 0,\n",
       "   'volumes': 0,\n",
       "   'score': 0,\n",
       "   'start_date': '2020-12-26T00:00:00+00:00',\n",
       "   'end_date': None,\n",
       "   'members': 338},\n",
       "  {'mal_id': 50429,\n",
       "   'url': 'https://myanimelist.net/manga/50429/Sayonara_Hero',\n",
       "   'image_url': 'https://cdn.myanimelist.net/images/manga/1/98677.jpg?s=4d3a26042626a4c1c7947e1b8029534a',\n",
       "   'title': 'Sayonara, Hero.',\n",
       "   'publishing': False,\n",
       "   'synopsis': \"When a boy she doesn't know confesses to her, Yoshinaga finds herself the victim of bullying at the hands of his girlfriend and her female classmates. She resolves to endure it alone, until a classmat...\",\n",
       "   'type': 'Manga',\n",
       "   'chapters': 5,\n",
       "   'volumes': 1,\n",
       "   'score': 7.38,\n",
       "   'start_date': '2013-03-19T00:00:00+00:00',\n",
       "   'end_date': '2013-04-20T00:00:00+00:00',\n",
       "   'members': 2850},\n",
       "  {'mal_id': 65169,\n",
       "   'url': 'https://myanimelist.net/manga/65169/Kurumada_Suikoden__Hero_of_Heroes',\n",
       "   'image_url': 'https://cdn.myanimelist.net/images/manga/2/186509.jpg?s=5c2a72276d15bfd935786300d2254802',\n",
       "   'title': 'Kurumada Suikoden: Hero of Heroes',\n",
       "   'publishing': True,\n",
       "   'synopsis': 'The Mythology is the plan of the gods. A perfect story created by them, that should never be changed in any way. However, there where mortals who altered the Mythology with their own hands. Pegasus Se...',\n",
       "   'type': 'Manga',\n",
       "   'chapters': 0,\n",
       "   'volumes': 0,\n",
       "   'score': 0,\n",
       "   'start_date': '2013-12-19T00:00:00+00:00',\n",
       "   'end_date': None,\n",
       "   'members': 296},\n",
       "  {'mal_id': 1729,\n",
       "   'url': 'https://myanimelist.net/manga/1729/KimiKiss__Various_Heroines',\n",
       "   'image_url': 'https://cdn.myanimelist.net/images/manga/1/180639.jpg?s=fb50872efb861aaf3a50b6c3d81f3a72',\n",
       "   'title': 'KimiKiss: Various Heroines',\n",
       "   'publishing': False,\n",
       "   'synopsis': 'Stories in KimiKiss: Various Heroines revolve around Kouichi Aihara and in each volume focuses on a different girl he can eventually end up with.',\n",
       "   'type': 'Manga',\n",
       "   'chapters': 48,\n",
       "   'volumes': 5,\n",
       "   'score': 7.31,\n",
       "   'start_date': '2006-08-25T00:00:00+00:00',\n",
       "   'end_date': '2008-11-14T00:00:00+00:00',\n",
       "   'members': 5161},\n",
       "  {'mal_id': 92654,\n",
       "   'url': 'https://myanimelist.net/manga/92654/Banken_Hero',\n",
       "   'image_url': 'https://cdn.myanimelist.net/images/manga/1/163072.jpg?s=ca31c4a3b5b93df54ff8f5be01695e4f',\n",
       "   'title': 'Banken Hero',\n",
       "   'publishing': False,\n",
       "   'synopsis': '\"I wish I can be stronger instead to protect you rather than the other way round...\" Nagisa wants to be strong and cool in front of Misaki, but all he managed to do was getting protected instead by Mi...',\n",
       "   'type': 'One-shot',\n",
       "   'chapters': 1,\n",
       "   'volumes': 0,\n",
       "   'score': 6.99,\n",
       "   'start_date': '2014-07-24T00:00:00+00:00',\n",
       "   'end_date': '2014-07-24T00:00:00+00:00',\n",
       "   'members': 1566},\n",
       "  {'mal_id': 121762,\n",
       "   'url': 'https://myanimelist.net/manga/121762/Mushoku_no_Eiyuu__Betsu_ni_Skill_Nanka_Iranakatta_n_da_ga_-_Sainou_Zero_no_Nariagari',\n",
       "   'image_url': 'https://cdn.myanimelist.net/images/manga/1/224089.jpg?s=1c0ac394bbc39e51427f61b6f82ea060',\n",
       "   'title': 'Mushoku no Eiyuu: Betsu ni Skill Nanka Iranakatta n da ga - Sainou Zero no Nariagari',\n",
       "   'publishing': True,\n",
       "   'synopsis': '\"Classes\" are given at the age of 10, and the presence or absence of \"skills\" greatly affect life. Arel, the son of \"Sword Princess\" Fara and \"Magic King\" Leon, has been branded as \"Classless\"... But...',\n",
       "   'type': 'Manga',\n",
       "   'chapters': 0,\n",
       "   'volumes': 0,\n",
       "   'score': 6.72,\n",
       "   'start_date': '2018-11-10T00:00:00+00:00',\n",
       "   'end_date': None,\n",
       "   'members': 6547},\n",
       "  {'mal_id': 85941,\n",
       "   'url': 'https://myanimelist.net/manga/85941/Yuusha_ga_Shinda__Murabito_no_Ore_ga_Hotta_Otoshiana_ni_Yuusha_ga_Ochita_Kekka',\n",
       "   'image_url': 'https://cdn.myanimelist.net/images/manga/3/188923.jpg?s=73bfc3927f32636b9e8107b72b9b3272',\n",
       "   'title': 'Yuusha ga Shinda!: Murabito no Ore ga Hotta Otoshiana ni Yuusha ga Ochita Kekka.',\n",
       "   'publishing': False,\n",
       "   'synopsis': \"Far to the north of the world lies Hell's Gate, a portal formerly used by the Demon Lord to invade the human realm. Thanks to the legendary hero Shion Bladearts, wielder of Excalibur, and his loyal ba...\",\n",
       "   'type': 'Manga',\n",
       "   'chapters': 202,\n",
       "   'volumes': 20,\n",
       "   'score': 7.48,\n",
       "   'start_date': '2014-12-09T00:00:00+00:00',\n",
       "   'end_date': '2020-12-07T00:00:00+00:00',\n",
       "   'members': 22428},\n",
       "  {'mal_id': 2172,\n",
       "   'url': 'https://myanimelist.net/manga/2172/Hero_Mitai_ni',\n",
       "   'image_url': 'https://cdn.myanimelist.net/images/manga/1/152385.jpg?s=ff3f2be0054644cc67b64dfe604c677e',\n",
       "   'title': 'Hero Mitai ni',\n",
       "   'publishing': False,\n",
       "   'synopsis': 'Keiichi and Kaname used to be cousins, but they became brothers when Kaname was adopted into Keichi’s family after his parents died in a car accident. The two of them have always gotten along well, bu...',\n",
       "   'type': 'One-shot',\n",
       "   'chapters': 1,\n",
       "   'volumes': 0,\n",
       "   'score': 6.89,\n",
       "   'start_date': '2000-05-15T00:00:00+00:00',\n",
       "   'end_date': '2000-05-15T00:00:00+00:00',\n",
       "   'members': 1841},\n",
       "  {'mal_id': 47072,\n",
       "   'url': 'https://myanimelist.net/manga/47072/I_Dont_Want_This_Kind_of_Hero',\n",
       "   'image_url': 'https://cdn.myanimelist.net/images/manga/5/83220.jpg?s=558067ac9c553a9357dd55b6b3a02f20',\n",
       "   'title': \"I Don't Want This Kind of Hero\",\n",
       "   'publishing': False,\n",
       "   'synopsis': \"A hero who fights countless mythical creatures. A story of SPOON's remarkable efficiency! (Source: MU)\",\n",
       "   'type': 'Manhwa',\n",
       "   'chapters': 301,\n",
       "   'volumes': 0,\n",
       "   'score': 7.56,\n",
       "   'start_date': '2011-11-02T00:00:00+00:00',\n",
       "   'end_date': '2017-09-19T00:00:00+00:00',\n",
       "   'members': 3670},\n",
       "  {'mal_id': 109775,\n",
       "   'url': 'https://myanimelist.net/manga/109775/Heroines_Game',\n",
       "   'image_url': 'https://cdn.myanimelist.net/images/manga/1/201654.jpg?s=9b69ae60692cd950d25bb785907949bc',\n",
       "   'title': 'Heroines Game',\n",
       "   'publishing': False,\n",
       "   'synopsis': '',\n",
       "   'type': 'Manga',\n",
       "   'chapters': 21,\n",
       "   'volumes': 3,\n",
       "   'score': 6.57,\n",
       "   'start_date': '2016-04-09T00:00:00+00:00',\n",
       "   'end_date': '2019-04-05T00:00:00+00:00',\n",
       "   'members': 668},\n",
       "  {'mal_id': 93901,\n",
       "   'url': 'https://myanimelist.net/manga/93901/Heroine_Voice',\n",
       "   'image_url': 'https://cdn.myanimelist.net/images/manga/3/174706.jpg?s=f6a1864f6711be9ea071da5854e5fc4c',\n",
       "   'title': 'Heroine Voice',\n",
       "   'publishing': False,\n",
       "   'synopsis': 'Ever since she was in fifth grade, Otome Yamada has longed to be a heroine in a play. This led her to join the drama club upon entering high school, but because of her unusual, anime-sounding voice, s...',\n",
       "   'type': 'Manga',\n",
       "   'chapters': 10,\n",
       "   'volumes': 2,\n",
       "   'score': 6.63,\n",
       "   'start_date': '2015-11-27T00:00:00+00:00',\n",
       "   'end_date': '2016-10-27T00:00:00+00:00',\n",
       "   'members': 683}],\n",
       " 'last_page': 20,\n",
       " 'jikan_url': 'https://api.jikan.moe/v3/search/manga?q=By Hero',\n",
       " 'headers': {'Server': 'nginx/1.18.0 (Ubuntu)',\n",
       "  'Date': 'Sun, 27 Mar 2022 02:46:26 GMT',\n",
       "  'Content-Type': 'application/json',\n",
       "  'Transfer-Encoding': 'chunked',\n",
       "  'Connection': 'keep-alive',\n",
       "  'Access-Control-Allow-Origin': '*',\n",
       "  'Access-Control-Allow-Methods': '*',\n",
       "  'Cache-Control': 'private, must-revalidate',\n",
       "  'ETag': '\"4dc9e29b2893fcba8c3302dc1fbccd3a\"',\n",
       "  'X-Request-Hash': 'request:search:43cc2102b7cd8390c84097160a4a9661b3ee66cf',\n",
       "  'X-Request-Cached': '1',\n",
       "  'X-Request-Cache-Ttl': '265334',\n",
       "  'X-API-Deprecation': '1',\n",
       "  'X-API-Deprecation-Date': '2022-02-10T16:02:50+00:00',\n",
       "  'X-API-Deprecation-Info': 'https://bit.ly/jikan-v3-deprecation',\n",
       "  'Expires': 'Wed, 30 Mar 2022 04:25:15 GMT',\n",
       "  'Content-Encoding': 'gzip',\n",
       "  'Vary': 'Accept-Encoding',\n",
       "  'X-Cache-Status': 'HIT'}}"
      ]
     },
     "execution_count": 86,
     "metadata": {},
     "output_type": "execute_result"
    }
   ],
   "source": [
    "jikan.search('manga', 'By Hero')"
   ]
  },
  {
   "cell_type": "code",
   "execution_count": 89,
   "id": "b5c681d5",
   "metadata": {},
   "outputs": [
    {
     "name": "stderr",
     "output_type": "stream",
     "text": [
      "100%|██████████████████████████████████████████████████████████████████████████████████| 29/29 [02:00<00:00,  4.17s/it]\n"
     ]
    }
   ],
   "source": [
    "all_info = []\n",
    "for title in tqdm(remaining_list):\n",
    "    try:\n",
    "        title_info = []\n",
    "        dict = {}\n",
    "        dict = jikan.search('manga', title)\n",
    "        #search title\n",
    "        title_info.append(title)\n",
    "        for i in range(20):\n",
    "            try:\n",
    "                if dict['results'][i]['title'] == title:\n",
    "                    #result title\n",
    "                    title_info.append(dict['results'][i]['title'])\n",
    "                    title_info.append(dict['results'][i]['mal_id'])\n",
    "                    time.sleep(1)\n",
    "                    title_info.append(dict['results'][i]['url'])\n",
    "                    title_info.append(dict['results'][i]['image_url'])\n",
    "                    title_info.append(dict['results'][i]['synopsis'])\n",
    "                    all_info.append(title_info)\n",
    "                    time.sleep(1)\n",
    "                    all_info_df = pd.DataFrame(all_info)\n",
    "                    all_info_df.to_csv('all_info_6.csv', index = False)\n",
    "            except:\n",
    "                continue\n",
    "    except:\n",
    "        continue\n"
   ]
  },
  {
   "cell_type": "code",
   "execution_count": 92,
   "id": "a62f99cf",
   "metadata": {},
   "outputs": [
    {
     "data": {
      "text/plain": [
       "17"
      ]
     },
     "execution_count": 92,
     "metadata": {},
     "output_type": "execute_result"
    }
   ],
   "source": [
    "  \n",
    "all_info_6_df = pd.read_csv('all_info_6.csv')\n",
    "all_info_6_df.rename(columns = {'0':'search title','1':'result title','2':'mal_id','3':'url','4':'image','5':'synopsis'}, inplace = True)\n",
    "all_info_6_df[all_info_6_df['search title'] != all_info_6_df['result title']]\n",
    "all_info_final_df = pd.concat(objs = [all_info_final_df,all_info_6_df])\n",
    "title_list = reading_no_zero_df['item'].unique().tolist()\n",
    "remaining_list = []\n",
    "for title in title_list:\n",
    "    if title not in all_info_final_df['result title'].tolist():\n",
    "        remaining_list.append(title)\n",
    "len(remaining_list)"
   ]
  },
  {
   "cell_type": "code",
   "execution_count": 93,
   "id": "3c2645f6",
   "metadata": {},
   "outputs": [
    {
     "data": {
      "text/plain": [
       "(16, 16)"
      ]
     },
     "execution_count": 93,
     "metadata": {},
     "output_type": "execute_result"
    }
   ],
   "source": [
    "all_info_6_df.shape"
   ]
  },
  {
   "cell_type": "code",
   "execution_count": 94,
   "id": "02aab7a4",
   "metadata": {},
   "outputs": [
    {
     "data": {
      "text/plain": [
       "['1',\n",
       " 'The One',\n",
       " '≠',\n",
       " 'Bastard!!: Ankoku no Hakaishin',\n",
       " 'Honzuki no Gekokujou: Shisho ni Naru Tame ni wa Shudan wo Erandeiraremasen Dai 1-bu - Hon ga Nai nara Tsukureba Ii!',\n",
       " 'X',\n",
       " 'H2',\n",
       " 'IO',\n",
       " 'Maou Gakuin no Futekigousha: Shijou Saikyou no Maou no Shiso, Tensei shite Shison-tachi no Gakkou e Kayou',\n",
       " '86',\n",
       " 'SE',\n",
       " 'Id',\n",
       " 'Boukensha License wo Hakudatsu sareta Ossan dakedo, Manamusume ga Dekita node Nonbiri Jinsei wo Ouka suru',\n",
       " 'Shin no Nakama ja Nai to Yuusha no Party wo Oidasareta node, Henkyou de Slow Life suru Koto ni Shimashita',\n",
       " 'Girls & Panzer',\n",
       " 'ST&RS',\n",
       " 'Psycome']"
      ]
     },
     "execution_count": 94,
     "metadata": {},
     "output_type": "execute_result"
    }
   ],
   "source": [
    "remaining_list"
   ]
  },
  {
   "cell_type": "code",
   "execution_count": 97,
   "id": "323faae0",
   "metadata": {},
   "outputs": [],
   "source": [
    "all_info_final_df.to_csv('all_info_final.csv', index = False)"
   ]
  },
  {
   "cell_type": "code",
   "execution_count": 98,
   "id": "733017a3",
   "metadata": {},
   "outputs": [
    {
     "data": {
      "text/plain": [
       "2890"
      ]
     },
     "execution_count": 98,
     "metadata": {},
     "output_type": "execute_result"
    }
   ],
   "source": [
    "all_info_final_df['result title'].nunique()"
   ]
  },
  {
   "cell_type": "code",
   "execution_count": 105,
   "id": "01358bf3",
   "metadata": {},
   "outputs": [
    {
     "ename": "APIException",
     "evalue": "HTTP 500 - status=500, type=Exception, message=Unhandled Exception. Please follow report_url to generate an issue on GitHub, trace=/var/www/jikan/vendor/guzzlehttp/psr7/src/Response.php at line 152, error=Status code must be an integer value between 1xx and 5xx., report_url=https://github.com/jikan-me/jikan-rest/issues/new?title=%5BOFFICIAL%5D+Generated+Issue%3A+InvalidArgumentException&body=Please+fill+out+the+details+below.%0A%0A%2A%2ASummary%3A%2A%2A%0A%0A%2A%2ASteps+to+reproduce%3A%2A%2A%0A%0A%0A%0A+%23%23%23+Additional+Details+%0A+%2A%2AJikan+Parser+Version%2A%2A%3A+%60%60%60v2.19.4%40b1d5326cce6a483ded253d29116b3a816fe50e88%60%60%60%0A%2A%2APHP%3A%2A%2A+%60%60%607.4.23%60%60%60%0A%2A%2ARedis%2A%2A%3A+%60%60%60Connected%60%60%60%0A%2A%2AException%3A%2A%2A+%60%60%60InvalidArgumentException%60%60%60%0A%2A%2ACode%3A%2A%2A+%60%60%600%60%60%60%0A%2A%2AMessage%3A%2A%2A+%60%60%60Status+code+must+be+an+integer+value+between+1xx+and+5xx.%60%60%60%0A%2A%2ATrace%3A%2A%2A+%60%60%60%2Fvar%2Fwww%2Fjikan%2Fvendor%2Fguzzlehttp%2Fpsr7%2Fsrc%2FResponse.php+on+line+152%60%60%60%0A%2A%2ARequest%3A%2A%2A+%60GET+%2Fv3%2Fsearch%2Fmanga%3Fq%3D1%26page%3D2%60%0A for search type=manga, query=1",
     "output_type": "error",
     "traceback": [
      "\u001b[1;31m---------------------------------------------------------------------------\u001b[0m",
      "\u001b[1;31mAPIException\u001b[0m                              Traceback (most recent call last)",
      "\u001b[1;32m<ipython-input-105-47f104917b84>\u001b[0m in \u001b[0;36m<module>\u001b[1;34m\u001b[0m\n\u001b[1;32m----> 1\u001b[1;33m \u001b[0mjikan\u001b[0m\u001b[1;33m.\u001b[0m\u001b[0msearch\u001b[0m\u001b[1;33m(\u001b[0m\u001b[1;34m'manga'\u001b[0m\u001b[1;33m,\u001b[0m\u001b[1;34m'1'\u001b[0m\u001b[1;33m,\u001b[0m\u001b[0mpage\u001b[0m\u001b[1;33m=\u001b[0m\u001b[1;36m2\u001b[0m\u001b[1;33m)\u001b[0m\u001b[1;33m\u001b[0m\u001b[1;33m\u001b[0m\u001b[0m\n\u001b[0m",
      "\u001b[1;32m~\\anaconda3\\lib\\site-packages\\jikanpy\\jikan.py\u001b[0m in \u001b[0;36msearch\u001b[1;34m(self, search_type, query, page, parameters)\u001b[0m\n\u001b[0;32m    240\u001b[0m         \u001b[0murl\u001b[0m \u001b[1;33m=\u001b[0m \u001b[0mutils\u001b[0m\u001b[1;33m.\u001b[0m\u001b[0mget_search_url\u001b[0m\u001b[1;33m(\u001b[0m\u001b[0mself\u001b[0m\u001b[1;33m.\u001b[0m\u001b[0mbase\u001b[0m\u001b[1;33m,\u001b[0m \u001b[0msearch_type\u001b[0m\u001b[1;33m,\u001b[0m \u001b[0mquery\u001b[0m\u001b[1;33m,\u001b[0m \u001b[0mpage\u001b[0m\u001b[1;33m,\u001b[0m \u001b[0mparameters\u001b[0m\u001b[1;33m)\u001b[0m\u001b[1;33m\u001b[0m\u001b[1;33m\u001b[0m\u001b[0m\n\u001b[0;32m    241\u001b[0m         \u001b[0mkwargs\u001b[0m \u001b[1;33m=\u001b[0m \u001b[1;33m{\u001b[0m\u001b[1;34m\"search type\"\u001b[0m\u001b[1;33m:\u001b[0m \u001b[0msearch_type\u001b[0m\u001b[1;33m,\u001b[0m \u001b[1;34m\"query\"\u001b[0m\u001b[1;33m:\u001b[0m \u001b[0mquery\u001b[0m\u001b[1;33m}\u001b[0m\u001b[1;33m\u001b[0m\u001b[1;33m\u001b[0m\u001b[0m\n\u001b[1;32m--> 242\u001b[1;33m         \u001b[1;32mreturn\u001b[0m \u001b[0mself\u001b[0m\u001b[1;33m.\u001b[0m\u001b[0m_request\u001b[0m\u001b[1;33m(\u001b[0m\u001b[0murl\u001b[0m\u001b[1;33m,\u001b[0m \u001b[1;33m**\u001b[0m\u001b[0mkwargs\u001b[0m\u001b[1;33m)\u001b[0m\u001b[1;33m\u001b[0m\u001b[1;33m\u001b[0m\u001b[0m\n\u001b[0m\u001b[0;32m    243\u001b[0m \u001b[1;33m\u001b[0m\u001b[0m\n\u001b[0;32m    244\u001b[0m     def season(\n",
      "\u001b[1;32m~\\anaconda3\\lib\\site-packages\\jikanpy\\jikan.py\u001b[0m in \u001b[0;36m_request\u001b[1;34m(self, url, **kwargs)\u001b[0m\n\u001b[0;32m     82\u001b[0m         \u001b[1;34m\"\"\"Makes a request to the Jikan API given the url and wraps the response.\"\"\"\u001b[0m\u001b[1;33m\u001b[0m\u001b[1;33m\u001b[0m\u001b[0m\n\u001b[0;32m     83\u001b[0m         \u001b[0mresponse\u001b[0m \u001b[1;33m=\u001b[0m \u001b[0mself\u001b[0m\u001b[1;33m.\u001b[0m\u001b[0msession\u001b[0m\u001b[1;33m.\u001b[0m\u001b[0mget\u001b[0m\u001b[1;33m(\u001b[0m\u001b[0murl\u001b[0m\u001b[1;33m)\u001b[0m\u001b[1;33m\u001b[0m\u001b[1;33m\u001b[0m\u001b[0m\n\u001b[1;32m---> 84\u001b[1;33m         \u001b[1;32mreturn\u001b[0m \u001b[0mself\u001b[0m\u001b[1;33m.\u001b[0m\u001b[0m_wrap_response\u001b[0m\u001b[1;33m(\u001b[0m\u001b[0mresponse\u001b[0m\u001b[1;33m,\u001b[0m \u001b[0murl\u001b[0m\u001b[1;33m,\u001b[0m \u001b[1;33m**\u001b[0m\u001b[0mkwargs\u001b[0m\u001b[1;33m)\u001b[0m\u001b[1;33m\u001b[0m\u001b[1;33m\u001b[0m\u001b[0m\n\u001b[0m\u001b[0;32m     85\u001b[0m \u001b[1;33m\u001b[0m\u001b[0m\n\u001b[0;32m     86\u001b[0m     def _get(\n",
      "\u001b[1;32m~\\anaconda3\\lib\\site-packages\\jikanpy\\jikan.py\u001b[0m in \u001b[0;36m_wrap_response\u001b[1;34m(response, url, **kwargs)\u001b[0m\n\u001b[0;32m     76\u001b[0m             \u001b[0mjson_response\u001b[0m \u001b[1;33m=\u001b[0m \u001b[1;33m{\u001b[0m\u001b[1;34m\"error\"\u001b[0m\u001b[1;33m:\u001b[0m \u001b[0mresponse\u001b[0m\u001b[1;33m.\u001b[0m\u001b[0mtext\u001b[0m\u001b[1;33m}\u001b[0m\u001b[1;33m\u001b[0m\u001b[1;33m\u001b[0m\u001b[0m\n\u001b[0;32m     77\u001b[0m         \u001b[1;32mif\u001b[0m \u001b[0mresponse\u001b[0m\u001b[1;33m.\u001b[0m\u001b[0mstatus_code\u001b[0m \u001b[1;33m>=\u001b[0m \u001b[1;36m400\u001b[0m\u001b[1;33m:\u001b[0m\u001b[1;33m\u001b[0m\u001b[1;33m\u001b[0m\u001b[0m\n\u001b[1;32m---> 78\u001b[1;33m             \u001b[1;32mraise\u001b[0m \u001b[0mAPIException\u001b[0m\u001b[1;33m(\u001b[0m\u001b[0mresponse\u001b[0m\u001b[1;33m.\u001b[0m\u001b[0mstatus_code\u001b[0m\u001b[1;33m,\u001b[0m \u001b[0mjson_response\u001b[0m\u001b[1;33m,\u001b[0m \u001b[1;33m**\u001b[0m\u001b[0mkwargs\u001b[0m\u001b[1;33m)\u001b[0m\u001b[1;33m\u001b[0m\u001b[1;33m\u001b[0m\u001b[0m\n\u001b[0m\u001b[0;32m     79\u001b[0m         \u001b[1;32mreturn\u001b[0m \u001b[0mutils\u001b[0m\u001b[1;33m.\u001b[0m\u001b[0madd_jikan_metadata\u001b[0m\u001b[1;33m(\u001b[0m\u001b[0mresponse\u001b[0m\u001b[1;33m,\u001b[0m \u001b[0mjson_response\u001b[0m\u001b[1;33m,\u001b[0m \u001b[0murl\u001b[0m\u001b[1;33m)\u001b[0m\u001b[1;33m\u001b[0m\u001b[1;33m\u001b[0m\u001b[0m\n\u001b[0;32m     80\u001b[0m \u001b[1;33m\u001b[0m\u001b[0m\n",
      "\u001b[1;31mAPIException\u001b[0m: HTTP 500 - status=500, type=Exception, message=Unhandled Exception. Please follow report_url to generate an issue on GitHub, trace=/var/www/jikan/vendor/guzzlehttp/psr7/src/Response.php at line 152, error=Status code must be an integer value between 1xx and 5xx., report_url=https://github.com/jikan-me/jikan-rest/issues/new?title=%5BOFFICIAL%5D+Generated+Issue%3A+InvalidArgumentException&body=Please+fill+out+the+details+below.%0A%0A%2A%2ASummary%3A%2A%2A%0A%0A%2A%2ASteps+to+reproduce%3A%2A%2A%0A%0A%0A%0A+%23%23%23+Additional+Details+%0A+%2A%2AJikan+Parser+Version%2A%2A%3A+%60%60%60v2.19.4%40b1d5326cce6a483ded253d29116b3a816fe50e88%60%60%60%0A%2A%2APHP%3A%2A%2A+%60%60%607.4.23%60%60%60%0A%2A%2ARedis%2A%2A%3A+%60%60%60Connected%60%60%60%0A%2A%2AException%3A%2A%2A+%60%60%60InvalidArgumentException%60%60%60%0A%2A%2ACode%3A%2A%2A+%60%60%600%60%60%60%0A%2A%2AMessage%3A%2A%2A+%60%60%60Status+code+must+be+an+integer+value+between+1xx+and+5xx.%60%60%60%0A%2A%2ATrace%3A%2A%2A+%60%60%60%2Fvar%2Fwww%2Fjikan%2Fvendor%2Fguzzlehttp%2Fpsr7%2Fsrc%2FResponse.php+on+line+152%60%60%60%0A%2A%2ARequest%3A%2A%2A+%60GET+%2Fv3%2Fsearch%2Fmanga%3Fq%3D1%26page%3D2%60%0A for search type=manga, query=1"
     ]
    }
   ],
   "source": [
    "jikan.search('manga','1',page=2)"
   ]
  },
  {
   "cell_type": "code",
   "execution_count": 14,
   "id": "b8333651",
   "metadata": {},
   "outputs": [
    {
     "data": {
      "text/plain": [
       "2007"
      ]
     },
     "execution_count": 14,
     "metadata": {},
     "output_type": "execute_result"
    }
   ],
   "source": [
    "len(all_info)"
   ]
  },
  {
   "cell_type": "code",
   "execution_count": 14,
   "id": "cba3b029",
   "metadata": {},
   "outputs": [
    {
     "data": {
      "text/plain": [
       "['Ayashimon',\n",
       " 'Ayashimon',\n",
       " 141583,\n",
       " 'https://myanimelist.net/manga/141583/Ayashimon',\n",
       " 'https://cdn.myanimelist.net/images/manga/1/256654.jpg?s=fe0adc91d9a7830fd781a9de4c0ae18d',\n",
       " 'Years ago, the death of the infamous Enma Syndicate\\'s chairman, who united all those below him, led to numerous individual yakuza groups being created. These groups are filled with \"ayashimon\"—superna...']"
      ]
     },
     "execution_count": 14,
     "metadata": {},
     "output_type": "execute_result"
    }
   ],
   "source": [
    "title = 'Ayashimon'\n",
    "title_info = []\n",
    "dict = {}\n",
    "dict = jikan.search('manga', title)\n",
    "#search title\n",
    "title_info.append(title)\n",
    "#result title\n",
    "title_info.append(dict['results'][0]['title'])\n",
    "title_info.append(dict['results'][0]['mal_id'])\n",
    "title_info.append(dict['results'][0]['url'])\n",
    "title_info.append(dict['results'][0]['image_url'])\n",
    "title_info.append(dict['results'][0]['synopsis'])\n",
    "title_info"
   ]
  },
  {
   "cell_type": "code",
   "execution_count": 16,
   "id": "0a9fca64",
   "metadata": {},
   "outputs": [
    {
     "data": {
      "text/html": [
       "<div>\n",
       "<style scoped>\n",
       "    .dataframe tbody tr th:only-of-type {\n",
       "        vertical-align: middle;\n",
       "    }\n",
       "\n",
       "    .dataframe tbody tr th {\n",
       "        vertical-align: top;\n",
       "    }\n",
       "\n",
       "    .dataframe thead th {\n",
       "        text-align: right;\n",
       "    }\n",
       "</style>\n",
       "<table border=\"1\" class=\"dataframe\">\n",
       "  <thead>\n",
       "    <tr style=\"text-align: right;\">\n",
       "      <th></th>\n",
       "      <th>0</th>\n",
       "    </tr>\n",
       "  </thead>\n",
       "  <tbody>\n",
       "    <tr>\n",
       "      <th>0</th>\n",
       "      <td>Ayashimon</td>\n",
       "    </tr>\n",
       "    <tr>\n",
       "      <th>1</th>\n",
       "      <td>Ayashimon</td>\n",
       "    </tr>\n",
       "    <tr>\n",
       "      <th>2</th>\n",
       "      <td>141583</td>\n",
       "    </tr>\n",
       "    <tr>\n",
       "      <th>3</th>\n",
       "      <td>https://myanimelist.net/manga/141583/Ayashimon</td>\n",
       "    </tr>\n",
       "    <tr>\n",
       "      <th>4</th>\n",
       "      <td>https://cdn.myanimelist.net/images/manga/1/256...</td>\n",
       "    </tr>\n",
       "    <tr>\n",
       "      <th>5</th>\n",
       "      <td>Years ago, the death of the infamous Enma Synd...</td>\n",
       "    </tr>\n",
       "  </tbody>\n",
       "</table>\n",
       "</div>"
      ],
      "text/plain": [
       "                                                   0\n",
       "0                                          Ayashimon\n",
       "1                                          Ayashimon\n",
       "2                                             141583\n",
       "3     https://myanimelist.net/manga/141583/Ayashimon\n",
       "4  https://cdn.myanimelist.net/images/manga/1/256...\n",
       "5  Years ago, the death of the infamous Enma Synd..."
      ]
     },
     "execution_count": 16,
     "metadata": {},
     "output_type": "execute_result"
    }
   ],
   "source": [
    "column_names = ['search title','result title','mal_id','url','image_url','synopsis']\n",
    "title_info_df = pd.DataFrame(title_info)\n",
    "title_info_df"
   ]
  },
  {
   "cell_type": "code",
   "execution_count": 3,
   "id": "5558e4c8",
   "metadata": {},
   "outputs": [
    {
     "data": {
      "text/plain": [
       "{'data': {'mal_id': 1,\n",
       "  'url': 'https://myanimelist.net/manga/1/Monster',\n",
       "  'images': {'jpg': {'image_url': 'https://cdn.myanimelist.net/images/manga/3/54525.jpg',\n",
       "    'small_image_url': 'https://cdn.myanimelist.net/images/manga/3/54525t.jpg',\n",
       "    'large_image_url': 'https://cdn.myanimelist.net/images/manga/3/54525l.jpg'},\n",
       "   'webp': {'image_url': 'https://cdn.myanimelist.net/images/manga/3/54525.webp',\n",
       "    'small_image_url': 'https://cdn.myanimelist.net/images/manga/3/54525t.webp',\n",
       "    'large_image_url': 'https://cdn.myanimelist.net/images/manga/3/54525l.webp'}},\n",
       "  'title': 'Monster',\n",
       "  'title_english': 'Monster',\n",
       "  'title_japanese': 'MONSTER',\n",
       "  'title_synonyms': [],\n",
       "  'type': 'Manga',\n",
       "  'chapters': 162,\n",
       "  'volumes': 18,\n",
       "  'status': 'Finished',\n",
       "  'publishing': False,\n",
       "  'published': {'from': '1994-12-05T00:00:00+00:00',\n",
       "   'to': '2001-12-20T00:00:00+00:00',\n",
       "   'prop': {'from': {'day': 5, 'month': 12, 'year': 1994},\n",
       "    'to': {'day': 20, 'month': 12, 'year': 2001}},\n",
       "   'string': 'Dec 5, 1994 to Dec 20, 2001'},\n",
       "  'score': 9.12,\n",
       "  'scored': 9.12,\n",
       "  'scored_by': 67821,\n",
       "  'rank': 5,\n",
       "  'popularity': 33,\n",
       "  'members': 175745,\n",
       "  'favorites': 15393,\n",
       "  'synopsis': \"Kenzou Tenma, a renowned Japanese neurosurgeon working in post-war Germany, faces a difficult choice: to operate on Johan Liebert, an orphan boy on the verge of death, or on the mayor of Düsseldorf. In the end, Tenma decides to gamble his reputation by saving Johan, effectively leaving the mayor for dead. As a consequence of his actions, hospital director Heinemann strips Tenma of his position, and Heinemann's daughter Eva breaks off their engagement. Disgraced and shunned by his colleagues, Tenma loses all hope of a successful career—that is, until the mysterious killing of Heinemann gives him another chance. Nine years later, Tenma is the head of the surgical department and close to becoming the director himself. Although all seems well for him at first, he soon becomes entangled in a chain of gruesome murders that have taken place throughout Germany. The culprit is a monster—the same one that Tenma saved on that fateful day nine years ago. [Written by MAL Rewrite]\",\n",
       "  'background': 'Monster won the Grand Prize at the 3rd annual Tezuka Osamu Cultural Prize in 1999, as well as the 46th Shogakukan Manga Award in the General category in 2000. The series was published in English by VIZ Media under the VIZ Signature imprint from February 21, 2006 to December 16, 2008, and again in 2-in-1 omnibuses (subtitled The Perfect Edition) from July 15, 2014 to July 19, 2016. The manga was also published in Brazilian Portuguese by Panini Comics/Planet Manga from June 2012 to April 2015, in Polish by Hanami from March 2014 to February 2017, in Spain by Planeta Cómic from June 16, 2009 to September 21, 2010, and in Argentina by LARP Editores.',\n",
       "  'authors': [{'mal_id': 1867,\n",
       "    'type': 'people',\n",
       "    'name': 'Urasawa, Naoki',\n",
       "    'url': 'https://myanimelist.net/people/1867/Naoki_Urasawa'}],\n",
       "  'serializations': [{'mal_id': 1,\n",
       "    'type': 'manga',\n",
       "    'name': 'Big Comic Original',\n",
       "    'url': 'https://myanimelist.net/manga/magazine/1/Big_Comic_Original'}],\n",
       "  'genres': [{'mal_id': 8,\n",
       "    'type': 'manga',\n",
       "    'name': 'Drama',\n",
       "    'url': 'https://myanimelist.net/manga/genre/8/Drama'},\n",
       "   {'mal_id': 7,\n",
       "    'type': 'manga',\n",
       "    'name': 'Mystery',\n",
       "    'url': 'https://myanimelist.net/manga/genre/7/Mystery'}],\n",
       "  'explicit_genres': [],\n",
       "  'themes': [{'mal_id': 40,\n",
       "    'type': 'manga',\n",
       "    'name': 'Psychological',\n",
       "    'url': 'https://myanimelist.net/manga/genre/40/Psychological'}],\n",
       "  'demographics': [{'mal_id': 41,\n",
       "    'type': 'manga',\n",
       "    'name': 'Seinen',\n",
       "    'url': 'https://myanimelist.net/manga/genre/41/Seinen'}]}}"
      ]
     },
     "execution_count": 3,
     "metadata": {},
     "output_type": "execute_result"
    }
   ],
   "source": [
    "res = requests.get('https://api.jikan.moe/v4/manga/1')\n",
    "res.json()"
   ]
  },
  {
   "cell_type": "code",
   "execution_count": 91,
   "id": "c3437d21",
   "metadata": {},
   "outputs": [
    {
     "data": {
      "text/plain": [
       "'https://myanimelist.net/manga/1/Monster'"
      ]
     },
     "execution_count": 91,
     "metadata": {},
     "output_type": "execute_result"
    }
   ],
   "source": [
    "res.json()['data']['url']"
   ]
  },
  {
   "cell_type": "code",
   "execution_count": 10,
   "id": "3aba3bea",
   "metadata": {},
   "outputs": [
    {
     "data": {
      "text/plain": [
       "'https://cdn.myanimelist.net/images/manga/3/54525.jpg'"
      ]
     },
     "execution_count": 10,
     "metadata": {},
     "output_type": "execute_result"
    }
   ],
   "source": [
    "res.json()['data']['images']['jpg']['image_url']"
   ]
  },
  {
   "cell_type": "code",
   "execution_count": 11,
   "id": "39a59335",
   "metadata": {},
   "outputs": [
    {
     "data": {
      "text/plain": [
       "'Monster'"
      ]
     },
     "execution_count": 11,
     "metadata": {},
     "output_type": "execute_result"
    }
   ],
   "source": [
    "res.json()['data']['title']"
   ]
  },
  {
   "cell_type": "code",
   "execution_count": 15,
   "id": "d0e36a6c",
   "metadata": {},
   "outputs": [
    {
     "data": {
      "text/plain": [
       "\"Kenzou Tenma, a renowned Japanese neurosurgeon working in post-war Germany, faces a difficult choice: to operate on Johan Liebert, an orphan boy on the verge of death, or on the mayor of Düsseldorf. In the end, Tenma decides to gamble his reputation by saving Johan, effectively leaving the mayor for dead. As a consequence of his actions, hospital director Heinemann strips Tenma of his position, and Heinemann's daughter Eva breaks off their engagement. Disgraced and shunned by his colleagues, Tenma loses all hope of a successful career—that is, until the mysterious killing of Heinemann gives him another chance. Nine years later, Tenma is the head of the surgical department and close to becoming the director himself. Although all seems well for him at first, he soon becomes entangled in a chain of gruesome murders that have taken place throughout Germany. The culprit is a monster—the same one that Tenma saved on that fateful day nine years ago. [Written by MAL Rewrite]\""
      ]
     },
     "execution_count": 15,
     "metadata": {},
     "output_type": "execute_result"
    }
   ],
   "source": [
    "res.json()['data']['synopsis']"
   ]
  },
  {
   "cell_type": "code",
   "execution_count": 17,
   "id": "39ee5a80",
   "metadata": {},
   "outputs": [
    {
     "data": {
      "text/plain": [
       "[{'mal_id': 8,\n",
       "  'type': 'manga',\n",
       "  'name': 'Drama',\n",
       "  'url': 'https://myanimelist.net/manga/genre/8/Drama'},\n",
       " {'mal_id': 7,\n",
       "  'type': 'manga',\n",
       "  'name': 'Mystery',\n",
       "  'url': 'https://myanimelist.net/manga/genre/7/Mystery'}]"
      ]
     },
     "execution_count": 17,
     "metadata": {},
     "output_type": "execute_result"
    }
   ],
   "source": [
    "res.json()['data']['genres']"
   ]
  },
  {
   "cell_type": "code",
   "execution_count": 24,
   "id": "15f1c9da",
   "metadata": {},
   "outputs": [
    {
     "data": {
      "text/plain": [
       "'Drama'"
      ]
     },
     "execution_count": 24,
     "metadata": {},
     "output_type": "execute_result"
    }
   ],
   "source": [
    "res.json()['data']['genres'][0]['name']"
   ]
  },
  {
   "cell_type": "code",
   "execution_count": 92,
   "id": "6caf6a60",
   "metadata": {},
   "outputs": [
    {
     "data": {
      "text/plain": [
       "'Psychological'"
      ]
     },
     "execution_count": 92,
     "metadata": {},
     "output_type": "execute_result"
    }
   ],
   "source": [
    "res.json()['data']['themes'][0]['name']"
   ]
  },
  {
   "cell_type": "code",
   "execution_count": 93,
   "id": "5b54bf1b",
   "metadata": {},
   "outputs": [
    {
     "data": {
      "text/plain": [
       "'Seinen'"
      ]
     },
     "execution_count": 93,
     "metadata": {},
     "output_type": "execute_result"
    }
   ],
   "source": [
    "res.json()['data']['demographics'][0]['name']"
   ]
  },
  {
   "cell_type": "code",
   "execution_count": 20,
   "id": "80e860cd",
   "metadata": {},
   "outputs": [
    {
     "data": {
      "text/plain": [
       "[]"
      ]
     },
     "execution_count": 20,
     "metadata": {},
     "output_type": "execute_result"
    }
   ],
   "source": [
    "res.json()['data']['explicit_genres']"
   ]
  },
  {
   "cell_type": "code",
   "execution_count": null,
   "id": "acc604b0",
   "metadata": {
    "scrolled": true
   },
   "outputs": [
    {
     "name": "stdout",
     "output_type": "stream",
     "text": [
      "2906\n",
      "2905\n",
      "2904\n",
      "2903\n",
      "2902\n",
      "2901\n",
      "2900\n",
      "2899\n",
      "2898\n",
      "2897\n",
      "2896\n",
      "2895\n",
      "2894\n",
      "2893\n",
      "2892\n",
      "2891\n",
      "2890\n",
      "2889\n",
      "2888\n",
      "2887\n",
      "2886\n",
      "2885\n",
      "2884\n",
      "2883\n",
      "2882\n",
      "2881\n",
      "2880\n",
      "2879\n",
      "2878\n",
      "2877\n",
      "2876\n",
      "2875\n",
      "2874\n",
      "2873\n",
      "2872\n",
      "2871\n",
      "2870\n",
      "2869\n",
      "2868\n",
      "2867\n",
      "2866\n",
      "2865\n",
      "2864\n",
      "2863\n",
      "2862\n",
      "2861\n",
      "2860\n",
      "2859\n",
      "2858\n",
      "2857\n",
      "2856\n",
      "2855\n",
      "2854\n",
      "2853\n",
      "2852\n",
      "2851\n",
      "2850\n",
      "2849\n",
      "2848\n",
      "2847\n",
      "2846\n",
      "2845\n",
      "2844\n",
      "2843\n",
      "2842\n",
      "2841\n",
      "2840\n",
      "2839\n",
      "2838\n",
      "2837\n",
      "2836\n",
      "2835\n",
      "2834\n",
      "2833\n",
      "2832\n",
      "2831\n",
      "2830\n",
      "2829\n",
      "2828\n",
      "2827\n",
      "2826\n",
      "2825\n",
      "2824\n",
      "2823\n",
      "2822\n",
      "2821\n",
      "2820\n",
      "2819\n",
      "2818\n",
      "2817\n",
      "2816\n",
      "2815\n",
      "2814\n",
      "2813\n",
      "2812\n",
      "2811\n",
      "2810\n",
      "2809\n",
      "2808\n",
      "2807\n",
      "2806\n",
      "2805\n",
      "2804\n",
      "2803\n",
      "2802\n",
      "2801\n",
      "2800\n",
      "2799\n",
      "2798\n",
      "2797\n",
      "2796\n",
      "2795\n",
      "2794\n",
      "2793\n",
      "2792\n",
      "2791\n",
      "2790\n",
      "2789\n",
      "2788\n",
      "2787\n",
      "2786\n",
      "2785\n",
      "2784\n",
      "2783\n",
      "2782\n",
      "2781\n",
      "2780\n",
      "2779\n",
      "2778\n",
      "2777\n",
      "2776\n",
      "2775\n",
      "2774\n",
      "2773\n",
      "2772\n",
      "2771\n",
      "2770\n",
      "2769\n",
      "2768\n",
      "2767\n",
      "2766\n",
      "2765\n",
      "2764\n",
      "2763\n",
      "2762\n",
      "2761\n",
      "2760\n",
      "2759\n",
      "2758\n",
      "2757\n",
      "2756\n",
      "2755\n",
      "2754\n",
      "2753\n",
      "2752\n",
      "2751\n",
      "2750\n",
      "2749\n",
      "2748\n",
      "2747\n",
      "2746\n",
      "2745\n",
      "2744\n",
      "2743\n",
      "2742\n",
      "2741\n",
      "2740\n",
      "2739\n",
      "2738\n",
      "2737\n",
      "2736\n",
      "2735\n",
      "2734\n",
      "2733\n",
      "2732\n",
      "2731\n",
      "2730\n",
      "2729\n",
      "2728\n",
      "2727\n",
      "2726\n",
      "2725\n",
      "2724\n",
      "2723\n",
      "2722\n",
      "2721\n",
      "2720\n",
      "2719\n",
      "2718\n",
      "2717\n",
      "2716\n",
      "2715\n",
      "2714\n",
      "2713\n",
      "2712\n",
      "2711\n",
      "2710\n",
      "2709\n",
      "2708\n",
      "2707\n",
      "2706\n",
      "2705\n",
      "2704\n",
      "2703\n",
      "2702\n",
      "2701\n",
      "2700\n",
      "2699\n",
      "2698\n",
      "2697\n",
      "2696\n",
      "2695\n",
      "2694\n",
      "2693\n",
      "2692\n",
      "2691\n",
      "2690\n",
      "2689\n",
      "2688\n",
      "2687\n",
      "2686\n",
      "2685\n",
      "2684\n",
      "2683\n",
      "2682\n",
      "2681\n",
      "2680\n",
      "2679\n",
      "2678\n",
      "2677\n",
      "2676\n",
      "2675\n",
      "2674\n",
      "2673\n",
      "2672\n",
      "2671\n",
      "2670\n",
      "2669\n",
      "2668\n",
      "2667\n",
      "2666\n",
      "2665\n",
      "2664\n",
      "2663\n",
      "2662\n",
      "2661\n",
      "2660\n",
      "2659\n",
      "2658\n",
      "2657\n",
      "2656\n",
      "2655\n",
      "2654\n",
      "2653\n",
      "2652\n",
      "2651\n",
      "2650\n",
      "2649\n",
      "2648\n",
      "2647\n",
      "2646\n",
      "2645\n",
      "2644\n",
      "2643\n",
      "2642\n",
      "2641\n",
      "2640\n",
      "2639\n",
      "2638\n",
      "2637\n",
      "2636\n",
      "2635\n",
      "2634\n",
      "2633\n",
      "2632\n",
      "2631\n",
      "2630\n",
      "2629\n",
      "2628\n",
      "2627\n",
      "2626\n",
      "2625\n",
      "2624\n",
      "2623\n",
      "2622\n",
      "2621\n",
      "2620\n",
      "2619\n",
      "2618\n",
      "2617\n",
      "2616\n",
      "2615\n",
      "2614\n",
      "2613\n",
      "2612\n",
      "2611\n",
      "2610\n",
      "2609\n",
      "2608\n",
      "2607\n",
      "2606\n",
      "2605\n",
      "2604\n",
      "2603\n",
      "2602\n",
      "2601\n",
      "2600\n",
      "2599\n",
      "2598\n",
      "2597\n",
      "2596\n",
      "2595\n",
      "2594\n",
      "2593\n",
      "2592\n",
      "2591\n",
      "2590\n",
      "2589\n",
      "2588\n",
      "2587\n",
      "2586\n",
      "2585\n",
      "2584\n",
      "2583\n",
      "2582\n",
      "2581\n",
      "2580\n",
      "2579\n",
      "2578\n",
      "2577\n",
      "2576\n",
      "2575\n",
      "2574\n",
      "2573\n",
      "2572\n",
      "2571\n",
      "2570\n",
      "2569\n",
      "2568\n",
      "2567\n",
      "2566\n",
      "2565\n",
      "2564\n",
      "2563\n",
      "2562\n",
      "2561\n",
      "2560\n",
      "2559\n",
      "2558\n",
      "2557\n",
      "2556\n",
      "2555\n",
      "2554\n",
      "2553\n",
      "2552\n",
      "2551\n",
      "2550\n",
      "2549\n",
      "2548\n",
      "2547\n",
      "2546\n",
      "2545\n",
      "2544\n",
      "2543\n",
      "2542\n",
      "2541\n",
      "2540\n",
      "2539\n",
      "2538\n",
      "2537\n",
      "2536\n",
      "2535\n",
      "2534\n",
      "2533\n",
      "2532\n",
      "2531\n",
      "2530\n",
      "2529\n",
      "2528\n",
      "2527\n",
      "2526\n",
      "2525\n",
      "2524\n",
      "2523\n",
      "2522\n",
      "2521\n",
      "2520\n",
      "2519\n",
      "2518\n",
      "2517\n",
      "2516\n",
      "2515\n",
      "2514\n",
      "2513\n",
      "2512\n",
      "2511\n",
      "2510\n",
      "2509\n",
      "2508\n",
      "2507\n",
      "2506\n",
      "2505\n",
      "2504\n",
      "2503\n",
      "2502\n",
      "2501\n",
      "2500\n",
      "2499\n",
      "2498\n",
      "2497\n",
      "2496\n",
      "2495\n",
      "2494\n",
      "2493\n",
      "2492\n",
      "2491\n",
      "2490\n",
      "2489\n",
      "2488\n",
      "2487\n",
      "2486\n",
      "2485\n",
      "2484\n",
      "2483\n",
      "2482\n",
      "2481\n",
      "2480\n",
      "2479\n",
      "2478\n",
      "2477\n",
      "2476\n",
      "2475\n",
      "2474\n",
      "2473\n",
      "2472\n",
      "2471\n",
      "2470\n",
      "2469\n",
      "2468\n",
      "2467\n",
      "2466\n",
      "2465\n",
      "2464\n",
      "2463\n",
      "2462\n",
      "2461\n",
      "2460\n",
      "2459\n",
      "2458\n",
      "2457\n",
      "2456\n",
      "2455\n",
      "2454\n",
      "2453\n",
      "2452\n",
      "2451\n",
      "2450\n",
      "2449\n",
      "2448\n",
      "2447\n",
      "2446\n",
      "2445\n",
      "2444\n",
      "2443\n",
      "2442\n",
      "2441\n",
      "2440\n",
      "2439\n",
      "2438\n",
      "2437\n",
      "2436\n",
      "2435\n",
      "2434\n",
      "2433\n",
      "2432\n",
      "2431\n",
      "2430\n",
      "2429\n",
      "2428\n",
      "2427\n",
      "2426\n",
      "2425\n",
      "2424\n",
      "2423\n",
      "2422\n",
      "2421\n",
      "2420\n",
      "2419\n",
      "2418\n",
      "2417\n",
      "2416\n",
      "2415\n",
      "2414\n",
      "2413\n",
      "2412\n",
      "2411\n",
      "2410\n",
      "2409\n",
      "2408\n",
      "2407\n",
      "2406\n",
      "2405\n",
      "2404\n",
      "2403\n",
      "2402\n",
      "2401\n",
      "2400\n",
      "2399\n",
      "2398\n",
      "2397\n",
      "2396\n",
      "2395\n",
      "2394\n",
      "2393\n",
      "2392\n",
      "2391\n",
      "2390\n",
      "2389\n",
      "2388\n",
      "2387\n",
      "2386\n",
      "2385\n",
      "2384\n",
      "2383\n",
      "2382\n",
      "2381\n",
      "2380\n",
      "2379\n",
      "2378\n",
      "2377\n",
      "2376\n",
      "2375\n",
      "2374\n",
      "2373\n",
      "2372\n",
      "2371\n",
      "2370\n",
      "2369\n",
      "2368\n",
      "2367\n",
      "2366\n",
      "2365\n",
      "2364\n",
      "2363\n",
      "2362\n",
      "2361\n",
      "2360\n",
      "2359\n",
      "2358\n",
      "2357\n",
      "2356\n",
      "2355\n",
      "2354\n",
      "2353\n",
      "2352\n",
      "2351\n",
      "2350\n",
      "2349\n",
      "2348\n",
      "2347\n",
      "2346\n",
      "2345\n",
      "2344\n",
      "2343\n",
      "2342\n",
      "2341\n",
      "2340\n",
      "2339\n",
      "2338\n",
      "2337\n",
      "2336\n",
      "2335\n",
      "2334\n",
      "2333\n",
      "2332\n",
      "2331\n",
      "2330\n",
      "2329\n",
      "2328\n",
      "2327\n",
      "2326\n",
      "2325\n",
      "2324\n",
      "2323\n",
      "2322\n",
      "2321\n",
      "2320\n",
      "2319\n",
      "2318\n",
      "2317\n",
      "2316\n",
      "2315\n",
      "2314\n",
      "2313\n",
      "2312\n",
      "2311\n",
      "2310\n",
      "2309\n",
      "2308\n",
      "2307\n",
      "2306\n",
      "2305\n",
      "2304\n",
      "2303\n",
      "2302\n",
      "2301\n",
      "2300\n",
      "2299\n",
      "2298\n",
      "2297\n",
      "2296\n",
      "2295\n",
      "2294\n",
      "2293\n",
      "2292\n",
      "2291\n",
      "2290\n",
      "2289\n",
      "2288\n",
      "2287\n",
      "2286\n",
      "2285\n",
      "2284\n",
      "2283\n",
      "2282\n",
      "2281\n",
      "2280\n",
      "2279\n",
      "2278\n",
      "2277\n",
      "2276\n",
      "2275\n",
      "2274\n",
      "2273\n",
      "2272\n",
      "2271\n",
      "2270\n",
      "2269\n",
      "2268\n",
      "2267\n",
      "2266\n",
      "2265\n",
      "2264\n",
      "2263\n",
      "2262\n",
      "2261\n",
      "2260\n",
      "2259\n",
      "2258\n",
      "2257\n",
      "2256\n",
      "2255\n",
      "2254\n",
      "2253\n",
      "2252\n",
      "2251\n",
      "2250\n",
      "2249\n",
      "2248\n",
      "2247\n",
      "2246\n",
      "2245\n",
      "2244\n",
      "2243\n",
      "2242\n",
      "2241\n",
      "2240\n",
      "2239\n",
      "2238\n",
      "2237\n",
      "2236\n",
      "2235\n",
      "2234\n",
      "2233\n",
      "2232\n",
      "2231\n",
      "2230\n",
      "2229\n",
      "2228\n",
      "2227\n",
      "2226\n",
      "2225\n",
      "2224\n",
      "2223\n",
      "2222\n",
      "2221\n",
      "2220\n",
      "2219\n",
      "2218\n",
      "2217\n",
      "2216\n",
      "2215\n",
      "2214\n",
      "2213\n",
      "2212\n",
      "2211\n",
      "2210\n",
      "2209\n",
      "2208\n",
      "2207\n",
      "2206\n",
      "2205\n",
      "2204\n",
      "2203\n",
      "2202\n",
      "2201\n",
      "2200\n",
      "2199\n",
      "2198\n",
      "2197\n",
      "2196\n",
      "2195\n",
      "2194\n",
      "2193\n",
      "2192\n",
      "2191\n",
      "2190\n",
      "2189\n",
      "2188\n",
      "2187\n",
      "2186\n",
      "2185\n",
      "2184\n",
      "2183\n",
      "2182\n",
      "2181\n",
      "2180\n",
      "2179\n",
      "2178\n",
      "2177\n",
      "2176\n",
      "2175\n",
      "2174\n",
      "2173\n",
      "2172\n",
      "2171\n",
      "2170\n",
      "2169\n",
      "2168\n",
      "2167\n",
      "2166\n",
      "2165\n",
      "2164\n",
      "2163\n",
      "2162\n",
      "2161\n",
      "2160\n",
      "2159\n",
      "2158\n",
      "2157\n",
      "2156\n",
      "2155\n",
      "2154\n",
      "2153\n",
      "2152\n",
      "2151\n",
      "2150\n",
      "2149\n",
      "2148\n",
      "2147\n",
      "2146\n",
      "2145\n",
      "2144\n",
      "2143\n",
      "2142\n",
      "2141\n",
      "2140\n",
      "2139\n",
      "2138\n",
      "2137\n",
      "2136\n",
      "2135\n",
      "2134\n",
      "2133\n",
      "2132\n"
     ]
    }
   ],
   "source": [
    "title_list = reading_no_zero_df['item'].unique().tolist()\n",
    "title_id_list = []\n",
    "for i in range(150_000):\n",
    "    try:\n",
    "        title_id_set = []\n",
    "        res = requests.get(f'https://api.jikan.moe/v4/manga/{i}')\n",
    "        if res.json()['data']['title'] in title_list:\n",
    "            title_id_set.append(res.json()['data']['title'])\n",
    "            title_id_set.append(i)\n",
    "            title_list.remove(res.json()['data']['title'])\n",
    "            title_id_list.append(title_id_set)\n",
    "            print(len(title_list))\n",
    "    except:\n",
    "        continue\n",
    "title_id_list"
   ]
  },
  {
   "cell_type": "markdown",
   "id": "bb061f0f",
   "metadata": {},
   "source": [
    "features = ['url','image','title','title_english','title_japanese','title_synonyms','synopsis','genres_1', 'genres_2', 'genres_3', 'genres_4', 'genres_5', 'explicit_genres_1', 'explicit_genres_2', 'explicit_genres_3', 'explicit_genres_4', 'explicit_genres_5', 'demographics_1', 'demographics_2', 'demographics_3', 'themes_1', 'themes_2', 'themes_3']\n",
    "feature_df = pd.DataFrame(columns = features)\n",
    "title_list = reading_no_zero_df['item'].unique().tolist()\n",
    "i = 1\n",
    "while len(title_list) != 0:\n",
    "    try:\n",
    "        res = requests.get(f'https://api.jikan.moe/v4/manga/{i}')\n",
    "        result = res.json()\n",
    "        if result['data']['title'] in title_list:\n",
    "            title_list.remove(result['data']['title'])\n",
    "            feature_df.append({'title':result['data']['title']}, ignore_index = True)\n",
    "            feature_df.loc[feature_df['title'] == result['data']['title'], ['title_english']] = result['data']['title_english']\n",
    "            feature_df.loc[feature_df['title'] == result['data']['title'], ['title_japanese']] = result['data']['title_japanese']\n",
    "            feature_df.loc[feature_df['title'] == result['data']['title'], ['title_synonyms']] = result['data']['title_synonyms']\n",
    "            feature_df.loc[feature_df['title'] == result['data']['title'], ['synopsis']] = result['data']['synopsis']\n",
    "            feature_df.loc[feature_df['title'] == result['data']['title'], ['url']] = result['data']['url']\n",
    "            feature_df.loc[feature_df['title'] == result['data']['title'], ['image']] = result['data']['images']['jpg']['image_url']\n",
    "            for number in range(5):\n",
    "                try:\n",
    "                    feature_df.loc[feature_df['title'] == result['data']['title'], [f'genres_{number+1}']] = result['data']['genres'][number]['name']\n",
    "                except:\n",
    "                    break\n",
    "            for number in range(5):\n",
    "                try:\n",
    "                    feature_df.loc[feature_df['title'] == result['data']['title'], [f'explicit_genres_{number+1}']] = result['data']['explicit_genres'][number]['name']\n",
    "                except:\n",
    "                    break    \n",
    "            for number in range(3):\n",
    "                try:\n",
    "                    feature_df.loc[feature_df['title'] == result['data']['title'], [f'themes_{number+1}']] = result['data']['themes'][number]['name']\n",
    "                except:\n",
    "                    break   \n",
    "            for number in range(3):\n",
    "                try:\n",
    "                    feature_df.loc[feature_df['title'] == result['data']['title'], [f'demographics_{number+1}']] = result['data']['demographics'][number]['name']\n",
    "                except:\n",
    "                    break \n",
    "        i+=1\n",
    "\n",
    "    except:\n",
    "        continue"
   ]
  },
  {
   "cell_type": "code",
   "execution_count": 4,
   "id": "c163c918",
   "metadata": {},
   "outputs": [],
   "source": [
    "test = ['a','b','c']\n",
    "test = pd.DataFrame(test)\n",
    "test.to_csv('test_list.csv', index = False)"
   ]
  },
  {
   "cell_type": "code",
   "execution_count": 6,
   "id": "2e090a89",
   "metadata": {},
   "outputs": [
    {
     "data": {
      "text/html": [
       "<div>\n",
       "<style scoped>\n",
       "    .dataframe tbody tr th:only-of-type {\n",
       "        vertical-align: middle;\n",
       "    }\n",
       "\n",
       "    .dataframe tbody tr th {\n",
       "        vertical-align: top;\n",
       "    }\n",
       "\n",
       "    .dataframe thead th {\n",
       "        text-align: right;\n",
       "    }\n",
       "</style>\n",
       "<table border=\"1\" class=\"dataframe\">\n",
       "  <thead>\n",
       "    <tr style=\"text-align: right;\">\n",
       "      <th></th>\n",
       "      <th>0</th>\n",
       "    </tr>\n",
       "  </thead>\n",
       "  <tbody>\n",
       "    <tr>\n",
       "      <th>0</th>\n",
       "      <td>a</td>\n",
       "    </tr>\n",
       "    <tr>\n",
       "      <th>1</th>\n",
       "      <td>b</td>\n",
       "    </tr>\n",
       "    <tr>\n",
       "      <th>2</th>\n",
       "      <td>c</td>\n",
       "    </tr>\n",
       "  </tbody>\n",
       "</table>\n",
       "</div>"
      ],
      "text/plain": [
       "   0\n",
       "0  a\n",
       "1  b\n",
       "2  c"
      ]
     },
     "execution_count": 6,
     "metadata": {},
     "output_type": "execute_result"
    }
   ],
   "source": [
    "test = pd.read_csv('test_list.csv')\n",
    "test"
   ]
  },
  {
   "cell_type": "code",
   "execution_count": 7,
   "id": "12923d07",
   "metadata": {},
   "outputs": [
    {
     "data": {
      "text/html": [
       "<div>\n",
       "<style scoped>\n",
       "    .dataframe tbody tr th:only-of-type {\n",
       "        vertical-align: middle;\n",
       "    }\n",
       "\n",
       "    .dataframe tbody tr th {\n",
       "        vertical-align: top;\n",
       "    }\n",
       "\n",
       "    .dataframe thead th {\n",
       "        text-align: right;\n",
       "    }\n",
       "</style>\n",
       "<table border=\"1\" class=\"dataframe\">\n",
       "  <thead>\n",
       "    <tr style=\"text-align: right;\">\n",
       "      <th></th>\n",
       "      <th>0</th>\n",
       "      <th>1</th>\n",
       "      <th>2</th>\n",
       "    </tr>\n",
       "  </thead>\n",
       "  <tbody>\n",
       "    <tr>\n",
       "      <th>0</th>\n",
       "      <td>a</td>\n",
       "      <td>b</td>\n",
       "      <td>c</td>\n",
       "    </tr>\n",
       "  </tbody>\n",
       "</table>\n",
       "</div>"
      ],
      "text/plain": [
       "   0  1  2\n",
       "0  a  b  c"
      ]
     },
     "execution_count": 7,
     "metadata": {},
     "output_type": "execute_result"
    }
   ],
   "source": [
    "test.T"
   ]
  },
  {
   "cell_type": "code",
   "execution_count": null,
   "id": "b364e2a9",
   "metadata": {},
   "outputs": [],
   "source": []
  }
 ],
 "metadata": {
  "kernelspec": {
   "display_name": "Python 3",
   "language": "python",
   "name": "python3"
  },
  "language_info": {
   "codemirror_mode": {
    "name": "ipython",
    "version": 3
   },
   "file_extension": ".py",
   "mimetype": "text/x-python",
   "name": "python",
   "nbconvert_exporter": "python",
   "pygments_lexer": "ipython3",
   "version": "3.8.8"
  }
 },
 "nbformat": 4,
 "nbformat_minor": 5
}
