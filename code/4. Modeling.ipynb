{
 "cells": [
  {
   "cell_type": "markdown",
   "id": "328abef3",
   "metadata": {},
   "source": [
    "## 4. Modeling\n",
    "\n",
    "In this notebook, I will train machine learning models to power the recommender system.  \n",
    "I will be using the [scikit-surprise library](https://surprise.readthedocs.io/en/stable/) to build the recommender system."
   ]
  },
  {
   "cell_type": "code",
   "execution_count": 1,
   "id": "7a8680a0",
   "metadata": {},
   "outputs": [],
   "source": [
    "from collections import defaultdict\n",
    "from tqdm import tqdm\n",
    "import pandas as pd\n",
    "import matplotlib.pyplot as plt\n",
    "import seaborn as sns\n",
    "from surprise.model_selection import KFold\n",
    "from surprise import Reader\n",
    "from surprise import Dataset\n",
    "from surprise.model_selection import cross_validate\n",
    "from surprise import NormalPredictor\n",
    "from surprise import KNNBasic\n",
    "from surprise import KNNWithMeans\n",
    "from surprise import KNNWithZScore\n",
    "from surprise import KNNBaseline\n",
    "from surprise import SVD\n",
    "from surprise import BaselineOnly\n",
    "from surprise import SVDpp\n",
    "from surprise import NMF\n",
    "from surprise import SlopeOne\n",
    "from surprise import CoClustering\n",
    "from surprise.accuracy import rmse\n",
    "from surprise import accuracy\n",
    "from surprise.model_selection import train_test_split\n",
    "from surprise.model_selection import GridSearchCV\n",
    "from random import sample, choice"
   ]
  },
  {
   "cell_type": "code",
   "execution_count": 2,
   "id": "91684546",
   "metadata": {},
   "outputs": [],
   "source": [
    "reading_no_zero_df = pd.read_csv('../data/reading_no_zero.csv')"
   ]
  },
  {
   "cell_type": "markdown",
   "id": "5c788ea2",
   "metadata": {},
   "source": [
    "### Machine Learning models in scikit-surprise\n",
    "\n",
    "I will be trying out all of the [scikit-surprise models](https://surprise.readthedocs.io/en/stable/prediction_algorithms_package.html) except SVDpp. During my literature review of other recommender system projects and trying out SVDpp myself, I have concluded that it has an extremely long fit time with similar results to the other models.  "
   ]
  },
  {
   "cell_type": "markdown",
   "id": "966af44a",
   "metadata": {},
   "source": [
    "The explanation for each of the models used is taken from the [scikit-surprise documentation](https://surprise.readthedocs.io/en/stable/prediction_algorithms_package.html).\n",
    "\n",
    "- Normal Predictor: Algorithm predicting a random rating based on the distribution of the training set, which is assumed to be normal.\n",
    "- Baseline Only: Algorithm predicting the baseline estimate for given user and item.\n",
    "- KNN Basic: A basic collaborative filtering algorithm.\n",
    "- KNN with Means: A basic collaborative filtering algorithm, taking into account the mean ratings of each user.\n",
    "- KNN with Z-scores: A basic collaborative filtering algorithm, taking into account the z-score normalization of each user.\n",
    "- KNN Baseline: A basic collaborative filtering algorithm taking into account a baseline rating.\n",
    "- SVD: The famous SVD algorithm, as popularized by Simon Funk during the Netflix Prize.When baselines are not used, this is equivalent to Probabilistic Matrix Factorization [salakhutdinov2008a]\n",
    "- Non-negative Matrix Factorization: A collaborative filtering algorithm based on Non-negative Matrix Factorization.\n",
    "- Slope One: A simple yet accurate collaborative filtering algorithm.\n",
    "- Co-clustering: A collaborative filtering algorithm based on co-clustering."
   ]
  },
  {
   "cell_type": "code",
   "execution_count": 70,
   "id": "00fd68be",
   "metadata": {},
   "outputs": [],
   "source": [
    "algos = {'SVD':SVD(), 'Slope One':SlopeOne(), 'Non-negative Matrix Factorization':NMF(), 'Normal Predictor':NormalPredictor(), 'KNN Baseline':KNNBaseline(), 'KNN Basic':KNNBasic(), 'KNN with Means':KNNWithMeans(), 'KNN with Z-Score':KNNWithZScore(), 'Basline Only':BaselineOnly(), 'Co-clustering':CoClustering()}\n",
    "reader = Reader(rating_scale=(1, 10))\n",
    "data = Dataset.load_from_df(reading_no_zero_df[['user', 'item', 'rating']], reader)"
   ]
  },
  {
   "cell_type": "code",
   "execution_count": 71,
   "id": "5ccb7f32",
   "metadata": {},
   "outputs": [
    {
     "name": "stderr",
     "output_type": "stream",
     "text": [
      " 40%|█████████████████████████████████▏                                                 | 4/10 [02:31<03:15, 32.66s/it]"
     ]
    },
    {
     "name": "stdout",
     "output_type": "stream",
     "text": [
      "Estimating biases using als...\n",
      "Computing the msd similarity matrix...\n",
      "Done computing similarity matrix.\n",
      "Estimating biases using als...\n",
      "Computing the msd similarity matrix...\n",
      "Done computing similarity matrix.\n",
      "Estimating biases using als...\n",
      "Computing the msd similarity matrix...\n",
      "Done computing similarity matrix.\n",
      "Estimating biases using als...\n",
      "Computing the msd similarity matrix...\n",
      "Done computing similarity matrix.\n",
      "Estimating biases using als...\n",
      "Computing the msd similarity matrix...\n",
      "Done computing similarity matrix.\n"
     ]
    },
    {
     "name": "stderr",
     "output_type": "stream",
     "text": [
      "\r",
      " 50%|█████████████████████████████████████████▌                                         | 5/10 [04:58<06:10, 74.01s/it]"
     ]
    },
    {
     "name": "stdout",
     "output_type": "stream",
     "text": [
      "Computing the msd similarity matrix...\n",
      "Done computing similarity matrix.\n",
      "Computing the msd similarity matrix...\n",
      "Done computing similarity matrix.\n",
      "Computing the msd similarity matrix...\n",
      "Done computing similarity matrix.\n",
      "Computing the msd similarity matrix...\n",
      "Done computing similarity matrix.\n",
      "Computing the msd similarity matrix...\n",
      "Done computing similarity matrix.\n"
     ]
    },
    {
     "name": "stderr",
     "output_type": "stream",
     "text": [
      "\r",
      " 60%|█████████████████████████████████████████████████▊                                 | 6/10 [07:15<06:22, 95.59s/it]"
     ]
    },
    {
     "name": "stdout",
     "output_type": "stream",
     "text": [
      "Computing the msd similarity matrix...\n",
      "Done computing similarity matrix.\n",
      "Computing the msd similarity matrix...\n",
      "Done computing similarity matrix.\n",
      "Computing the msd similarity matrix...\n",
      "Done computing similarity matrix.\n",
      "Computing the msd similarity matrix...\n",
      "Done computing similarity matrix.\n",
      "Computing the msd similarity matrix...\n",
      "Done computing similarity matrix.\n"
     ]
    },
    {
     "name": "stderr",
     "output_type": "stream",
     "text": [
      "\r",
      " 70%|█████████████████████████████████████████████████████████▍                        | 7/10 [35:19<30:44, 614.77s/it]"
     ]
    },
    {
     "name": "stdout",
     "output_type": "stream",
     "text": [
      "Computing the msd similarity matrix...\n",
      "Done computing similarity matrix.\n",
      "Computing the msd similarity matrix...\n",
      "Done computing similarity matrix.\n",
      "Computing the msd similarity matrix...\n",
      "Done computing similarity matrix.\n",
      "Computing the msd similarity matrix...\n",
      "Done computing similarity matrix.\n",
      "Computing the msd similarity matrix...\n",
      "Done computing similarity matrix.\n"
     ]
    },
    {
     "name": "stderr",
     "output_type": "stream",
     "text": [
      "\r",
      " 80%|█████████████████████████████████████████████████████████████████▌                | 8/10 [37:45<15:31, 465.51s/it]"
     ]
    },
    {
     "name": "stdout",
     "output_type": "stream",
     "text": [
      "Estimating biases using als...\n",
      "Estimating biases using als...\n",
      "Estimating biases using als...\n",
      "Estimating biases using als...\n",
      "Estimating biases using als...\n"
     ]
    },
    {
     "name": "stderr",
     "output_type": "stream",
     "text": [
      "100%|█████████████████████████████████████████████████████████████████████████████████| 10/10 [38:25<00:00, 230.54s/it]\n"
     ]
    }
   ],
   "source": [
    "overall_results = []\n",
    "for algo_name, algo in tqdm(algos.items()): \n",
    "    algo_results = []\n",
    "    results = cross_validate(algo, data, measures=['RMSE'], cv=5, verbose=False)\n",
    "    algo_results.append(algo_name)\n",
    "    algo_results.append(results['test_rmse'].mean())\n",
    "    overall_results.append(algo_results)"
   ]
  },
  {
   "cell_type": "code",
   "execution_count": 72,
   "id": "f735ebd3",
   "metadata": {},
   "outputs": [
    {
     "data": {
      "text/html": [
       "<div>\n",
       "<style scoped>\n",
       "    .dataframe tbody tr th:only-of-type {\n",
       "        vertical-align: middle;\n",
       "    }\n",
       "\n",
       "    .dataframe tbody tr th {\n",
       "        vertical-align: top;\n",
       "    }\n",
       "\n",
       "    .dataframe thead th {\n",
       "        text-align: right;\n",
       "    }\n",
       "</style>\n",
       "<table border=\"1\" class=\"dataframe\">\n",
       "  <thead>\n",
       "    <tr style=\"text-align: right;\">\n",
       "      <th></th>\n",
       "      <th>Algorithm Name</th>\n",
       "      <th>Mean CV RMSE Score</th>\n",
       "    </tr>\n",
       "  </thead>\n",
       "  <tbody>\n",
       "    <tr>\n",
       "      <th>1</th>\n",
       "      <td>Slope One</td>\n",
       "      <td>1.201943</td>\n",
       "    </tr>\n",
       "    <tr>\n",
       "      <th>4</th>\n",
       "      <td>KNN Baseline</td>\n",
       "      <td>1.203653</td>\n",
       "    </tr>\n",
       "    <tr>\n",
       "      <th>0</th>\n",
       "      <td>SVD</td>\n",
       "      <td>1.213756</td>\n",
       "    </tr>\n",
       "    <tr>\n",
       "      <th>8</th>\n",
       "      <td>Basline Only</td>\n",
       "      <td>1.215756</td>\n",
       "    </tr>\n",
       "    <tr>\n",
       "      <th>7</th>\n",
       "      <td>KNN with Z-Score</td>\n",
       "      <td>1.238657</td>\n",
       "    </tr>\n",
       "    <tr>\n",
       "      <th>6</th>\n",
       "      <td>KNN with Means</td>\n",
       "      <td>1.242536</td>\n",
       "    </tr>\n",
       "    <tr>\n",
       "      <th>9</th>\n",
       "      <td>Co-clustering</td>\n",
       "      <td>1.259351</td>\n",
       "    </tr>\n",
       "    <tr>\n",
       "      <th>5</th>\n",
       "      <td>KNN Basic</td>\n",
       "      <td>1.336306</td>\n",
       "    </tr>\n",
       "    <tr>\n",
       "      <th>3</th>\n",
       "      <td>Normal Predictor</td>\n",
       "      <td>2.144525</td>\n",
       "    </tr>\n",
       "    <tr>\n",
       "      <th>2</th>\n",
       "      <td>Non-negative Matrix Factorization</td>\n",
       "      <td>2.245515</td>\n",
       "    </tr>\n",
       "  </tbody>\n",
       "</table>\n",
       "</div>"
      ],
      "text/plain": [
       "                      Algorithm Name  Mean CV RMSE Score\n",
       "1                          Slope One            1.201943\n",
       "4                       KNN Baseline            1.203653\n",
       "0                                SVD            1.213756\n",
       "8                       Basline Only            1.215756\n",
       "7                   KNN with Z-Score            1.238657\n",
       "6                     KNN with Means            1.242536\n",
       "9                      Co-clustering            1.259351\n",
       "5                          KNN Basic            1.336306\n",
       "3                   Normal Predictor            2.144525\n",
       "2  Non-negative Matrix Factorization            2.245515"
      ]
     },
     "execution_count": 72,
     "metadata": {},
     "output_type": "execute_result"
    }
   ],
   "source": [
    "overall_results_df = pd.DataFrame(overall_results, columns = ['Algorithm Name', 'Mean CV RMSE Score'])\n",
    "overall_results_df.sort_values('Mean CV RMSE Score')"
   ]
  },
  {
   "cell_type": "markdown",
   "id": "36d2ecac",
   "metadata": {},
   "source": [
    "**Data Shown:** The RMSE scores shown are the average over 5 cross-validation folds. The better performing models have an error in the range of 1.2+. For a rating system out of 10, this is around 12% error.\n",
    "\n",
    "**Insights:** By default in scikit-surprise, the similarity between users is calculated via their [mean squared difference](https://surprise.readthedocs.io/en/stable/similarities.html?highlight=msd#surprise.similarities.msd)."
   ]
  },
  {
   "cell_type": "markdown",
   "id": "45498e4f",
   "metadata": {},
   "source": [
    "![msd](../images/msd.JPG)"
   ]
  },
  {
   "cell_type": "markdown",
   "id": "6d60a1dc",
   "metadata": {},
   "source": [
    "Notation explanation from [scikit-surprise](https://surprise.readthedocs.io/en/stable/notation_standards.html#notation-standards)\n",
    "- U : the set of all users. u and v denotes users.\n",
    "- I : the set of all items. i and j denotes items.\n",
    "- rui : the true rating of user u for item i."
   ]
  },
  {
   "cell_type": "code",
   "execution_count": 73,
   "id": "c0132fc7",
   "metadata": {},
   "outputs": [
    {
     "name": "stderr",
     "output_type": "stream",
     "text": [
      "\r",
      "  0%|                                                                                            | 0/4 [00:00<?, ?it/s]"
     ]
    },
    {
     "name": "stdout",
     "output_type": "stream",
     "text": [
      "Estimating biases using als...\n",
      "Computing the cosine similarity matrix...\n",
      "Done computing similarity matrix.\n",
      "Estimating biases using als...\n",
      "Computing the cosine similarity matrix...\n",
      "Done computing similarity matrix.\n",
      "Estimating biases using als...\n",
      "Computing the cosine similarity matrix...\n",
      "Done computing similarity matrix.\n",
      "Estimating biases using als...\n",
      "Computing the cosine similarity matrix...\n",
      "Done computing similarity matrix.\n",
      "Estimating biases using als...\n",
      "Computing the cosine similarity matrix...\n",
      "Done computing similarity matrix.\n"
     ]
    },
    {
     "name": "stderr",
     "output_type": "stream",
     "text": [
      "\r",
      " 25%|████████████████████▊                                                              | 1/4 [04:17<12:51, 257.22s/it]"
     ]
    },
    {
     "name": "stdout",
     "output_type": "stream",
     "text": [
      "Computing the cosine similarity matrix...\n",
      "Done computing similarity matrix.\n",
      "Computing the cosine similarity matrix...\n",
      "Done computing similarity matrix.\n",
      "Computing the cosine similarity matrix...\n",
      "Done computing similarity matrix.\n",
      "Computing the cosine similarity matrix...\n",
      "Done computing similarity matrix.\n",
      "Computing the cosine similarity matrix...\n",
      "Done computing similarity matrix.\n"
     ]
    },
    {
     "name": "stderr",
     "output_type": "stream",
     "text": [
      "\r",
      " 50%|█████████████████████████████████████████▌                                         | 2/4 [08:20<08:18, 249.29s/it]"
     ]
    },
    {
     "name": "stdout",
     "output_type": "stream",
     "text": [
      "Computing the cosine similarity matrix...\n",
      "Done computing similarity matrix.\n",
      "Computing the cosine similarity matrix...\n",
      "Done computing similarity matrix.\n",
      "Computing the cosine similarity matrix...\n",
      "Done computing similarity matrix.\n",
      "Computing the cosine similarity matrix...\n",
      "Done computing similarity matrix.\n",
      "Computing the cosine similarity matrix...\n",
      "Done computing similarity matrix.\n"
     ]
    },
    {
     "name": "stderr",
     "output_type": "stream",
     "text": [
      "\r",
      " 75%|██████████████████████████████████████████████████████████████▎                    | 3/4 [12:27<04:07, 247.83s/it]"
     ]
    },
    {
     "name": "stdout",
     "output_type": "stream",
     "text": [
      "Computing the cosine similarity matrix...\n",
      "Done computing similarity matrix.\n",
      "Computing the cosine similarity matrix...\n",
      "Done computing similarity matrix.\n",
      "Computing the cosine similarity matrix...\n",
      "Done computing similarity matrix.\n",
      "Computing the cosine similarity matrix...\n",
      "Done computing similarity matrix.\n",
      "Computing the cosine similarity matrix...\n",
      "Done computing similarity matrix.\n"
     ]
    },
    {
     "name": "stderr",
     "output_type": "stream",
     "text": [
      "100%|███████████████████████████████████████████████████████████████████████████████████| 4/4 [16:40<00:00, 250.04s/it]\n"
     ]
    },
    {
     "data": {
      "text/html": [
       "<div>\n",
       "<style scoped>\n",
       "    .dataframe tbody tr th:only-of-type {\n",
       "        vertical-align: middle;\n",
       "    }\n",
       "\n",
       "    .dataframe tbody tr th {\n",
       "        vertical-align: top;\n",
       "    }\n",
       "\n",
       "    .dataframe thead th {\n",
       "        text-align: right;\n",
       "    }\n",
       "</style>\n",
       "<table border=\"1\" class=\"dataframe\">\n",
       "  <thead>\n",
       "    <tr style=\"text-align: right;\">\n",
       "      <th></th>\n",
       "      <th>Algorithm Name</th>\n",
       "      <th>Mean CV RMSE Score (cosine)</th>\n",
       "    </tr>\n",
       "  </thead>\n",
       "  <tbody>\n",
       "    <tr>\n",
       "      <th>0</th>\n",
       "      <td>KNN Baseline</td>\n",
       "      <td>1.224187</td>\n",
       "    </tr>\n",
       "    <tr>\n",
       "      <th>3</th>\n",
       "      <td>KNN with Z-Score</td>\n",
       "      <td>1.248752</td>\n",
       "    </tr>\n",
       "    <tr>\n",
       "      <th>2</th>\n",
       "      <td>KNN with Means</td>\n",
       "      <td>1.253170</td>\n",
       "    </tr>\n",
       "    <tr>\n",
       "      <th>1</th>\n",
       "      <td>KNN Basic</td>\n",
       "      <td>1.450262</td>\n",
       "    </tr>\n",
       "  </tbody>\n",
       "</table>\n",
       "</div>"
      ],
      "text/plain": [
       "     Algorithm Name  Mean CV RMSE Score (cosine)\n",
       "0      KNN Baseline                     1.224187\n",
       "3  KNN with Z-Score                     1.248752\n",
       "2    KNN with Means                     1.253170\n",
       "1         KNN Basic                     1.450262"
      ]
     },
     "execution_count": 73,
     "metadata": {},
     "output_type": "execute_result"
    }
   ],
   "source": [
    "sim_options = {'name':'cosine'}\n",
    "algos = {'KNN Baseline':KNNBaseline(sim_options = sim_options), 'KNN Basic':KNNBasic(sim_options = sim_options), 'KNN with Means':KNNWithMeans(sim_options = sim_options), 'KNN with Z-Score':KNNWithZScore(sim_options = sim_options)}\n",
    "reader = Reader(rating_scale=(1, 10))\n",
    "data = Dataset.load_from_df(reading_no_zero_df[['user', 'item', 'rating']], reader)\n",
    "\n",
    "overall_results_cosine = []\n",
    "for algo_name, algo in tqdm(algos.items()): \n",
    "    algo_results = []\n",
    "    results = cross_validate(algo, data, measures=['RMSE'], cv=5, verbose=False)\n",
    "    algo_results.append(algo_name)\n",
    "    algo_results.append(results['test_rmse'].mean())\n",
    "    overall_results_cosine.append(algo_results)\n",
    "    \n",
    "overall_results_cosine_df = pd.DataFrame(overall_results_cosine, columns = ['Algorithm Name', 'Mean CV RMSE Score (cosine)'])\n",
    "overall_results_cosine_df.sort_values('Mean CV RMSE Score (cosine)')"
   ]
  },
  {
   "cell_type": "markdown",
   "id": "5f2be45a",
   "metadata": {},
   "source": [
    "**Data Shown:** Try out [cosine similarity](https://surprise.readthedocs.io/en/stable/similarities.html?highlight=msd#surprise.similarities.cosine) instead.\n",
    "\n",
    "![cosine](../images/cosine.JPG)"
   ]
  },
  {
   "cell_type": "code",
   "execution_count": 74,
   "id": "e85c042d",
   "metadata": {},
   "outputs": [
    {
     "data": {
      "text/html": [
       "<div>\n",
       "<style scoped>\n",
       "    .dataframe tbody tr th:only-of-type {\n",
       "        vertical-align: middle;\n",
       "    }\n",
       "\n",
       "    .dataframe tbody tr th {\n",
       "        vertical-align: top;\n",
       "    }\n",
       "\n",
       "    .dataframe thead th {\n",
       "        text-align: right;\n",
       "    }\n",
       "</style>\n",
       "<table border=\"1\" class=\"dataframe\">\n",
       "  <thead>\n",
       "    <tr style=\"text-align: right;\">\n",
       "      <th></th>\n",
       "      <th>Algorithm Name</th>\n",
       "      <th>Mean CV RMSE Score (cosine)</th>\n",
       "      <th>Mean CV RMSE Score</th>\n",
       "    </tr>\n",
       "  </thead>\n",
       "  <tbody>\n",
       "    <tr>\n",
       "      <th>1</th>\n",
       "      <td>Slope One</td>\n",
       "      <td>NaN</td>\n",
       "      <td>1.201943</td>\n",
       "    </tr>\n",
       "    <tr>\n",
       "      <th>4</th>\n",
       "      <td>KNN Baseline</td>\n",
       "      <td>1.224187</td>\n",
       "      <td>1.203653</td>\n",
       "    </tr>\n",
       "    <tr>\n",
       "      <th>0</th>\n",
       "      <td>SVD</td>\n",
       "      <td>NaN</td>\n",
       "      <td>1.213756</td>\n",
       "    </tr>\n",
       "    <tr>\n",
       "      <th>8</th>\n",
       "      <td>Basline Only</td>\n",
       "      <td>NaN</td>\n",
       "      <td>1.215756</td>\n",
       "    </tr>\n",
       "    <tr>\n",
       "      <th>7</th>\n",
       "      <td>KNN with Z-Score</td>\n",
       "      <td>1.248752</td>\n",
       "      <td>1.238657</td>\n",
       "    </tr>\n",
       "    <tr>\n",
       "      <th>6</th>\n",
       "      <td>KNN with Means</td>\n",
       "      <td>1.253170</td>\n",
       "      <td>1.242536</td>\n",
       "    </tr>\n",
       "    <tr>\n",
       "      <th>9</th>\n",
       "      <td>Co-clustering</td>\n",
       "      <td>NaN</td>\n",
       "      <td>1.259351</td>\n",
       "    </tr>\n",
       "    <tr>\n",
       "      <th>5</th>\n",
       "      <td>KNN Basic</td>\n",
       "      <td>1.450262</td>\n",
       "      <td>1.336306</td>\n",
       "    </tr>\n",
       "    <tr>\n",
       "      <th>3</th>\n",
       "      <td>Normal Predictor</td>\n",
       "      <td>NaN</td>\n",
       "      <td>2.144525</td>\n",
       "    </tr>\n",
       "    <tr>\n",
       "      <th>2</th>\n",
       "      <td>Non-negative Matrix Factorization</td>\n",
       "      <td>NaN</td>\n",
       "      <td>2.245515</td>\n",
       "    </tr>\n",
       "  </tbody>\n",
       "</table>\n",
       "</div>"
      ],
      "text/plain": [
       "                      Algorithm Name  Mean CV RMSE Score (cosine)  \\\n",
       "1                          Slope One                          NaN   \n",
       "4                       KNN Baseline                     1.224187   \n",
       "0                                SVD                          NaN   \n",
       "8                       Basline Only                          NaN   \n",
       "7                   KNN with Z-Score                     1.248752   \n",
       "6                     KNN with Means                     1.253170   \n",
       "9                      Co-clustering                          NaN   \n",
       "5                          KNN Basic                     1.450262   \n",
       "3                   Normal Predictor                          NaN   \n",
       "2  Non-negative Matrix Factorization                          NaN   \n",
       "\n",
       "   Mean CV RMSE Score  \n",
       "1            1.201943  \n",
       "4            1.203653  \n",
       "0            1.213756  \n",
       "8            1.215756  \n",
       "7            1.238657  \n",
       "6            1.242536  \n",
       "9            1.259351  \n",
       "5            1.336306  \n",
       "3            2.144525  \n",
       "2            2.245515  "
      ]
     },
     "execution_count": 74,
     "metadata": {},
     "output_type": "execute_result"
    }
   ],
   "source": [
    "combined_results_df = pd.merge(left = overall_results_cosine_df, right = overall_results_df, how = 'right', on = 'Algorithm Name')\n",
    "combined_results_df.sort_values('Mean CV RMSE Score')"
   ]
  },
  {
   "cell_type": "markdown",
   "id": "030e3b72",
   "metadata": {},
   "source": [
    "**Data Shown:** All average RMSE score for 5 CV folds.\n",
    "\n",
    "**Insights:** Cosine similarity version performed worse than the default msd similarity."
   ]
  },
  {
   "cell_type": "markdown",
   "id": "8fb53719",
   "metadata": {},
   "source": [
    "----\n",
    "### Precision@k and Recall@k\n",
    "\n",
    "Rather than using RMSE to gauge the accuracy of a model, Precision@k and Recall@k are more commonly used to measure the performance of a recommender system.\n",
    "\n",
    "![cosine](../images/precision_recall.png)\n",
    "\n",
    "k in this case refers to the number of recommendations. Relevance is defined as recommendations with a score equal to or higher than a defined threshold.   \n",
    "For example, Precision@10 with threshold 7 refers to the number of recommendations that the user rated >= 7, divided by the 10 recommendations that the model makes.\n",
    "\n",
    "These metrics prioritize the quality of the top k recommendations over the average quality of all recommendations like RMSE. This makes sense practically as well as the user will only care about the top k recommendations being shown, rather than every single item's rating.  \n",
    "\n",
    "### Measurement metrics for this project\n",
    "For this project, I am opting for top 10 recommendations, i.e. k = 10 and a threshold rating of 7/10."
   ]
  },
  {
   "cell_type": "markdown",
   "id": "3538ef74",
   "metadata": {},
   "source": [
    "### Baseline Model\n",
    "\n",
    "For the baseline model, it will randomly pick 10 manga titles to recommend to each user. The precision@k and recall@k scores are then calculated using these 10 random recommendations."
   ]
  },
  {
   "cell_type": "code",
   "execution_count": 36,
   "id": "65ed5b2a",
   "metadata": {},
   "outputs": [
    {
     "name": "stderr",
     "output_type": "stream",
     "text": [
      "100%|████████████████████████████████████████████████████████████████████████████| 14138/14138 [06:02<00:00, 38.96it/s]"
     ]
    },
    {
     "name": "stdout",
     "output_type": "stream",
     "text": [
      "Average precision@k over 1,000 experiments is 0.007794596123921236\n",
      "Average recall@k over 1,000 experiments is 0.00338124770300819\n"
     ]
    },
    {
     "name": "stderr",
     "output_type": "stream",
     "text": [
      "\n"
     ]
    }
   ],
   "source": [
    "list_of_titles = reading_no_zero_df['item'].unique().tolist()\n",
    "list_of_users = reading_no_zero_df['user'].unique().tolist()\n",
    "k = 10\n",
    "\n",
    "# Precision@k calculation using random 1000 experiments\n",
    "precision = []\n",
    "recall = []\n",
    "\n",
    "for i in tqdm(range(reading_no_zero_df['user'].nunique())):\n",
    "    random_user = choice(list_of_users)\n",
    "    random_user_titles = reading_no_zero_df[(reading_no_zero_df['user']==random_user) & (reading_no_zero_df['rating']>=7)]['item'].unique().tolist()\n",
    "    total_relevant_titles = reading_no_zero_df[(reading_no_zero_df['user']==random_user) & (reading_no_zero_df['rating']>=7)]['item'].nunique()\n",
    "    \n",
    "    # Since all titles can be selected, we select a random k titles\n",
    "    random_10_titles = sample(list_of_titles, k)    \n",
    "    num_correct_titles = []\n",
    "    for title in random_10_titles:\n",
    "        if title in random_user_titles:\n",
    "            num_correct_titles.append(title)\n",
    "\n",
    "    if total_relevant_titles == 0:\n",
    "        recall.append(0)\n",
    "    else:\n",
    "        recall.append(len(num_correct_titles)/total_relevant_titles)\n",
    "    \n",
    "    precision.append(len(num_correct_titles)/10)\n",
    "    \n",
    "    list_of_users.remove(random_user)\n",
    "\n",
    "precision_at_k = sum(precision)/len(precision)\n",
    "recall_at_k = sum(recall)/len(recall)\n",
    "\n",
    "print(f'Average precision@k over 1,000 experiments is {precision_at_k}')\n",
    "print(f'Average recall@k over 1,000 experiments is {recall_at_k}')"
   ]
  },
  {
   "cell_type": "code",
   "execution_count": 39,
   "id": "0c8bf3b8",
   "metadata": {},
   "outputs": [
    {
     "data": {
      "text/html": [
       "<div>\n",
       "<style scoped>\n",
       "    .dataframe tbody tr th:only-of-type {\n",
       "        vertical-align: middle;\n",
       "    }\n",
       "\n",
       "    .dataframe tbody tr th {\n",
       "        vertical-align: top;\n",
       "    }\n",
       "\n",
       "    .dataframe thead th {\n",
       "        text-align: right;\n",
       "    }\n",
       "</style>\n",
       "<table border=\"1\" class=\"dataframe\">\n",
       "  <thead>\n",
       "    <tr style=\"text-align: right;\">\n",
       "      <th></th>\n",
       "      <th>Algorithm Name</th>\n",
       "      <th>Precision@k</th>\n",
       "      <th>Recall@k</th>\n",
       "    </tr>\n",
       "  </thead>\n",
       "  <tbody>\n",
       "    <tr>\n",
       "      <th>0</th>\n",
       "      <td>Baseline (Random Recommendations)</td>\n",
       "      <td>0.007795</td>\n",
       "      <td>0.003381</td>\n",
       "    </tr>\n",
       "  </tbody>\n",
       "</table>\n",
       "</div>"
      ],
      "text/plain": [
       "                      Algorithm Name  Precision@k  Recall@k\n",
       "0  Baseline (Random Recommendations)     0.007795  0.003381"
      ]
     },
     "execution_count": 39,
     "metadata": {},
     "output_type": "execute_result"
    }
   ],
   "source": [
    "baseline_results = pd.DataFrame(columns = ['Algorithm Name', 'Precision@k', 'Recall@k'])\n",
    "baseline_results.loc[0] = ['Baseline (Random Recommendations)',precision_at_k, recall_at_k]\n",
    "baseline_results"
   ]
  },
  {
   "cell_type": "code",
   "execution_count": 21,
   "id": "6eba376b",
   "metadata": {},
   "outputs": [],
   "source": [
    "# from surprise FAQ https://surprise.readthedocs.io/en/stable/FAQ.html\n",
    "def precision_recall_at_k(predictions, k=10, threshold=3.5):\n",
    "    \"\"\"Return precision and recall at k metrics for each user\"\"\"\n",
    "\n",
    "    # First map the predictions to each user.\n",
    "    user_est_true = defaultdict(list)\n",
    "    for uid, _, true_r, est, _ in predictions:\n",
    "        user_est_true[uid].append((est, true_r))\n",
    "\n",
    "    precisions = dict()\n",
    "    recalls = dict()\n",
    "    for uid, user_ratings in user_est_true.items():\n",
    "\n",
    "        # Sort user ratings by estimated value\n",
    "        user_ratings.sort(key=lambda x: x[0], reverse=True)\n",
    "\n",
    "        # Number of relevant items\n",
    "        n_rel = sum((true_r >= threshold) for (_, true_r) in user_ratings)\n",
    "\n",
    "        # Number of recommended items in top k\n",
    "        n_rec_k = sum((est >= threshold) for (est, _) in user_ratings[:k])\n",
    "\n",
    "        # Number of relevant and recommended items in top k\n",
    "        n_rel_and_rec_k = sum(((true_r >= threshold) and (est >= threshold))\n",
    "                              for (est, true_r) in user_ratings[:k])\n",
    "\n",
    "        # Precision@K: Proportion of recommended items that are relevant\n",
    "        # When n_rec_k is 0, Precision is undefined. We here set it to 0.\n",
    "\n",
    "        precisions[uid] = n_rel_and_rec_k / n_rec_k if n_rec_k != 0 else 0\n",
    "\n",
    "        # Recall@K: Proportion of relevant items that are recommended\n",
    "        # When n_rel is 0, Recall is undefined. We here set it to 0.\n",
    "\n",
    "        recalls[uid] = n_rel_and_rec_k / n_rel if n_rel != 0 else 0\n",
    "\n",
    "    return precisions, recalls"
   ]
  },
  {
   "cell_type": "code",
   "execution_count": 82,
   "id": "50f5f6c6",
   "metadata": {},
   "outputs": [
    {
     "name": "stderr",
     "output_type": "stream",
     "text": [
      "<ipython-input-82-67d433ec0ae0>:5: DeprecationWarning: `np.int` is a deprecated alias for the builtin `int`. To silence this warning, use `int` by itself. Doing this will not modify any behavior and is safe. When replacing `np.int`, you may wish to use e.g. `np.int64` or `np.int32` to specify the precision. If you wish to review your current use, check the release note link for additional information.\n",
      "Deprecated in NumPy 1.20; for more details and guidance: https://numpy.org/devdocs/release/1.20.0-notes.html#deprecations\n",
      "  algo.fit(trainset)\n"
     ]
    },
    {
     "name": "stdout",
     "output_type": "stream",
     "text": [
      "Precision Scores are: [0.8980473943124514, 0.89832656888971, 0.8968780208383775, 0.8986979235931962, 0.8984706136680022]\n",
      "Average Precision Score is: 0.8980841042603475\n",
      "Recall Scores are: [0.8142019043070349, 0.8164423999987825, 0.8140727508183734, 0.8162317487504723, 0.8154849222986732]\n",
      "Average Recall Score is: 0.8152867452346673\n"
     ]
    }
   ],
   "source": [
    "#testing out the calculation of mean precision@k and recall@k scores\n",
    "kf = KFold(n_splits=5)\n",
    "precision_list = []\n",
    "recall_list = []\n",
    "for trainset, testset in kf.split(data):\n",
    "    algo.fit(trainset)\n",
    "    predictions = algo.test(testset)\n",
    "    precisions, recalls = precision_recall_at_k(predictions, k=10, threshold=7)\n",
    "    precision_list.append(sum(prec for prec in precisions.values()) / len(precisions))\n",
    "    recall_list.append(sum(rec for rec in recalls.values()) / len(recalls))\n",
    "    # Precision and recall can then be averaged over all users\n",
    "print(f'Precision Scores are: {precision_list}')\n",
    "print(f'Average Precision Score is: {sum(precision_list)/len(precision_list)}')\n",
    "print(f'Recall Scores are: {recall_list}')\n",
    "print(f'Average Recall Score is: {sum(recall_list)/len(recall_list)}')"
   ]
  },
  {
   "cell_type": "code",
   "execution_count": 23,
   "id": "d18183c7",
   "metadata": {},
   "outputs": [],
   "source": [
    "reader = Reader(rating_scale=(1, 10))\n",
    "data = Dataset.load_from_df(reading_no_zero_df[['user', 'item', 'rating']], reader)"
   ]
  },
  {
   "cell_type": "code",
   "execution_count": 91,
   "id": "d93c9030",
   "metadata": {},
   "outputs": [
    {
     "name": "stderr",
     "output_type": "stream",
     "text": [
      " 10%|████████▎                                                                          | 1/10 [01:02<09:19, 62.14s/it]<ipython-input-91-7abf4afd8948>:10: DeprecationWarning: `np.int` is a deprecated alias for the builtin `int`. To silence this warning, use `int` by itself. Doing this will not modify any behavior and is safe. When replacing `np.int`, you may wish to use e.g. `np.int64` or `np.int32` to specify the precision. If you wish to review your current use, check the release note link for additional information.\n",
      "Deprecated in NumPy 1.20; for more details and guidance: https://numpy.org/devdocs/release/1.20.0-notes.html#deprecations\n",
      "  algo.fit(trainset)\n",
      " 40%|█████████████████████████████████▏                                                 | 4/10 [02:46<03:36, 36.02s/it]"
     ]
    },
    {
     "name": "stdout",
     "output_type": "stream",
     "text": [
      "Estimating biases using als...\n",
      "Computing the msd similarity matrix...\n",
      "Done computing similarity matrix.\n",
      "Estimating biases using als...\n",
      "Computing the msd similarity matrix...\n",
      "Done computing similarity matrix.\n",
      "Estimating biases using als...\n",
      "Computing the msd similarity matrix...\n",
      "Done computing similarity matrix.\n",
      "Estimating biases using als...\n",
      "Computing the msd similarity matrix...\n",
      "Done computing similarity matrix.\n",
      "Estimating biases using als...\n",
      "Computing the msd similarity matrix...\n",
      "Done computing similarity matrix.\n"
     ]
    },
    {
     "name": "stderr",
     "output_type": "stream",
     "text": [
      "\r",
      " 50%|█████████████████████████████████████████▌                                         | 5/10 [05:22<06:35, 79.19s/it]"
     ]
    },
    {
     "name": "stdout",
     "output_type": "stream",
     "text": [
      "Computing the msd similarity matrix...\n",
      "Done computing similarity matrix.\n",
      "Computing the msd similarity matrix...\n",
      "Done computing similarity matrix.\n",
      "Computing the msd similarity matrix...\n",
      "Done computing similarity matrix.\n",
      "Computing the msd similarity matrix...\n",
      "Done computing similarity matrix.\n",
      "Computing the msd similarity matrix...\n",
      "Done computing similarity matrix.\n"
     ]
    },
    {
     "name": "stderr",
     "output_type": "stream",
     "text": [
      "\r",
      " 60%|█████████████████████████████████████████████████▏                                | 6/10 [07:47<06:46, 101.69s/it]"
     ]
    },
    {
     "name": "stdout",
     "output_type": "stream",
     "text": [
      "Computing the msd similarity matrix...\n",
      "Done computing similarity matrix.\n",
      "Computing the msd similarity matrix...\n",
      "Done computing similarity matrix.\n",
      "Computing the msd similarity matrix...\n",
      "Done computing similarity matrix.\n",
      "Computing the msd similarity matrix...\n",
      "Done computing similarity matrix.\n",
      "Computing the msd similarity matrix...\n",
      "Done computing similarity matrix.\n"
     ]
    },
    {
     "name": "stderr",
     "output_type": "stream",
     "text": [
      "\r",
      " 70%|█████████████████████████████████████████████████████████▍                        | 7/10 [10:19<05:53, 117.96s/it]"
     ]
    },
    {
     "name": "stdout",
     "output_type": "stream",
     "text": [
      "Computing the msd similarity matrix...\n",
      "Done computing similarity matrix.\n",
      "Computing the msd similarity matrix...\n",
      "Done computing similarity matrix.\n",
      "Computing the msd similarity matrix...\n",
      "Done computing similarity matrix.\n",
      "Computing the msd similarity matrix...\n",
      "Done computing similarity matrix.\n",
      "Computing the msd similarity matrix...\n",
      "Done computing similarity matrix.\n"
     ]
    },
    {
     "name": "stderr",
     "output_type": "stream",
     "text": [
      "\r",
      " 80%|█████████████████████████████████████████████████████████████████▌                | 8/10 [12:52<04:18, 129.22s/it]"
     ]
    },
    {
     "name": "stdout",
     "output_type": "stream",
     "text": [
      "Estimating biases using als...\n",
      "Estimating biases using als...\n",
      "Estimating biases using als...\n",
      "Estimating biases using als...\n",
      "Estimating biases using als...\n"
     ]
    },
    {
     "name": "stderr",
     "output_type": "stream",
     "text": [
      "100%|██████████████████████████████████████████████████████████████████████████████████| 10/10 [13:39<00:00, 81.92s/it]\n"
     ]
    },
    {
     "data": {
      "text/html": [
       "<div>\n",
       "<style scoped>\n",
       "    .dataframe tbody tr th:only-of-type {\n",
       "        vertical-align: middle;\n",
       "    }\n",
       "\n",
       "    .dataframe tbody tr th {\n",
       "        vertical-align: top;\n",
       "    }\n",
       "\n",
       "    .dataframe thead th {\n",
       "        text-align: right;\n",
       "    }\n",
       "</style>\n",
       "<table border=\"1\" class=\"dataframe\">\n",
       "  <thead>\n",
       "    <tr style=\"text-align: right;\">\n",
       "      <th></th>\n",
       "      <th>Algorithm Name</th>\n",
       "      <th>Average Precision@k Score</th>\n",
       "      <th>Average Recall@k Score</th>\n",
       "    </tr>\n",
       "  </thead>\n",
       "  <tbody>\n",
       "    <tr>\n",
       "      <th>8</th>\n",
       "      <td>Basline Only</td>\n",
       "      <td>0.909319</td>\n",
       "      <td>0.862302</td>\n",
       "    </tr>\n",
       "    <tr>\n",
       "      <th>0</th>\n",
       "      <td>SVD</td>\n",
       "      <td>0.909265</td>\n",
       "      <td>0.846149</td>\n",
       "    </tr>\n",
       "    <tr>\n",
       "      <th>4</th>\n",
       "      <td>KNN Baseline</td>\n",
       "      <td>0.908539</td>\n",
       "      <td>0.850089</td>\n",
       "    </tr>\n",
       "    <tr>\n",
       "      <th>5</th>\n",
       "      <td>KNN Basic</td>\n",
       "      <td>0.901041</td>\n",
       "      <td>0.854036</td>\n",
       "    </tr>\n",
       "    <tr>\n",
       "      <th>1</th>\n",
       "      <td>Slope One</td>\n",
       "      <td>0.898290</td>\n",
       "      <td>0.815146</td>\n",
       "    </tr>\n",
       "    <tr>\n",
       "      <th>7</th>\n",
       "      <td>KNN with Z-Score</td>\n",
       "      <td>0.896743</td>\n",
       "      <td>0.826443</td>\n",
       "    </tr>\n",
       "    <tr>\n",
       "      <th>6</th>\n",
       "      <td>KNN with Means</td>\n",
       "      <td>0.892933</td>\n",
       "      <td>0.823171</td>\n",
       "    </tr>\n",
       "    <tr>\n",
       "      <th>9</th>\n",
       "      <td>Co-clustering</td>\n",
       "      <td>0.892634</td>\n",
       "      <td>0.820007</td>\n",
       "    </tr>\n",
       "    <tr>\n",
       "      <th>3</th>\n",
       "      <td>Normal Predictor</td>\n",
       "      <td>0.803468</td>\n",
       "      <td>0.648952</td>\n",
       "    </tr>\n",
       "    <tr>\n",
       "      <th>2</th>\n",
       "      <td>Non-negative Matrix Factorization</td>\n",
       "      <td>0.406589</td>\n",
       "      <td>0.206171</td>\n",
       "    </tr>\n",
       "  </tbody>\n",
       "</table>\n",
       "</div>"
      ],
      "text/plain": [
       "                      Algorithm Name  Average Precision@k Score  \\\n",
       "8                       Basline Only                   0.909319   \n",
       "0                                SVD                   0.909265   \n",
       "4                       KNN Baseline                   0.908539   \n",
       "5                          KNN Basic                   0.901041   \n",
       "1                          Slope One                   0.898290   \n",
       "7                   KNN with Z-Score                   0.896743   \n",
       "6                     KNN with Means                   0.892933   \n",
       "9                      Co-clustering                   0.892634   \n",
       "3                   Normal Predictor                   0.803468   \n",
       "2  Non-negative Matrix Factorization                   0.406589   \n",
       "\n",
       "   Average Recall@k Score  \n",
       "8                0.862302  \n",
       "0                0.846149  \n",
       "4                0.850089  \n",
       "5                0.854036  \n",
       "1                0.815146  \n",
       "7                0.826443  \n",
       "6                0.823171  \n",
       "9                0.820007  \n",
       "3                0.648952  \n",
       "2                0.206171  "
      ]
     },
     "execution_count": 91,
     "metadata": {},
     "output_type": "execute_result"
    }
   ],
   "source": [
    "algos = {'SVD':SVD(), 'Slope One':SlopeOne(), 'Non-negative Matrix Factorization':NMF(), 'Normal Predictor':NormalPredictor(), 'KNN Baseline':KNNBaseline(), 'KNN Basic':KNNBasic(), 'KNN with Means':KNNWithMeans(), 'KNN with Z-Score':KNNWithZScore(), 'Basline Only':BaselineOnly(), 'Co-clustering':CoClustering()}\n",
    "kf = KFold(n_splits=5, random_state = 42)\n",
    "all_precision_recall = []\n",
    "for algo_name, algo in tqdm(algos.items()):\n",
    "    algo_precision_recall_list = []\n",
    "    precision_list = []\n",
    "    recall_list = []\n",
    "    \n",
    "    for trainset, testset in kf.split(data):\n",
    "        algo.fit(trainset)\n",
    "        predictions = algo.test(testset)\n",
    "        precisions, recalls = precision_recall_at_k(predictions, k=10, threshold=7)\n",
    "        precision_list.append(sum(prec for prec in precisions.values()) / len(precisions))\n",
    "        recall_list.append(sum(rec for rec in recalls.values()) / len(recalls))\n",
    "    \n",
    "    precision_average = sum(precision_list)/len(precision_list)\n",
    "    recall_average = sum(recall_list)/len(recall_list)\n",
    "    algo_precision_recall_list.append(algo_name)\n",
    "    algo_precision_recall_list.append(precision_average)\n",
    "    algo_precision_recall_list.append(recall_average)\n",
    "    all_precision_recall.append(algo_precision_recall_list)\n",
    "\n",
    "all_precision_recall_df = pd.DataFrame(all_precision_recall, columns = ['Algorithm Name', 'Average Precision@k Score', 'Average Recall@k Score'])\n",
    "all_precision_recall_df.sort_values('Average Precision@k Score', ascending = False)"
   ]
  },
  {
   "cell_type": "code",
   "execution_count": 19,
   "id": "6b75e594",
   "metadata": {},
   "outputs": [],
   "source": [
    "#defining a function to calculate precision@k and recall@k\n",
    "reader = Reader(rating_scale=(1, 10))\n",
    "data = Dataset.load_from_df(reading_no_zero_df[['user', 'item', 'rating']], reader)\n",
    "sim_options = {'name':'cosine'}\n",
    "def calculate_precision_recall(k, threshold, splits):\n",
    "    algos = {'SVD':SVD(), 'Slope One':SlopeOne(), 'Non-negative Matrix Factorization':NMF(), 'Normal Predictor':NormalPredictor(), 'KNN Baseline':KNNBaseline(), 'KNN Basic':KNNBasic(), 'KNN with Means':KNNWithMeans(), 'KNN with Z-Score':KNNWithZScore(), 'Basline Only':BaselineOnly(), 'Co-clustering':CoClustering(), 'KNN Baseline_Cosine':KNNBaseline(sim_options = sim_options), 'KNN Basic_Cosine':KNNBasic(sim_options = sim_options), 'KNN with Means_Cosine':KNNWithMeans(sim_options = sim_options), 'KNN with Z-Score_Cosine':KNNWithZScore(sim_options = sim_options)}\n",
    "    kf = KFold(n_splits=splits, random_state = 42)\n",
    "    all_precision_recall = []\n",
    "    for algo_name, algo in tqdm(algos.items()):\n",
    "        algo_precision_recall_list = []\n",
    "        precision_list = []\n",
    "        recall_list = []\n",
    "\n",
    "        for trainset, testset in kf.split(data):\n",
    "            algo.fit(trainset)\n",
    "            predictions = algo.test(testset)\n",
    "            precisions, recalls = precision_recall_at_k(predictions, k, threshold)\n",
    "            precision_list.append(sum(prec for prec in precisions.values()) / len(precisions))\n",
    "            recall_list.append(sum(rec for rec in recalls.values()) / len(recalls))\n",
    "\n",
    "        precision_average = sum(precision_list)/len(precision_list)\n",
    "        recall_average = sum(recall_list)/len(recall_list)\n",
    "        algo_precision_recall_list.append(algo_name)\n",
    "        algo_precision_recall_list.append(precision_average)\n",
    "        algo_precision_recall_list.append(recall_average)\n",
    "        all_precision_recall.append(algo_precision_recall_list)\n",
    "\n",
    "    all_precision_recall_df = pd.DataFrame(all_precision_recall, columns = ['Algorithm Name', 'Average Precision@k Score', 'Average Recall@k Score'])\n",
    "    return all_precision_recall_df.sort_values('Average Recall@k Score', ascending = False)\n",
    "\n"
   ]
  },
  {
   "cell_type": "code",
   "execution_count": 93,
   "id": "f11432ba",
   "metadata": {},
   "outputs": [
    {
     "name": "stderr",
     "output_type": "stream",
     "text": [
      "  7%|█████▉                                                                             | 1/14 [01:00<13:09, 60.76s/it]<ipython-input-92-98dc9d4b62ba>:12: DeprecationWarning: `np.int` is a deprecated alias for the builtin `int`. To silence this warning, use `int` by itself. Doing this will not modify any behavior and is safe. When replacing `np.int`, you may wish to use e.g. `np.int64` or `np.int32` to specify the precision. If you wish to review your current use, check the release note link for additional information.\n",
      "Deprecated in NumPy 1.20; for more details and guidance: https://numpy.org/devdocs/release/1.20.0-notes.html#deprecations\n",
      "  algo.fit(trainset)\n",
      " 29%|███████████████████████▋                                                           | 4/14 [02:45<06:00, 36.01s/it]"
     ]
    },
    {
     "name": "stdout",
     "output_type": "stream",
     "text": [
      "Estimating biases using als...\n",
      "Computing the msd similarity matrix...\n",
      "Done computing similarity matrix.\n",
      "Estimating biases using als...\n",
      "Computing the msd similarity matrix...\n",
      "Done computing similarity matrix.\n",
      "Estimating biases using als...\n",
      "Computing the msd similarity matrix...\n",
      "Done computing similarity matrix.\n",
      "Estimating biases using als...\n",
      "Computing the msd similarity matrix...\n",
      "Done computing similarity matrix.\n",
      "Estimating biases using als...\n",
      "Computing the msd similarity matrix...\n",
      "Done computing similarity matrix.\n"
     ]
    },
    {
     "name": "stderr",
     "output_type": "stream",
     "text": [
      "\r",
      " 36%|█████████████████████████████▋                                                     | 5/14 [05:19<11:46, 78.48s/it]"
     ]
    },
    {
     "name": "stdout",
     "output_type": "stream",
     "text": [
      "Computing the msd similarity matrix...\n",
      "Done computing similarity matrix.\n",
      "Computing the msd similarity matrix...\n",
      "Done computing similarity matrix.\n",
      "Computing the msd similarity matrix...\n",
      "Done computing similarity matrix.\n",
      "Computing the msd similarity matrix...\n",
      "Done computing similarity matrix.\n",
      "Computing the msd similarity matrix...\n",
      "Done computing similarity matrix.\n"
     ]
    },
    {
     "name": "stderr",
     "output_type": "stream",
     "text": [
      "\r",
      " 43%|███████████████████████████████████▏                                              | 6/14 [07:42<13:23, 100.40s/it]"
     ]
    },
    {
     "name": "stdout",
     "output_type": "stream",
     "text": [
      "Computing the msd similarity matrix...\n",
      "Done computing similarity matrix.\n",
      "Computing the msd similarity matrix...\n",
      "Done computing similarity matrix.\n",
      "Computing the msd similarity matrix...\n",
      "Done computing similarity matrix.\n",
      "Computing the msd similarity matrix...\n",
      "Done computing similarity matrix.\n",
      "Computing the msd similarity matrix...\n",
      "Done computing similarity matrix.\n"
     ]
    },
    {
     "name": "stderr",
     "output_type": "stream",
     "text": [
      "\r",
      " 50%|█████████████████████████████████████████                                         | 7/14 [10:06<13:22, 114.60s/it]"
     ]
    },
    {
     "name": "stdout",
     "output_type": "stream",
     "text": [
      "Computing the msd similarity matrix...\n",
      "Done computing similarity matrix.\n",
      "Computing the msd similarity matrix...\n",
      "Done computing similarity matrix.\n",
      "Computing the msd similarity matrix...\n",
      "Done computing similarity matrix.\n",
      "Computing the msd similarity matrix...\n",
      "Done computing similarity matrix.\n",
      "Computing the msd similarity matrix...\n",
      "Done computing similarity matrix.\n"
     ]
    },
    {
     "name": "stderr",
     "output_type": "stream",
     "text": [
      "\r",
      " 57%|██████████████████████████████████████████████▊                                   | 8/14 [12:33<12:29, 124.88s/it]"
     ]
    },
    {
     "name": "stdout",
     "output_type": "stream",
     "text": [
      "Estimating biases using als...\n",
      "Estimating biases using als...\n",
      "Estimating biases using als...\n",
      "Estimating biases using als...\n",
      "Estimating biases using als...\n"
     ]
    },
    {
     "name": "stderr",
     "output_type": "stream",
     "text": [
      " 71%|██████████████████████████████████████████████████████████▌                       | 10/14 [13:16<04:47, 71.91s/it]"
     ]
    },
    {
     "name": "stdout",
     "output_type": "stream",
     "text": [
      "Estimating biases using als...\n",
      "Computing the cosine similarity matrix...\n",
      "Done computing similarity matrix.\n",
      "Estimating biases using als...\n",
      "Computing the cosine similarity matrix...\n",
      "Done computing similarity matrix.\n",
      "Estimating biases using als...\n",
      "Computing the cosine similarity matrix...\n",
      "Done computing similarity matrix.\n",
      "Estimating biases using als...\n",
      "Computing the cosine similarity matrix...\n",
      "Done computing similarity matrix.\n",
      "Estimating biases using als...\n",
      "Computing the cosine similarity matrix...\n",
      "Done computing similarity matrix.\n"
     ]
    },
    {
     "name": "stderr",
     "output_type": "stream",
     "text": [
      "\r",
      " 79%|███████████████████████████████████████████████████████████████▋                 | 11/14 [17:35<06:27, 129.28s/it]"
     ]
    },
    {
     "name": "stdout",
     "output_type": "stream",
     "text": [
      "Computing the cosine similarity matrix...\n",
      "Done computing similarity matrix.\n",
      "Computing the cosine similarity matrix...\n",
      "Done computing similarity matrix.\n",
      "Computing the cosine similarity matrix...\n",
      "Done computing similarity matrix.\n",
      "Computing the cosine similarity matrix...\n",
      "Done computing similarity matrix.\n",
      "Computing the cosine similarity matrix...\n",
      "Done computing similarity matrix.\n"
     ]
    },
    {
     "name": "stderr",
     "output_type": "stream",
     "text": [
      "\r",
      " 86%|█████████████████████████████████████████████████████████████████████▍           | 12/14 [21:42<05:29, 165.00s/it]"
     ]
    },
    {
     "name": "stdout",
     "output_type": "stream",
     "text": [
      "Computing the cosine similarity matrix...\n",
      "Done computing similarity matrix.\n",
      "Computing the cosine similarity matrix...\n",
      "Done computing similarity matrix.\n",
      "Computing the cosine similarity matrix...\n",
      "Done computing similarity matrix.\n",
      "Computing the cosine similarity matrix...\n",
      "Done computing similarity matrix.\n",
      "Computing the cosine similarity matrix...\n",
      "Done computing similarity matrix.\n"
     ]
    },
    {
     "name": "stderr",
     "output_type": "stream",
     "text": [
      "\r",
      " 93%|███████████████████████████████████████████████████████████████████████████▏     | 13/14 [25:53<03:10, 190.96s/it]"
     ]
    },
    {
     "name": "stdout",
     "output_type": "stream",
     "text": [
      "Computing the cosine similarity matrix...\n",
      "Done computing similarity matrix.\n",
      "Computing the cosine similarity matrix...\n",
      "Done computing similarity matrix.\n",
      "Computing the cosine similarity matrix...\n",
      "Done computing similarity matrix.\n",
      "Computing the cosine similarity matrix...\n",
      "Done computing similarity matrix.\n",
      "Computing the cosine similarity matrix...\n",
      "Done computing similarity matrix.\n"
     ]
    },
    {
     "name": "stderr",
     "output_type": "stream",
     "text": [
      "100%|█████████████████████████████████████████████████████████████████████████████████| 14/14 [30:13<00:00, 129.53s/it]\n"
     ]
    },
    {
     "data": {
      "text/html": [
       "<div>\n",
       "<style scoped>\n",
       "    .dataframe tbody tr th:only-of-type {\n",
       "        vertical-align: middle;\n",
       "    }\n",
       "\n",
       "    .dataframe tbody tr th {\n",
       "        vertical-align: top;\n",
       "    }\n",
       "\n",
       "    .dataframe thead th {\n",
       "        text-align: right;\n",
       "    }\n",
       "</style>\n",
       "<table border=\"1\" class=\"dataframe\">\n",
       "  <thead>\n",
       "    <tr style=\"text-align: right;\">\n",
       "      <th></th>\n",
       "      <th>Algorithm Name</th>\n",
       "      <th>Average Precision@k Score</th>\n",
       "      <th>Average Recall@k Score</th>\n",
       "    </tr>\n",
       "  </thead>\n",
       "  <tbody>\n",
       "    <tr>\n",
       "      <th>8</th>\n",
       "      <td>Basline Only</td>\n",
       "      <td>0.909319</td>\n",
       "      <td>0.862302</td>\n",
       "    </tr>\n",
       "    <tr>\n",
       "      <th>5</th>\n",
       "      <td>KNN Basic</td>\n",
       "      <td>0.901041</td>\n",
       "      <td>0.854036</td>\n",
       "    </tr>\n",
       "    <tr>\n",
       "      <th>10</th>\n",
       "      <td>KNN Baseline_Cosine</td>\n",
       "      <td>0.905999</td>\n",
       "      <td>0.852399</td>\n",
       "    </tr>\n",
       "    <tr>\n",
       "      <th>4</th>\n",
       "      <td>KNN Baseline</td>\n",
       "      <td>0.908539</td>\n",
       "      <td>0.850089</td>\n",
       "    </tr>\n",
       "    <tr>\n",
       "      <th>11</th>\n",
       "      <td>KNN Basic_Cosine</td>\n",
       "      <td>0.895532</td>\n",
       "      <td>0.848228</td>\n",
       "    </tr>\n",
       "    <tr>\n",
       "      <th>0</th>\n",
       "      <td>SVD</td>\n",
       "      <td>0.909108</td>\n",
       "      <td>0.845995</td>\n",
       "    </tr>\n",
       "    <tr>\n",
       "      <th>13</th>\n",
       "      <td>KNN with Z-Score_Cosine</td>\n",
       "      <td>0.894589</td>\n",
       "      <td>0.827692</td>\n",
       "    </tr>\n",
       "    <tr>\n",
       "      <th>7</th>\n",
       "      <td>KNN with Z-Score</td>\n",
       "      <td>0.896743</td>\n",
       "      <td>0.826443</td>\n",
       "    </tr>\n",
       "    <tr>\n",
       "      <th>12</th>\n",
       "      <td>KNN with Means_Cosine</td>\n",
       "      <td>0.890518</td>\n",
       "      <td>0.823206</td>\n",
       "    </tr>\n",
       "    <tr>\n",
       "      <th>6</th>\n",
       "      <td>KNN with Means</td>\n",
       "      <td>0.892933</td>\n",
       "      <td>0.823171</td>\n",
       "    </tr>\n",
       "    <tr>\n",
       "      <th>9</th>\n",
       "      <td>Co-clustering</td>\n",
       "      <td>0.893439</td>\n",
       "      <td>0.820467</td>\n",
       "    </tr>\n",
       "    <tr>\n",
       "      <th>1</th>\n",
       "      <td>Slope One</td>\n",
       "      <td>0.898290</td>\n",
       "      <td>0.815146</td>\n",
       "    </tr>\n",
       "    <tr>\n",
       "      <th>3</th>\n",
       "      <td>Normal Predictor</td>\n",
       "      <td>0.800907</td>\n",
       "      <td>0.646443</td>\n",
       "    </tr>\n",
       "    <tr>\n",
       "      <th>2</th>\n",
       "      <td>Non-negative Matrix Factorization</td>\n",
       "      <td>0.407405</td>\n",
       "      <td>0.206775</td>\n",
       "    </tr>\n",
       "  </tbody>\n",
       "</table>\n",
       "</div>"
      ],
      "text/plain": [
       "                       Algorithm Name  Average Precision@k Score  \\\n",
       "8                        Basline Only                   0.909319   \n",
       "5                           KNN Basic                   0.901041   \n",
       "10                KNN Baseline_Cosine                   0.905999   \n",
       "4                        KNN Baseline                   0.908539   \n",
       "11                   KNN Basic_Cosine                   0.895532   \n",
       "0                                 SVD                   0.909108   \n",
       "13            KNN with Z-Score_Cosine                   0.894589   \n",
       "7                    KNN with Z-Score                   0.896743   \n",
       "12              KNN with Means_Cosine                   0.890518   \n",
       "6                      KNN with Means                   0.892933   \n",
       "9                       Co-clustering                   0.893439   \n",
       "1                           Slope One                   0.898290   \n",
       "3                    Normal Predictor                   0.800907   \n",
       "2   Non-negative Matrix Factorization                   0.407405   \n",
       "\n",
       "    Average Recall@k Score  \n",
       "8                 0.862302  \n",
       "5                 0.854036  \n",
       "10                0.852399  \n",
       "4                 0.850089  \n",
       "11                0.848228  \n",
       "0                 0.845995  \n",
       "13                0.827692  \n",
       "7                 0.826443  \n",
       "12                0.823206  \n",
       "6                 0.823171  \n",
       "9                 0.820467  \n",
       "1                 0.815146  \n",
       "3                 0.646443  \n",
       "2                 0.206775  "
      ]
     },
     "execution_count": 93,
     "metadata": {},
     "output_type": "execute_result"
    }
   ],
   "source": [
    "calculate_precision_recall(k = 10, threshold = 7, splits = 5)"
   ]
  },
  {
   "cell_type": "markdown",
   "id": "10b98022",
   "metadata": {},
   "source": [
    "**Observation:** Function is working as intended as the results are the same as above."
   ]
  },
  {
   "cell_type": "code",
   "execution_count": 94,
   "id": "87538709",
   "metadata": {},
   "outputs": [
    {
     "name": "stderr",
     "output_type": "stream",
     "text": [
      "  7%|█████▉                                                                             | 1/14 [01:01<13:15, 61.17s/it]<ipython-input-92-98dc9d4b62ba>:12: DeprecationWarning: `np.int` is a deprecated alias for the builtin `int`. To silence this warning, use `int` by itself. Doing this will not modify any behavior and is safe. When replacing `np.int`, you may wish to use e.g. `np.int64` or `np.int32` to specify the precision. If you wish to review your current use, check the release note link for additional information.\n",
      "Deprecated in NumPy 1.20; for more details and guidance: https://numpy.org/devdocs/release/1.20.0-notes.html#deprecations\n",
      "  algo.fit(trainset)\n",
      " 29%|███████████████████████▋                                                           | 4/14 [02:42<05:49, 34.99s/it]"
     ]
    },
    {
     "name": "stdout",
     "output_type": "stream",
     "text": [
      "Estimating biases using als...\n",
      "Computing the msd similarity matrix...\n",
      "Done computing similarity matrix.\n",
      "Estimating biases using als...\n",
      "Computing the msd similarity matrix...\n",
      "Done computing similarity matrix.\n",
      "Estimating biases using als...\n",
      "Computing the msd similarity matrix...\n",
      "Done computing similarity matrix.\n",
      "Estimating biases using als...\n",
      "Computing the msd similarity matrix...\n",
      "Done computing similarity matrix.\n",
      "Estimating biases using als...\n",
      "Computing the msd similarity matrix...\n",
      "Done computing similarity matrix.\n"
     ]
    },
    {
     "name": "stderr",
     "output_type": "stream",
     "text": [
      "\r",
      " 36%|█████████████████████████████▋                                                     | 5/14 [05:12<11:27, 76.41s/it]"
     ]
    },
    {
     "name": "stdout",
     "output_type": "stream",
     "text": [
      "Computing the msd similarity matrix...\n",
      "Done computing similarity matrix.\n",
      "Computing the msd similarity matrix...\n",
      "Done computing similarity matrix.\n",
      "Computing the msd similarity matrix...\n",
      "Done computing similarity matrix.\n",
      "Computing the msd similarity matrix...\n",
      "Done computing similarity matrix.\n",
      "Computing the msd similarity matrix...\n",
      "Done computing similarity matrix.\n"
     ]
    },
    {
     "name": "stderr",
     "output_type": "stream",
     "text": [
      "\r",
      " 43%|███████████████████████████████████▌                                               | 6/14 [07:30<13:01, 97.66s/it]"
     ]
    },
    {
     "name": "stdout",
     "output_type": "stream",
     "text": [
      "Computing the msd similarity matrix...\n",
      "Done computing similarity matrix.\n",
      "Computing the msd similarity matrix...\n",
      "Done computing similarity matrix.\n",
      "Computing the msd similarity matrix...\n",
      "Done computing similarity matrix.\n",
      "Computing the msd similarity matrix...\n",
      "Done computing similarity matrix.\n",
      "Computing the msd similarity matrix...\n",
      "Done computing similarity matrix.\n"
     ]
    },
    {
     "name": "stderr",
     "output_type": "stream",
     "text": [
      "\r",
      " 50%|█████████████████████████████████████████                                         | 7/14 [09:53<13:06, 112.41s/it]"
     ]
    },
    {
     "name": "stdout",
     "output_type": "stream",
     "text": [
      "Computing the msd similarity matrix...\n",
      "Done computing similarity matrix.\n",
      "Computing the msd similarity matrix...\n",
      "Done computing similarity matrix.\n",
      "Computing the msd similarity matrix...\n",
      "Done computing similarity matrix.\n",
      "Computing the msd similarity matrix...\n",
      "Done computing similarity matrix.\n",
      "Computing the msd similarity matrix...\n",
      "Done computing similarity matrix.\n"
     ]
    },
    {
     "name": "stderr",
     "output_type": "stream",
     "text": [
      "\r",
      " 57%|██████████████████████████████████████████████▊                                   | 8/14 [12:21<12:21, 123.65s/it]"
     ]
    },
    {
     "name": "stdout",
     "output_type": "stream",
     "text": [
      "Estimating biases using als...\n",
      "Estimating biases using als...\n",
      "Estimating biases using als...\n",
      "Estimating biases using als...\n",
      "Estimating biases using als...\n"
     ]
    },
    {
     "name": "stderr",
     "output_type": "stream",
     "text": [
      " 71%|█████████████████████████████████████████████████████████▊                       | 10/14 [29:17<24:46, 371.74s/it]"
     ]
    },
    {
     "name": "stdout",
     "output_type": "stream",
     "text": [
      "Estimating biases using als...\n",
      "Computing the cosine similarity matrix...\n",
      "Done computing similarity matrix.\n",
      "Estimating biases using als...\n",
      "Computing the cosine similarity matrix...\n",
      "Done computing similarity matrix.\n",
      "Estimating biases using als...\n",
      "Computing the cosine similarity matrix...\n",
      "Done computing similarity matrix.\n",
      "Estimating biases using als...\n",
      "Computing the cosine similarity matrix...\n",
      "Done computing similarity matrix.\n",
      "Estimating biases using als...\n",
      "Computing the cosine similarity matrix...\n",
      "Done computing similarity matrix.\n"
     ]
    },
    {
     "name": "stderr",
     "output_type": "stream",
     "text": [
      "\r",
      " 79%|███████████████████████████████████████████████████████████████▋                 | 11/14 [33:37<16:52, 337.41s/it]"
     ]
    },
    {
     "name": "stdout",
     "output_type": "stream",
     "text": [
      "Computing the cosine similarity matrix...\n",
      "Done computing similarity matrix.\n",
      "Computing the cosine similarity matrix...\n",
      "Done computing similarity matrix.\n",
      "Computing the cosine similarity matrix...\n",
      "Done computing similarity matrix.\n",
      "Computing the cosine similarity matrix...\n",
      "Done computing similarity matrix.\n",
      "Computing the cosine similarity matrix...\n",
      "Done computing similarity matrix.\n"
     ]
    },
    {
     "name": "stderr",
     "output_type": "stream",
     "text": [
      "\r",
      " 86%|█████████████████████████████████████████████████████████████████████▍           | 12/14 [37:41<10:17, 308.87s/it]"
     ]
    },
    {
     "name": "stdout",
     "output_type": "stream",
     "text": [
      "Computing the cosine similarity matrix...\n",
      "Done computing similarity matrix.\n",
      "Computing the cosine similarity matrix...\n",
      "Done computing similarity matrix.\n",
      "Computing the cosine similarity matrix...\n",
      "Done computing similarity matrix.\n",
      "Computing the cosine similarity matrix...\n",
      "Done computing similarity matrix.\n",
      "Computing the cosine similarity matrix...\n",
      "Done computing similarity matrix.\n"
     ]
    },
    {
     "name": "stderr",
     "output_type": "stream",
     "text": [
      "\r",
      " 93%|███████████████████████████████████████████████████████████████████████████▏     | 13/14 [42:04<04:54, 294.97s/it]"
     ]
    },
    {
     "name": "stdout",
     "output_type": "stream",
     "text": [
      "Computing the cosine similarity matrix...\n",
      "Done computing similarity matrix.\n",
      "Computing the cosine similarity matrix...\n",
      "Done computing similarity matrix.\n",
      "Computing the cosine similarity matrix...\n",
      "Done computing similarity matrix.\n",
      "Computing the cosine similarity matrix...\n",
      "Done computing similarity matrix.\n",
      "Computing the cosine similarity matrix...\n",
      "Done computing similarity matrix.\n"
     ]
    },
    {
     "name": "stderr",
     "output_type": "stream",
     "text": [
      "100%|█████████████████████████████████████████████████████████████████████████████████| 14/14 [46:15<00:00, 198.24s/it]\n"
     ]
    },
    {
     "data": {
      "text/html": [
       "<div>\n",
       "<style scoped>\n",
       "    .dataframe tbody tr th:only-of-type {\n",
       "        vertical-align: middle;\n",
       "    }\n",
       "\n",
       "    .dataframe tbody tr th {\n",
       "        vertical-align: top;\n",
       "    }\n",
       "\n",
       "    .dataframe thead th {\n",
       "        text-align: right;\n",
       "    }\n",
       "</style>\n",
       "<table border=\"1\" class=\"dataframe\">\n",
       "  <thead>\n",
       "    <tr style=\"text-align: right;\">\n",
       "      <th></th>\n",
       "      <th>Algorithm Name</th>\n",
       "      <th>Average Precision@k Score</th>\n",
       "      <th>Average Recall@k Score</th>\n",
       "    </tr>\n",
       "  </thead>\n",
       "  <tbody>\n",
       "    <tr>\n",
       "      <th>4</th>\n",
       "      <td>KNN Baseline</td>\n",
       "      <td>0.738545</td>\n",
       "      <td>0.620793</td>\n",
       "    </tr>\n",
       "    <tr>\n",
       "      <th>0</th>\n",
       "      <td>SVD</td>\n",
       "      <td>0.734596</td>\n",
       "      <td>0.612717</td>\n",
       "    </tr>\n",
       "    <tr>\n",
       "      <th>8</th>\n",
       "      <td>Basline Only</td>\n",
       "      <td>0.735769</td>\n",
       "      <td>0.611244</td>\n",
       "    </tr>\n",
       "    <tr>\n",
       "      <th>10</th>\n",
       "      <td>KNN Baseline_Cosine</td>\n",
       "      <td>0.729246</td>\n",
       "      <td>0.608770</td>\n",
       "    </tr>\n",
       "    <tr>\n",
       "      <th>5</th>\n",
       "      <td>KNN Basic</td>\n",
       "      <td>0.709247</td>\n",
       "      <td>0.599862</td>\n",
       "    </tr>\n",
       "    <tr>\n",
       "      <th>9</th>\n",
       "      <td>Co-clustering</td>\n",
       "      <td>0.682340</td>\n",
       "      <td>0.597335</td>\n",
       "    </tr>\n",
       "    <tr>\n",
       "      <th>7</th>\n",
       "      <td>KNN with Z-Score</td>\n",
       "      <td>0.680021</td>\n",
       "      <td>0.596183</td>\n",
       "    </tr>\n",
       "    <tr>\n",
       "      <th>13</th>\n",
       "      <td>KNN with Z-Score_Cosine</td>\n",
       "      <td>0.669334</td>\n",
       "      <td>0.587712</td>\n",
       "    </tr>\n",
       "    <tr>\n",
       "      <th>6</th>\n",
       "      <td>KNN with Means</td>\n",
       "      <td>0.670122</td>\n",
       "      <td>0.586698</td>\n",
       "    </tr>\n",
       "    <tr>\n",
       "      <th>12</th>\n",
       "      <td>KNN with Means_Cosine</td>\n",
       "      <td>0.661233</td>\n",
       "      <td>0.577683</td>\n",
       "    </tr>\n",
       "    <tr>\n",
       "      <th>1</th>\n",
       "      <td>Slope One</td>\n",
       "      <td>0.694218</td>\n",
       "      <td>0.571743</td>\n",
       "    </tr>\n",
       "    <tr>\n",
       "      <th>11</th>\n",
       "      <td>KNN Basic_Cosine</td>\n",
       "      <td>0.672815</td>\n",
       "      <td>0.562721</td>\n",
       "    </tr>\n",
       "    <tr>\n",
       "      <th>3</th>\n",
       "      <td>Normal Predictor</td>\n",
       "      <td>0.555093</td>\n",
       "      <td>0.414349</td>\n",
       "    </tr>\n",
       "    <tr>\n",
       "      <th>2</th>\n",
       "      <td>Non-negative Matrix Factorization</td>\n",
       "      <td>0.053691</td>\n",
       "      <td>0.020627</td>\n",
       "    </tr>\n",
       "  </tbody>\n",
       "</table>\n",
       "</div>"
      ],
      "text/plain": [
       "                       Algorithm Name  Average Precision@k Score  \\\n",
       "4                        KNN Baseline                   0.738545   \n",
       "0                                 SVD                   0.734596   \n",
       "8                        Basline Only                   0.735769   \n",
       "10                KNN Baseline_Cosine                   0.729246   \n",
       "5                           KNN Basic                   0.709247   \n",
       "9                       Co-clustering                   0.682340   \n",
       "7                    KNN with Z-Score                   0.680021   \n",
       "13            KNN with Z-Score_Cosine                   0.669334   \n",
       "6                      KNN with Means                   0.670122   \n",
       "12              KNN with Means_Cosine                   0.661233   \n",
       "1                           Slope One                   0.694218   \n",
       "11                   KNN Basic_Cosine                   0.672815   \n",
       "3                    Normal Predictor                   0.555093   \n",
       "2   Non-negative Matrix Factorization                   0.053691   \n",
       "\n",
       "    Average Recall@k Score  \n",
       "4                 0.620793  \n",
       "0                 0.612717  \n",
       "8                 0.611244  \n",
       "10                0.608770  \n",
       "5                 0.599862  \n",
       "9                 0.597335  \n",
       "7                 0.596183  \n",
       "13                0.587712  \n",
       "6                 0.586698  \n",
       "12                0.577683  \n",
       "1                 0.571743  \n",
       "11                0.562721  \n",
       "3                 0.414349  \n",
       "2                 0.020627  "
      ]
     },
     "execution_count": 94,
     "metadata": {},
     "output_type": "execute_result"
    }
   ],
   "source": [
    "calculate_precision_recall(k = 10, threshold = 8, splits = 5)"
   ]
  },
  {
   "cell_type": "code",
   "execution_count": 95,
   "id": "228110c0",
   "metadata": {},
   "outputs": [
    {
     "name": "stderr",
     "output_type": "stream",
     "text": [
      "  7%|█████▉                                                                             | 1/14 [00:59<12:50, 59.26s/it]<ipython-input-92-98dc9d4b62ba>:12: DeprecationWarning: `np.int` is a deprecated alias for the builtin `int`. To silence this warning, use `int` by itself. Doing this will not modify any behavior and is safe. When replacing `np.int`, you may wish to use e.g. `np.int64` or `np.int32` to specify the precision. If you wish to review your current use, check the release note link for additional information.\n",
      "Deprecated in NumPy 1.20; for more details and guidance: https://numpy.org/devdocs/release/1.20.0-notes.html#deprecations\n",
      "  algo.fit(trainset)\n",
      " 29%|███████████████████████▋                                                           | 4/14 [02:38<05:42, 34.29s/it]"
     ]
    },
    {
     "name": "stdout",
     "output_type": "stream",
     "text": [
      "Estimating biases using als...\n",
      "Computing the msd similarity matrix...\n",
      "Done computing similarity matrix.\n",
      "Estimating biases using als...\n",
      "Computing the msd similarity matrix...\n",
      "Done computing similarity matrix.\n",
      "Estimating biases using als...\n",
      "Computing the msd similarity matrix...\n",
      "Done computing similarity matrix.\n",
      "Estimating biases using als...\n",
      "Computing the msd similarity matrix...\n",
      "Done computing similarity matrix.\n",
      "Estimating biases using als...\n",
      "Computing the msd similarity matrix...\n",
      "Done computing similarity matrix.\n"
     ]
    },
    {
     "name": "stderr",
     "output_type": "stream",
     "text": [
      "\r",
      " 36%|█████████████████████████████▋                                                     | 5/14 [05:06<11:18, 75.34s/it]"
     ]
    },
    {
     "name": "stdout",
     "output_type": "stream",
     "text": [
      "Computing the msd similarity matrix...\n",
      "Done computing similarity matrix.\n",
      "Computing the msd similarity matrix...\n",
      "Done computing similarity matrix.\n",
      "Computing the msd similarity matrix...\n",
      "Done computing similarity matrix.\n",
      "Computing the msd similarity matrix...\n",
      "Done computing similarity matrix.\n",
      "Computing the msd similarity matrix...\n",
      "Done computing similarity matrix.\n"
     ]
    },
    {
     "name": "stderr",
     "output_type": "stream",
     "text": [
      "\r",
      " 43%|███████████████████████████████████▌                                               | 6/14 [07:23<12:49, 96.17s/it]"
     ]
    },
    {
     "name": "stdout",
     "output_type": "stream",
     "text": [
      "Computing the msd similarity matrix...\n",
      "Done computing similarity matrix.\n",
      "Computing the msd similarity matrix...\n",
      "Done computing similarity matrix.\n",
      "Computing the msd similarity matrix...\n",
      "Done computing similarity matrix.\n",
      "Computing the msd similarity matrix...\n",
      "Done computing similarity matrix.\n",
      "Computing the msd similarity matrix...\n",
      "Done computing similarity matrix.\n"
     ]
    },
    {
     "name": "stderr",
     "output_type": "stream",
     "text": [
      "\r",
      " 50%|█████████████████████████████████████████                                         | 7/14 [09:45<12:58, 111.25s/it]"
     ]
    },
    {
     "name": "stdout",
     "output_type": "stream",
     "text": [
      "Computing the msd similarity matrix...\n",
      "Done computing similarity matrix.\n",
      "Computing the msd similarity matrix...\n",
      "Done computing similarity matrix.\n",
      "Computing the msd similarity matrix...\n",
      "Done computing similarity matrix.\n",
      "Computing the msd similarity matrix...\n",
      "Done computing similarity matrix.\n",
      "Computing the msd similarity matrix...\n"
     ]
    },
    {
     "name": "stderr",
     "output_type": "stream",
     "text": [
      "\r",
      " 57%|██████████████████████████████████████████████▊                                   | 8/14 [12:30<12:50, 128.47s/it]"
     ]
    },
    {
     "name": "stdout",
     "output_type": "stream",
     "text": [
      "Done computing similarity matrix.\n",
      "Estimating biases using als...\n",
      "Estimating biases using als...\n",
      "Estimating biases using als...\n",
      "Estimating biases using als...\n",
      "Estimating biases using als...\n"
     ]
    },
    {
     "name": "stderr",
     "output_type": "stream",
     "text": [
      " 71%|██████████████████████████████████████████████████████████▌                       | 10/14 [13:19<05:00, 75.20s/it]"
     ]
    },
    {
     "name": "stdout",
     "output_type": "stream",
     "text": [
      "Estimating biases using als...\n",
      "Computing the cosine similarity matrix...\n",
      "Done computing similarity matrix.\n",
      "Estimating biases using als...\n",
      "Computing the cosine similarity matrix...\n",
      "Done computing similarity matrix.\n",
      "Estimating biases using als...\n",
      "Computing the cosine similarity matrix...\n",
      "Done computing similarity matrix.\n",
      "Estimating biases using als...\n",
      "Computing the cosine similarity matrix...\n",
      "Done computing similarity matrix.\n",
      "Estimating biases using als...\n",
      "Computing the cosine similarity matrix...\n",
      "Done computing similarity matrix.\n"
     ]
    },
    {
     "name": "stderr",
     "output_type": "stream",
     "text": [
      "\r",
      " 79%|███████████████████████████████████████████████████████████████▋                 | 11/14 [18:12<07:05, 141.82s/it]"
     ]
    },
    {
     "name": "stdout",
     "output_type": "stream",
     "text": [
      "Computing the cosine similarity matrix...\n",
      "Done computing similarity matrix.\n",
      "Computing the cosine similarity matrix...\n",
      "Done computing similarity matrix.\n",
      "Computing the cosine similarity matrix...\n",
      "Done computing similarity matrix.\n",
      "Computing the cosine similarity matrix...\n",
      "Done computing similarity matrix.\n",
      "Computing the cosine similarity matrix...\n",
      "Done computing similarity matrix.\n"
     ]
    },
    {
     "name": "stderr",
     "output_type": "stream",
     "text": [
      "\r",
      " 86%|█████████████████████████████████████████████████████████████████████▍           | 12/14 [22:52<06:07, 183.78s/it]"
     ]
    },
    {
     "name": "stdout",
     "output_type": "stream",
     "text": [
      "Computing the cosine similarity matrix...\n",
      "Done computing similarity matrix.\n",
      "Computing the cosine similarity matrix...\n",
      "Done computing similarity matrix.\n",
      "Computing the cosine similarity matrix...\n",
      "Done computing similarity matrix.\n",
      "Computing the cosine similarity matrix...\n",
      "Done computing similarity matrix.\n",
      "Computing the cosine similarity matrix...\n",
      "Done computing similarity matrix.\n"
     ]
    },
    {
     "name": "stderr",
     "output_type": "stream",
     "text": [
      "\r",
      " 93%|███████████████████████████████████████████████████████████████████████████▏     | 13/14 [27:33<03:33, 213.17s/it]"
     ]
    },
    {
     "name": "stdout",
     "output_type": "stream",
     "text": [
      "Computing the cosine similarity matrix...\n",
      "Done computing similarity matrix.\n",
      "Computing the cosine similarity matrix...\n",
      "Done computing similarity matrix.\n",
      "Computing the cosine similarity matrix...\n",
      "Done computing similarity matrix.\n",
      "Computing the cosine similarity matrix...\n",
      "Done computing similarity matrix.\n",
      "Computing the cosine similarity matrix...\n",
      "Done computing similarity matrix.\n"
     ]
    },
    {
     "name": "stderr",
     "output_type": "stream",
     "text": [
      "100%|█████████████████████████████████████████████████████████████████████████████████| 14/14 [32:16<00:00, 138.29s/it]\n"
     ]
    },
    {
     "data": {
      "text/html": [
       "<div>\n",
       "<style scoped>\n",
       "    .dataframe tbody tr th:only-of-type {\n",
       "        vertical-align: middle;\n",
       "    }\n",
       "\n",
       "    .dataframe tbody tr th {\n",
       "        vertical-align: top;\n",
       "    }\n",
       "\n",
       "    .dataframe thead th {\n",
       "        text-align: right;\n",
       "    }\n",
       "</style>\n",
       "<table border=\"1\" class=\"dataframe\">\n",
       "  <thead>\n",
       "    <tr style=\"text-align: right;\">\n",
       "      <th></th>\n",
       "      <th>Algorithm Name</th>\n",
       "      <th>Average Precision@k Score</th>\n",
       "      <th>Average Recall@k Score</th>\n",
       "    </tr>\n",
       "  </thead>\n",
       "  <tbody>\n",
       "    <tr>\n",
       "      <th>9</th>\n",
       "      <td>Co-clustering</td>\n",
       "      <td>0.341249</td>\n",
       "      <td>0.276210</td>\n",
       "    </tr>\n",
       "    <tr>\n",
       "      <th>6</th>\n",
       "      <td>KNN with Means</td>\n",
       "      <td>0.304150</td>\n",
       "      <td>0.249917</td>\n",
       "    </tr>\n",
       "    <tr>\n",
       "      <th>7</th>\n",
       "      <td>KNN with Z-Score</td>\n",
       "      <td>0.300952</td>\n",
       "      <td>0.243792</td>\n",
       "    </tr>\n",
       "    <tr>\n",
       "      <th>12</th>\n",
       "      <td>KNN with Means_Cosine</td>\n",
       "      <td>0.294070</td>\n",
       "      <td>0.238788</td>\n",
       "    </tr>\n",
       "    <tr>\n",
       "      <th>1</th>\n",
       "      <td>Slope One</td>\n",
       "      <td>0.334473</td>\n",
       "      <td>0.236897</td>\n",
       "    </tr>\n",
       "    <tr>\n",
       "      <th>13</th>\n",
       "      <td>KNN with Z-Score_Cosine</td>\n",
       "      <td>0.286146</td>\n",
       "      <td>0.232402</td>\n",
       "    </tr>\n",
       "    <tr>\n",
       "      <th>0</th>\n",
       "      <td>SVD</td>\n",
       "      <td>0.303585</td>\n",
       "      <td>0.186566</td>\n",
       "    </tr>\n",
       "    <tr>\n",
       "      <th>3</th>\n",
       "      <td>Normal Predictor</td>\n",
       "      <td>0.257094</td>\n",
       "      <td>0.183974</td>\n",
       "    </tr>\n",
       "    <tr>\n",
       "      <th>4</th>\n",
       "      <td>KNN Baseline</td>\n",
       "      <td>0.285128</td>\n",
       "      <td>0.172828</td>\n",
       "    </tr>\n",
       "    <tr>\n",
       "      <th>10</th>\n",
       "      <td>KNN Baseline_Cosine</td>\n",
       "      <td>0.256682</td>\n",
       "      <td>0.146398</td>\n",
       "    </tr>\n",
       "    <tr>\n",
       "      <th>5</th>\n",
       "      <td>KNN Basic</td>\n",
       "      <td>0.262405</td>\n",
       "      <td>0.135293</td>\n",
       "    </tr>\n",
       "    <tr>\n",
       "      <th>8</th>\n",
       "      <td>Basline Only</td>\n",
       "      <td>0.238302</td>\n",
       "      <td>0.129471</td>\n",
       "    </tr>\n",
       "    <tr>\n",
       "      <th>11</th>\n",
       "      <td>KNN Basic_Cosine</td>\n",
       "      <td>0.188224</td>\n",
       "      <td>0.093850</td>\n",
       "    </tr>\n",
       "    <tr>\n",
       "      <th>2</th>\n",
       "      <td>Non-negative Matrix Factorization</td>\n",
       "      <td>0.002927</td>\n",
       "      <td>0.001148</td>\n",
       "    </tr>\n",
       "  </tbody>\n",
       "</table>\n",
       "</div>"
      ],
      "text/plain": [
       "                       Algorithm Name  Average Precision@k Score  \\\n",
       "9                       Co-clustering                   0.341249   \n",
       "6                      KNN with Means                   0.304150   \n",
       "7                    KNN with Z-Score                   0.300952   \n",
       "12              KNN with Means_Cosine                   0.294070   \n",
       "1                           Slope One                   0.334473   \n",
       "13            KNN with Z-Score_Cosine                   0.286146   \n",
       "0                                 SVD                   0.303585   \n",
       "3                    Normal Predictor                   0.257094   \n",
       "4                        KNN Baseline                   0.285128   \n",
       "10                KNN Baseline_Cosine                   0.256682   \n",
       "5                           KNN Basic                   0.262405   \n",
       "8                        Basline Only                   0.238302   \n",
       "11                   KNN Basic_Cosine                   0.188224   \n",
       "2   Non-negative Matrix Factorization                   0.002927   \n",
       "\n",
       "    Average Recall@k Score  \n",
       "9                 0.276210  \n",
       "6                 0.249917  \n",
       "7                 0.243792  \n",
       "12                0.238788  \n",
       "1                 0.236897  \n",
       "13                0.232402  \n",
       "0                 0.186566  \n",
       "3                 0.183974  \n",
       "4                 0.172828  \n",
       "10                0.146398  \n",
       "5                 0.135293  \n",
       "8                 0.129471  \n",
       "11                0.093850  \n",
       "2                 0.001148  "
      ]
     },
     "execution_count": 95,
     "metadata": {},
     "output_type": "execute_result"
    }
   ],
   "source": [
    "calculate_precision_recall(k = 10, threshold = 9, splits = 5)"
   ]
  },
  {
   "cell_type": "markdown",
   "id": "5df9a9c3",
   "metadata": {},
   "source": [
    "**Data Shown:** 3 sets of results all based on k = 10 but varying thresholds of 7, 8 and 9 respectively. \n",
    "\n",
    "**Insights:** As expected, the results deprove as the threshold is continuously increased. Personally, I find 7 out of 10 to be a good enough score for a recommendation. Rather than choosing a model that performs less badly at a higher threshold, I want the best model at recommending a good enough manga title. Hence, I will be using the Baseline Only model that performed the best at threshold = 7. Its recall and precision scores are almost a whole 1% higher than the 2nd best model.\n",
    "\n",
    "The ML models vastly outperform the baseline random experiments model results."
   ]
  },
  {
   "cell_type": "code",
   "execution_count": null,
   "id": "13fb6702",
   "metadata": {},
   "outputs": [],
   "source": []
  }
 ],
 "metadata": {
  "kernelspec": {
   "display_name": "Python 3",
   "language": "python",
   "name": "python3"
  },
  "language_info": {
   "codemirror_mode": {
    "name": "ipython",
    "version": 3
   },
   "file_extension": ".py",
   "mimetype": "text/x-python",
   "name": "python",
   "nbconvert_exporter": "python",
   "pygments_lexer": "ipython3",
   "version": "3.8.8"
  }
 },
 "nbformat": 4,
 "nbformat_minor": 5
}
