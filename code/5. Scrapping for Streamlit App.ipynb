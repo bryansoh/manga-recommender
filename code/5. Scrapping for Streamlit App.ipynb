{
 "cells": [
  {
   "cell_type": "markdown",
   "id": "8ce77797",
   "metadata": {},
   "source": [
    "## 5. Scrapping for Streamlit App\n",
    "\n",
    "The end goal of the project is to build a streamlit app for a user to try out the recommender system.  \n",
    "For the modeling portion, scikit-surprise only required the username, manga title and user rating.  \n",
    "Hence, those were the only information collected during the initial scrapping.  \n",
    "However, to improve user experience on the streamlit app, it is better to display other relevant information about the manga title as well.  \n",
    "These include a cover image, synopsis and the manga title's specific url to MyAnimeList(MAL) where all information can be found.  \n",
    "Lastly, the manga title's specific MAL ID number is also scrapped. In case more information is needed, it can be fetched using the Jikan API by calling the specific ID number."
   ]
  },
  {
   "cell_type": "code",
   "execution_count": 1,
   "id": "cc5d6563",
   "metadata": {},
   "outputs": [],
   "source": [
    "import requests\n",
    "import pandas as pd\n",
    "from tqdm import tqdm\n",
    "from jikanpy import Jikan\n",
    "import time"
   ]
  },
  {
   "cell_type": "code",
   "execution_count": 2,
   "id": "ceac166c",
   "metadata": {},
   "outputs": [],
   "source": [
    "jikan = Jikan()"
   ]
  },
  {
   "cell_type": "code",
   "execution_count": 4,
   "id": "d7b3c120",
   "metadata": {},
   "outputs": [],
   "source": [
    "reading_no_zero_df = pd.read_csv('../data/reading_no_zero.csv')"
   ]
  },
  {
   "cell_type": "code",
   "execution_count": 12,
   "id": "fd4b0d6c",
   "metadata": {},
   "outputs": [
    {
     "name": "stderr",
     "output_type": "stream",
     "text": [
      "100%|███████████████████████████████████████████████████████████████████████████| 2907/2907 [18:16:42<00:00, 22.64s/it]\n"
     ]
    },
    {
     "data": {
      "text/plain": [
       "['Akaneiro ni Somaru Saka',\n",
       " 'Akaneiro ni Somaru Saka',\n",
       " 8897,\n",
       " 'https://myanimelist.net/manga/8897/Akaneiro_ni_Somaru_Saka',\n",
       " 'https://cdn.myanimelist.net/images/manga/1/111947.jpg?s=280debd0a4af45420cba296285f30288',\n",
       " \"Jun'ichi Nagase attends a prestigious high school. He has the nickname Geno Killer since he was rebellious in middle school. This is used, inadvertently, to help a girl named Yuuhi Katagiri from troub...\"]"
      ]
     },
     "execution_count": 12,
     "metadata": {},
     "output_type": "execute_result"
    }
   ],
   "source": [
    "title_list = reading_no_zero_df['item'].unique().tolist()\n",
    "#title_list = ['Ayashimon','Berserk']\n",
    "all_info = []\n",
    "for title in tqdm(title_list):\n",
    "    try:\n",
    "        title_info = []\n",
    "        dict = {}\n",
    "        dict = jikan.search('manga', title)\n",
    "        #search title\n",
    "        title_info.append(title)\n",
    "        #result title\n",
    "        title_info.append(dict['results'][0]['title'])\n",
    "        title_info.append(dict['results'][0]['mal_id'])\n",
    "        time.sleep(1)\n",
    "        title_info.append(dict['results'][0]['url'])\n",
    "        title_info.append(dict['results'][0]['image_url'])\n",
    "        title_info.append(dict['results'][0]['synopsis'])\n",
    "        all_info.append(title_info)\n",
    "        time.sleep(1)\n",
    "        all_info_df = pd.DataFrame(all_info)\n",
    "        all_info_df.to_csv('../data/all_info_final.csv', index = False)\n",
    "    except:\n",
    "        continue\n",
    "\n",
    "title_info"
   ]
  },
  {
   "cell_type": "code",
   "execution_count": 34,
   "id": "450699a9",
   "metadata": {},
   "outputs": [
    {
     "data": {
      "text/html": [
       "<div>\n",
       "<style scoped>\n",
       "    .dataframe tbody tr th:only-of-type {\n",
       "        vertical-align: middle;\n",
       "    }\n",
       "\n",
       "    .dataframe tbody tr th {\n",
       "        vertical-align: top;\n",
       "    }\n",
       "\n",
       "    .dataframe thead th {\n",
       "        text-align: right;\n",
       "    }\n",
       "</style>\n",
       "<table border=\"1\" class=\"dataframe\">\n",
       "  <thead>\n",
       "    <tr style=\"text-align: right;\">\n",
       "      <th></th>\n",
       "      <th>search title</th>\n",
       "      <th>result title</th>\n",
       "      <th>mal_id</th>\n",
       "      <th>url</th>\n",
       "      <th>image</th>\n",
       "      <th>synopsis</th>\n",
       "    </tr>\n",
       "  </thead>\n",
       "  <tbody>\n",
       "    <tr>\n",
       "      <th>0</th>\n",
       "      <td>20th Century Boys</td>\n",
       "      <td>20th Century Boys</td>\n",
       "      <td>3</td>\n",
       "      <td>https://myanimelist.net/manga/3/20th_Century_Boys</td>\n",
       "      <td>https://cdn.myanimelist.net/images/manga/1/544...</td>\n",
       "      <td>As the 20th century approaches its end, people...</td>\n",
       "    </tr>\n",
       "    <tr>\n",
       "      <th>1</th>\n",
       "      <td>Akumetsu</td>\n",
       "      <td>Akumetsu</td>\n",
       "      <td>1101</td>\n",
       "      <td>https://myanimelist.net/manga/1101/Akumetsu</td>\n",
       "      <td>https://cdn.myanimelist.net/images/manga/2/183...</td>\n",
       "      <td>Due to an economic downturn plaguing Japan, Sh...</td>\n",
       "    </tr>\n",
       "    <tr>\n",
       "      <th>2</th>\n",
       "      <td>Ayashimon</td>\n",
       "      <td>Ayashimon</td>\n",
       "      <td>141583</td>\n",
       "      <td>https://myanimelist.net/manga/141583/Ayashimon</td>\n",
       "      <td>https://cdn.myanimelist.net/images/manga/1/256...</td>\n",
       "      <td>Years ago, the death of the infamous Enma Synd...</td>\n",
       "    </tr>\n",
       "    <tr>\n",
       "      <th>3</th>\n",
       "      <td>Dandadan</td>\n",
       "      <td>Dandadan</td>\n",
       "      <td>135496</td>\n",
       "      <td>https://myanimelist.net/manga/135496/Dandadan</td>\n",
       "      <td>https://cdn.myanimelist.net/images/manga/2/248...</td>\n",
       "      <td>After being aggressively rejected, Momo Ayase ...</td>\n",
       "    </tr>\n",
       "    <tr>\n",
       "      <th>4</th>\n",
       "      <td>Jigokuraku</td>\n",
       "      <td>Jigokuraku</td>\n",
       "      <td>112318</td>\n",
       "      <td>https://myanimelist.net/manga/112318/Jigokuraku</td>\n",
       "      <td>https://cdn.myanimelist.net/images/manga/2/208...</td>\n",
       "      <td>Gabimaru the Hollow, a ninja of Iwagakure Vill...</td>\n",
       "    </tr>\n",
       "  </tbody>\n",
       "</table>\n",
       "</div>"
      ],
      "text/plain": [
       "        search title       result title  mal_id  \\\n",
       "0  20th Century Boys  20th Century Boys       3   \n",
       "1           Akumetsu           Akumetsu    1101   \n",
       "2          Ayashimon          Ayashimon  141583   \n",
       "3           Dandadan           Dandadan  135496   \n",
       "4         Jigokuraku         Jigokuraku  112318   \n",
       "\n",
       "                                                 url  \\\n",
       "0  https://myanimelist.net/manga/3/20th_Century_Boys   \n",
       "1        https://myanimelist.net/manga/1101/Akumetsu   \n",
       "2     https://myanimelist.net/manga/141583/Ayashimon   \n",
       "3      https://myanimelist.net/manga/135496/Dandadan   \n",
       "4    https://myanimelist.net/manga/112318/Jigokuraku   \n",
       "\n",
       "                                               image  \\\n",
       "0  https://cdn.myanimelist.net/images/manga/1/544...   \n",
       "1  https://cdn.myanimelist.net/images/manga/2/183...   \n",
       "2  https://cdn.myanimelist.net/images/manga/1/256...   \n",
       "3  https://cdn.myanimelist.net/images/manga/2/248...   \n",
       "4  https://cdn.myanimelist.net/images/manga/2/208...   \n",
       "\n",
       "                                            synopsis  \n",
       "0  As the 20th century approaches its end, people...  \n",
       "1  Due to an economic downturn plaguing Japan, Sh...  \n",
       "2  Years ago, the death of the infamous Enma Synd...  \n",
       "3  After being aggressively rejected, Momo Ayase ...  \n",
       "4  Gabimaru the Hollow, a ninja of Iwagakure Vill...  "
      ]
     },
     "execution_count": 34,
     "metadata": {},
     "output_type": "execute_result"
    }
   ],
   "source": [
    "all_info_df.rename(columns = {'0':'search title','1':'result title','2':'mal_id','3':'url','4':'image','5':'synopsis'}, inplace = True)\n",
    "all_info_df.head()"
   ]
  },
  {
   "cell_type": "code",
   "execution_count": 64,
   "id": "7aa43440",
   "metadata": {},
   "outputs": [],
   "source": [
    "all_info_df.to_csv('../data/all_info_final_2.csv', index = False)"
   ]
  },
  {
   "cell_type": "code",
   "execution_count": null,
   "id": "b364e2a9",
   "metadata": {},
   "outputs": [],
   "source": []
  }
 ],
 "metadata": {
  "kernelspec": {
   "display_name": "Python 3",
   "language": "python",
   "name": "python3"
  },
  "language_info": {
   "codemirror_mode": {
    "name": "ipython",
    "version": 3
   },
   "file_extension": ".py",
   "mimetype": "text/x-python",
   "name": "python",
   "nbconvert_exporter": "python",
   "pygments_lexer": "ipython3",
   "version": "3.8.8"
  }
 },
 "nbformat": 4,
 "nbformat_minor": 5
}
